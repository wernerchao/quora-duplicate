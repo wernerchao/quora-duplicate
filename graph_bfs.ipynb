{
 "cells": [
  {
   "cell_type": "code",
   "execution_count": 1,
   "metadata": {
    "collapsed": true
   },
   "outputs": [],
   "source": [
    "graph = {'A': set(['B', 'C']),\n",
    "         'B': set(['A', 'D', 'E']),\n",
    "         'C': set(['A', 'F']),\n",
    "         'D': set(['B']),\n",
    "         'E': set(['B', 'F']),\n",
    "         'F': set(['C', 'E'])}"
   ]
  },
  {
   "cell_type": "code",
   "execution_count": 2,
   "metadata": {},
   "outputs": [
    {
     "data": {
      "text/plain": [
       "{'A': {'B', 'C'},\n",
       " 'B': {'A', 'D', 'E'},\n",
       " 'C': {'A', 'F'},\n",
       " 'D': {'B'},\n",
       " 'E': {'B', 'F'},\n",
       " 'F': {'C', 'E'}}"
      ]
     },
     "execution_count": 2,
     "metadata": {},
     "output_type": "execute_result"
    }
   ],
   "source": [
    "graph"
   ]
  },
  {
   "cell_type": "code",
   "execution_count": 17,
   "metadata": {},
   "outputs": [
    {
     "data": {
      "text/plain": [
       "{'A', 'F'}"
      ]
     },
     "execution_count": 17,
     "metadata": {},
     "output_type": "execute_result"
    }
   ],
   "source": [
    "graph['C']"
   ]
  },
  {
   "cell_type": "code",
   "execution_count": 20,
   "metadata": {
    "collapsed": true
   },
   "outputs": [],
   "source": [
    "def bfs(graph, start):\n",
    "    visited = set()\n",
    "    queue = [start]\n",
    "    while queue:\n",
    "        vertex = queue.pop(0)\n",
    "        if vertex not in visited:\n",
    "            visited.add(vertex)\n",
    "            next_neighbour = graph[vertex]\n",
    "            next_in_line = next_neighbour - visited\n",
    "            \n",
    "            print 'vertex: ', vertex\n",
    "            print 'graph[vertex]: ', graph[vertex]\n",
    "            print 'visited: ', visited\n",
    "            print 'Subtract: ', graph[vertex] - visited\n",
    "            \n",
    "            print 'queue: ', queue\n",
    "            queue.extend(graph[vertex] - visited)\n",
    "            print 'extend: ', queue\n",
    "            print '\\n'"
   ]
  },
  {
   "cell_type": "code",
   "execution_count": 21,
   "metadata": {},
   "outputs": [
    {
     "name": "stdout",
     "output_type": "stream",
     "text": [
      "vertex:  A\n",
      "graph[vertex]:  set(['C', 'B'])\n",
      "visited:  set(['A'])\n",
      "Subtract:  set(['C', 'B'])\n",
      "queue:  []\n",
      "extend:  ['C', 'B']\n",
      "\n",
      "\n",
      "vertex:  C\n",
      "graph[vertex]:  set(['A', 'F'])\n",
      "visited:  set(['A', 'C'])\n",
      "Subtract:  set(['F'])\n",
      "queue:  ['B']\n",
      "extend:  ['B', 'F']\n",
      "\n",
      "\n",
      "vertex:  B\n",
      "graph[vertex]:  set(['A', 'E', 'D'])\n",
      "visited:  set(['A', 'C', 'B'])\n",
      "Subtract:  set(['E', 'D'])\n",
      "queue:  ['F']\n",
      "extend:  ['F', 'E', 'D']\n",
      "\n",
      "\n",
      "vertex:  F\n",
      "graph[vertex]:  set(['C', 'E'])\n",
      "visited:  set(['A', 'C', 'B', 'F'])\n",
      "Subtract:  set(['E'])\n",
      "queue:  ['E', 'D']\n",
      "extend:  ['E', 'D', 'E']\n",
      "\n",
      "\n",
      "vertex:  E\n",
      "graph[vertex]:  set(['B', 'F'])\n",
      "visited:  set(['A', 'C', 'B', 'E', 'F'])\n",
      "Subtract:  set([])\n",
      "queue:  ['D', 'E']\n",
      "extend:  ['D', 'E']\n",
      "\n",
      "\n",
      "vertex:  D\n",
      "graph[vertex]:  set(['B'])\n",
      "visited:  set(['A', 'C', 'B', 'E', 'D', 'F'])\n",
      "Subtract:  set([])\n",
      "queue:  ['E']\n",
      "extend:  ['E']\n",
      "\n",
      "\n"
     ]
    }
   ],
   "source": [
    "bfs(graph, 'A')"
   ]
  },
  {
   "cell_type": "code",
   "execution_count": null,
   "metadata": {
    "collapsed": true
   },
   "outputs": [],
   "source": []
  }
 ],
 "metadata": {
  "kernelspec": {
   "display_name": "Python 2",
   "language": "python",
   "name": "python2"
  },
  "language_info": {
   "codemirror_mode": {
    "name": "ipython",
    "version": 2
   },
   "file_extension": ".py",
   "mimetype": "text/x-python",
   "name": "python",
   "nbconvert_exporter": "python",
   "pygments_lexer": "ipython2",
   "version": "2.7.10"
  }
 },
 "nbformat": 4,
 "nbformat_minor": 2
}
