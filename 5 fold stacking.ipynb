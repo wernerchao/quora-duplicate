{
 "cells": [
  {
   "cell_type": "code",
   "execution_count": 120,
   "metadata": {
    "collapsed": true
   },
   "outputs": [],
   "source": [
    "%matplotlib inline\n",
    "\n",
    "import matplotlib.pyplot as plt\n",
    "import numpy as np\n",
    "import pandas as pd\n",
    "from sklearn.metrics import mean_squared_error\n",
    "from sklearn.linear_model import LogisticRegression\n",
    "from sklearn.model_selection import StratifiedKFold, validation_curve, cross_val_score\n",
    "from sklearn.metrics import log_loss\n",
    "from sklearn.preprocessing import MinMaxScaler"
   ]
  },
  {
   "cell_type": "code",
   "execution_count": 61,
   "metadata": {},
   "outputs": [],
   "source": [
    "def get_stack_data(name, yval=False):\n",
    "    if yval:\n",
    "        yval_string = 'yval_'\n",
    "    else:\n",
    "        yval_string = ''\n",
    "    fold_list = []\n",
    "    for i in range(1, 6, 1):\n",
    "        fold = pd.read_csv('./{}_stack/{}_{}fold_{}.csv'.format(name, name, yval_string, i)).as_matrix()\n",
    "        fold_list.append(fold)\n",
    "\n",
    "    return fold_list"
   ]
  },
  {
   "cell_type": "code",
   "execution_count": 102,
   "metadata": {},
   "outputs": [
    {
     "data": {
      "text/html": [
       "<div>\n",
       "<style>\n",
       "    .dataframe thead tr:only-child th {\n",
       "        text-align: right;\n",
       "    }\n",
       "\n",
       "    .dataframe thead th {\n",
       "        text-align: left;\n",
       "    }\n",
       "\n",
       "    .dataframe tbody tr th {\n",
       "        vertical-align: top;\n",
       "    }\n",
       "</style>\n",
       "<table border=\"1\" class=\"dataframe\">\n",
       "  <thead>\n",
       "    <tr style=\"text-align: right;\">\n",
       "      <th></th>\n",
       "      <th>rf_layer</th>\n",
       "    </tr>\n",
       "  </thead>\n",
       "  <tbody>\n",
       "    <tr>\n",
       "      <th>0</th>\n",
       "      <td>0.173048</td>\n",
       "    </tr>\n",
       "    <tr>\n",
       "      <th>1</th>\n",
       "      <td>0.405546</td>\n",
       "    </tr>\n",
       "    <tr>\n",
       "      <th>2</th>\n",
       "      <td>0.353978</td>\n",
       "    </tr>\n",
       "    <tr>\n",
       "      <th>3</th>\n",
       "      <td>0.396855</td>\n",
       "    </tr>\n",
       "    <tr>\n",
       "      <th>4</th>\n",
       "      <td>0.193455</td>\n",
       "    </tr>\n",
       "  </tbody>\n",
       "</table>\n",
       "</div>"
      ],
      "text/plain": [
       "   rf_layer\n",
       "0  0.173048\n",
       "1  0.405546\n",
       "2  0.353978\n",
       "3  0.396855\n",
       "4  0.193455"
      ]
     },
     "execution_count": 102,
     "metadata": {},
     "output_type": "execute_result"
    }
   ],
   "source": [
    "# Load RF Validation as Features for Layer 2.\n",
    "\n",
    "rf_stack = get_stack_data('rf')\n",
    "rf_stack = [x for item in rf_stack for x in item]\n",
    "rf_stack = pd.DataFrame(rf_stack).drop(0, axis=1)\n",
    "rf_stack.columns = ['rf_layer']\n",
    "rf_stack.head()"
   ]
  },
  {
   "cell_type": "code",
   "execution_count": 103,
   "metadata": {},
   "outputs": [
    {
     "data": {
      "text/html": [
       "<div>\n",
       "<style>\n",
       "    .dataframe thead tr:only-child th {\n",
       "        text-align: right;\n",
       "    }\n",
       "\n",
       "    .dataframe thead th {\n",
       "        text-align: left;\n",
       "    }\n",
       "\n",
       "    .dataframe tbody tr th {\n",
       "        vertical-align: top;\n",
       "    }\n",
       "</style>\n",
       "<table border=\"1\" class=\"dataframe\">\n",
       "  <thead>\n",
       "    <tr style=\"text-align: right;\">\n",
       "      <th></th>\n",
       "      <th>logit_layer</th>\n",
       "    </tr>\n",
       "  </thead>\n",
       "  <tbody>\n",
       "    <tr>\n",
       "      <th>0</th>\n",
       "      <td>0.173048</td>\n",
       "    </tr>\n",
       "    <tr>\n",
       "      <th>1</th>\n",
       "      <td>0.405546</td>\n",
       "    </tr>\n",
       "    <tr>\n",
       "      <th>2</th>\n",
       "      <td>0.353978</td>\n",
       "    </tr>\n",
       "    <tr>\n",
       "      <th>3</th>\n",
       "      <td>0.396855</td>\n",
       "    </tr>\n",
       "    <tr>\n",
       "      <th>4</th>\n",
       "      <td>0.193455</td>\n",
       "    </tr>\n",
       "  </tbody>\n",
       "</table>\n",
       "</div>"
      ],
      "text/plain": [
       "   logit_layer\n",
       "0     0.173048\n",
       "1     0.405546\n",
       "2     0.353978\n",
       "3     0.396855\n",
       "4     0.193455"
      ]
     },
     "execution_count": 103,
     "metadata": {},
     "output_type": "execute_result"
    }
   ],
   "source": [
    "# Load Logistic Regression Validation as Features for Layer 2.\n",
    "\n",
    "logit_stack = get_stack_data('logit')\n",
    "logit_stack = [x for item in logit_stack for x in item]\n",
    "logit_stack = pd.DataFrame(logit_stack).drop(0, axis=1)\n",
    "logit_stack.columns = ['logit_layer']\n",
    "logit_stack.head()"
   ]
  },
  {
   "cell_type": "code",
   "execution_count": 104,
   "metadata": {},
   "outputs": [
    {
     "data": {
      "text/html": [
       "<div>\n",
       "<style>\n",
       "    .dataframe thead tr:only-child th {\n",
       "        text-align: right;\n",
       "    }\n",
       "\n",
       "    .dataframe thead th {\n",
       "        text-align: left;\n",
       "    }\n",
       "\n",
       "    .dataframe tbody tr th {\n",
       "        vertical-align: top;\n",
       "    }\n",
       "</style>\n",
       "<table border=\"1\" class=\"dataframe\">\n",
       "  <thead>\n",
       "    <tr style=\"text-align: right;\">\n",
       "      <th></th>\n",
       "      <th>xgb_layer</th>\n",
       "    </tr>\n",
       "  </thead>\n",
       "  <tbody>\n",
       "    <tr>\n",
       "      <th>0</th>\n",
       "      <td>0.236785</td>\n",
       "    </tr>\n",
       "    <tr>\n",
       "      <th>1</th>\n",
       "      <td>0.402644</td>\n",
       "    </tr>\n",
       "    <tr>\n",
       "      <th>2</th>\n",
       "      <td>0.206003</td>\n",
       "    </tr>\n",
       "    <tr>\n",
       "      <th>3</th>\n",
       "      <td>0.749326</td>\n",
       "    </tr>\n",
       "    <tr>\n",
       "      <th>4</th>\n",
       "      <td>0.219142</td>\n",
       "    </tr>\n",
       "  </tbody>\n",
       "</table>\n",
       "</div>"
      ],
      "text/plain": [
       "   xgb_layer\n",
       "0   0.236785\n",
       "1   0.402644\n",
       "2   0.206003\n",
       "3   0.749326\n",
       "4   0.219142"
      ]
     },
     "execution_count": 104,
     "metadata": {},
     "output_type": "execute_result"
    }
   ],
   "source": [
    "# Load XGB Validation as Features for Layer 2.\n",
    "\n",
    "xgb_stack = get_stack_data('xgb')\n",
    "xgb_stack = [x for item in xgb_stack for x in item]\n",
    "xgb_stack = pd.DataFrame(xgb_stack).drop(0, axis=1)\n",
    "xgb_stack.columns = ['xgb_layer']\n",
    "xgb_stack.head()"
   ]
  },
  {
   "cell_type": "code",
   "execution_count": 101,
   "metadata": {},
   "outputs": [
    {
     "name": "stdout",
     "output_type": "stream",
     "text": [
      "0.0\n",
      "0.0\n",
      "0.0\n"
     ]
    }
   ],
   "source": [
    "# Sanity check to see if the y values match.\n",
    "\n",
    "y_rf_stack = get_stack_data('rf', True)\n",
    "y_rf_stack = [x for item in y_rf_stack for x in item]\n",
    "y_rf_stack = pd.DataFrame(y_rf_stack)\n",
    "y_rf_stack = pd.DataFrame(y_rf_stack).drop(0, axis=1)\n",
    "y_rf_stack.columns = ['rf_layer']\n",
    "\n",
    "y_rf_stack.head()\n",
    "y_logit_stack = get_stack_data('logit', True)\n",
    "y_logit_stack = [x for item in y_logit_stack for x in item]\n",
    "y_logit_stack = pd.DataFrame(y_logit_stack)\n",
    "y_logit_stack = pd.DataFrame(y_logit_stack).drop(0, axis=1)\n",
    "y_logit_stack.columns = ['logit_layer']\n",
    "\n",
    "y_xgb_stack = get_stack_data('xgb', True)\n",
    "y_xgb_stack = [x for item in y_xgb_stack for x in item]\n",
    "y_xgb_stack = pd.DataFrame(y_xgb_stack)\n",
    "y_xgb_stack = pd.DataFrame(y_xgb_stack).drop(0, axis=1)\n",
    "y_xgb_stack.columns = ['xgb_layer']\n",
    "\n",
    "print(mean_squared_error(y_rf_stack, y_logit_stack))\n",
    "print(mean_squared_error(y_xgb_stack, y_logit_stack))\n",
    "print(mean_squared_error(y_xgb_stack, y_rf_stack))"
   ]
  },
  {
   "cell_type": "code",
   "execution_count": 122,
   "metadata": {
    "collapsed": true
   },
   "outputs": [],
   "source": [
    "# Load Test Set.\n",
    "\n",
    "xgb_test = pd.read_csv('./xgb_stack/xgb_layer_1_test_whole_train_set.csv')\n",
    "rf_test = pd.read_csv('./rf_stack/rf_layer_1_test_50_8_5.csv')\n",
    "logit_test = pd.read_csv('./logit_stack/logit_layer_1_test_l2_sag_C15.csv')"
   ]
  },
  {
   "cell_type": "code",
   "execution_count": 81,
   "metadata": {
    "collapsed": true
   },
   "outputs": [],
   "source": [
    "def five_fold_train(x, y, model, name='model', folds=5):\n",
    "    ''' Function for Generate Five Fold Stacking Features '''\n",
    "    x_train_scaled = MinMaxScaler().fit_transform(x)\n",
    "    skf = StratifiedKFold(n_splits=5, random_state=None, shuffle=False)\n",
    "\n",
    "    fold_count = 1\n",
    "    for train_index, val_index in skf.split(x_train_scaled, y):\n",
    "        print('Folds: ', fold_count)\n",
    "\n",
    "        # Training...\n",
    "        logit.fit(x_train_scaled[train_index], y[train_index])\n",
    "\n",
    "        # Validating. Layer 2 training features...\n",
    "        val = logit.predict_proba(x_train_scaled[val_index])\n",
    "        val = pd.DataFrame(val).drop(0, axis=1)\n",
    "        y_val = y[val_index]\n",
    "\n",
    "        print('Validation Error: ', log_loss(y_val, val))\n",
    "        fold_count = fold_count + 1"
   ]
  },
  {
   "cell_type": "code",
   "execution_count": 117,
   "metadata": {
    "scrolled": true
   },
   "outputs": [
    {
     "name": "stdout",
     "output_type": "stream",
     "text": [
      "CPU times: user 22.3 s, sys: 3.14 s, total: 25.4 s\n",
      "Wall time: 25.8 s\n"
     ]
    }
   ],
   "source": [
    "%%time\n",
    "\n",
    "feats = pd.concat([rf_stack, logit_stack, xgb_stack], axis=1)\n",
    "logit_layer2 = LogisticRegression()\n",
    "train_scores, valid_scores = validation_curve(logit_layer2, \\\n",
    "                                              feats, \\\n",
    "                                              y_logit_stack['logit_layer'], \\\n",
    "                                              \"C\", \\\n",
    "                                              range(1, 200, 20), \\\n",
    "                                              cv=3, \\\n",
    "                                              scoring='neg_log_loss', \\\n",
    "                                              n_jobs=1)"
   ]
  },
  {
   "cell_type": "code",
   "execution_count": 147,
   "metadata": {
    "scrolled": true
   },
   "outputs": [
    {
     "name": "stdout",
     "output_type": "stream",
     "text": [
      "[-0.25735797 -0.25937247 -0.25824278]\n"
     ]
    },
    {
     "data": {
      "image/png": "[encoded data removed]",
      "text/plain": [
       "<matplotlib.figure.Figure at 0x1128ae898>"
      ]
     },
     "metadata": {},
     "output_type": "display_data"
    }
   ],
   "source": [
    "# Plot the learning curve from the above result.\n",
    "\n",
    "valid_scores_mean = -1*np.mean(valid_scores, axis=1)\n",
    "train_scores_mean = -1*np.mean(train_scores, axis=1)\n",
    "\n",
    "plt.figure(figsize=(16, 8))\n",
    "plt.plot(range(1, 200, 20), valid_scores_mean, label='valid')\n",
    "plt.plot(range(1, 200, 20), train_scores_mean, label='train')\n",
    "plt.title('Logistic Regression, C Value')\n",
    "\n",
    "plt.xlabel('C Value')\n",
    "plt.ylabel('Log Loss Error')\n",
    "plt.legend()\n",
    "print(cross_val_score(logit_layer2, feats, y_logit_stack['logit_layer'], scoring='neg_log_loss'))"
   ]
  },
  {
   "cell_type": "code",
   "execution_count": 130,
   "metadata": {},
   "outputs": [],
   "source": [
    "rf_test = rf_test.drop('test_id', axis=1)\n",
    "logit_test = logit_test.drop('test_id', axis=1)\n",
    "xgb_test = xgb_test.drop('test_id', axis=1)\n",
    "\n",
    "test_feats = pd.concat([rf_test, logit_test, xgb_test], axis=1)"
   ]
  },
  {
   "cell_type": "code",
   "execution_count": 144,
   "metadata": {
    "scrolled": true
   },
   "outputs": [
    {
     "name": "stderr",
     "output_type": "stream",
     "text": [
      "/Library/Frameworks/Python.framework/Versions/3.6/lib/python3.6/site-packages/sklearn/utils/validation.py:526: DataConversionWarning: A column-vector y was passed when a 1d array was expected. Please change the shape of y to (n_samples, ), for example using ravel().\n",
      "  y = column_or_1d(y, warn=True)\n"
     ]
    },
    {
     "data": {
      "text/plain": [
       "0          0.027331\n",
       "1          0.474785\n",
       "2          0.077004\n",
       "3          0.026392\n",
       "4          0.090421\n",
       "5          0.027889\n",
       "6          0.982213\n",
       "7          0.083253\n",
       "8          0.285657\n",
       "9          0.026192\n",
       "10         0.356719\n",
       "11         0.025623\n",
       "12         0.025513\n",
       "13         0.111605\n",
       "14         0.034936\n",
       "15         0.050272\n",
       "16         0.026142\n",
       "17         0.561478\n",
       "18         0.229208\n",
       "19         0.190768\n",
       "20         0.025455\n",
       "21         0.027225\n",
       "22         0.026179\n",
       "23         0.031591\n",
       "24         0.026215\n",
       "25         0.125581\n",
       "26         0.025828\n",
       "27         0.027737\n",
       "28         0.070751\n",
       "29         0.025809\n",
       "             ...   \n",
       "2345766    0.025546\n",
       "2345767    0.026185\n",
       "2345768    0.037658\n",
       "2345769    0.025615\n",
       "2345770    0.070597\n",
       "2345771    0.819331\n",
       "2345772    0.239695\n",
       "2345773    0.039038\n",
       "2345774    0.027787\n",
       "2345775    0.219663\n",
       "2345776    0.053693\n",
       "2345777    0.045960\n",
       "2345778    0.026227\n",
       "2345779    0.027550\n",
       "2345780    0.026035\n",
       "2345781    0.084529\n",
       "2345782    0.085068\n",
       "2345783    0.025432\n",
       "2345784    0.131477\n",
       "2345785    0.025855\n",
       "2345786    0.026970\n",
       "2345787    0.025793\n",
       "2345788    0.026732\n",
       "2345789    0.025427\n",
       "2345790    0.025740\n",
       "2345791    0.025836\n",
       "2345792    0.026975\n",
       "2345793    0.025785\n",
       "2345794    0.314019\n",
       "2345795    0.046259\n",
       "Name: 1, Length: 2345796, dtype: float64"
      ]
     },
     "execution_count": 144,
     "metadata": {},
     "output_type": "execute_result"
    }
   ],
   "source": [
    "logit_layer2.fit(feats, y_logit_stack)\n",
    "logit_pred = logit_layer2.predict_proba(test_feats)\n",
    "pd.DataFrame(logit_pred)[1]"
   ]
  },
  {
   "cell_type": "code",
   "execution_count": 145,
   "metadata": {},
   "outputs": [],
   "source": [
    "submission = pd.DataFrame()\n",
    "submission['test_id'] = xgb_test.index.values\n",
    "submission['is_duplicate'] = pd.DataFrame(logit_pred)[1]\n",
    "submission.to_csv('stacked_xgb_rf_logit.csv', index=False)"
   ]
  },
  {
   "cell_type": "code",
   "execution_count": 146,
   "metadata": {},
   "outputs": [
    {
     "data": {
      "text/plain": [
       "(2345796, 2)"
      ]
     },
     "execution_count": 146,
     "metadata": {},
     "output_type": "execute_result"
    }
   ],
   "source": [
    "submission.shape"
   ]
  },
  {
   "cell_type": "code",
   "execution_count": null,
   "metadata": {
    "collapsed": true
   },
   "outputs": [],
   "source": []
  }
 ],
 "metadata": {
  "kernelspec": {
   "display_name": "Python 3",
   "language": "python",
   "name": "python3"
  },
  "language_info": {
   "codemirror_mode": {
    "name": "ipython",
    "version": 3
   },
   "file_extension": ".py",
   "mimetype": "text/x-python",
   "name": "python",
   "nbconvert_exporter": "python",
   "pygments_lexer": "ipython3",
   "version": "3.6.1"
  }
 },
 "nbformat": 4,
 "nbformat_minor": 2
}
