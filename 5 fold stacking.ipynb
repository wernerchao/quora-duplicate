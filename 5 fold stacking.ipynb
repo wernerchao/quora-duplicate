{
 "cells": [
  {
   "cell_type": "code",
   "execution_count": 1,
   "metadata": {
    "collapsed": true
   },
   "outputs": [],
   "source": [
    "%matplotlib inline\n",
    "\n",
    "import matplotlib.pyplot as plt\n",
    "import numpy as np\n",
    "import pandas as pd\n",
    "from sklearn.metrics import mean_squared_error\n",
    "from sklearn.linear_model import LogisticRegression\n",
    "from sklearn.model_selection import StratifiedKFold, validation_curve, cross_val_score\n",
    "from sklearn.metrics import log_loss\n",
    "from sklearn.preprocessing import MinMaxScaler"
   ]
  },
  {
   "cell_type": "code",
   "execution_count": 2,
   "metadata": {
    "collapsed": true
   },
   "outputs": [],
   "source": [
    "def get_stack_data(name, yval=False):\n",
    "    if yval:\n",
    "        yval_string = 'yval_'\n",
    "    else:\n",
    "        yval_string = ''\n",
    "    fold_list = []\n",
    "    for i in range(1, 6, 1):\n",
    "        fold = pd.read_csv('./{}_stack/{}_{}fold_{}.csv'.format(name, name, yval_string, i)).as_matrix()\n",
    "        fold_list.append(fold)\n",
    "\n",
    "    return fold_list"
   ]
  },
  {
   "cell_type": "code",
   "execution_count": 3,
   "metadata": {},
   "outputs": [
    {
     "data": {
      "text/html": [
       "<div>\n",
       "<style>\n",
       "    .dataframe thead tr:only-child th {\n",
       "        text-align: right;\n",
       "    }\n",
       "\n",
       "    .dataframe thead th {\n",
       "        text-align: left;\n",
       "    }\n",
       "\n",
       "    .dataframe tbody tr th {\n",
       "        vertical-align: top;\n",
       "    }\n",
       "</style>\n",
       "<table border=\"1\" class=\"dataframe\">\n",
       "  <thead>\n",
       "    <tr style=\"text-align: right;\">\n",
       "      <th></th>\n",
       "      <th>rf_layer</th>\n",
       "    </tr>\n",
       "  </thead>\n",
       "  <tbody>\n",
       "    <tr>\n",
       "      <th>0</th>\n",
       "      <td>0.173048</td>\n",
       "    </tr>\n",
       "    <tr>\n",
       "      <th>1</th>\n",
       "      <td>0.405546</td>\n",
       "    </tr>\n",
       "    <tr>\n",
       "      <th>2</th>\n",
       "      <td>0.353978</td>\n",
       "    </tr>\n",
       "    <tr>\n",
       "      <th>3</th>\n",
       "      <td>0.396855</td>\n",
       "    </tr>\n",
       "    <tr>\n",
       "      <th>4</th>\n",
       "      <td>0.193455</td>\n",
       "    </tr>\n",
       "  </tbody>\n",
       "</table>\n",
       "</div>"
      ],
      "text/plain": [
       "   rf_layer\n",
       "0  0.173048\n",
       "1  0.405546\n",
       "2  0.353978\n",
       "3  0.396855\n",
       "4  0.193455"
      ]
     },
     "execution_count": 3,
     "metadata": {},
     "output_type": "execute_result"
    }
   ],
   "source": [
    "# Load RF Validation as Features for Layer 2.\n",
    "\n",
    "rf_stack = get_stack_data('rf')\n",
    "rf_stack = [x for item in rf_stack for x in item]\n",
    "rf_stack = pd.DataFrame(rf_stack).drop(0, axis=1)\n",
    "rf_stack.columns = ['rf_layer']\n",
    "rf_stack.head()"
   ]
  },
  {
   "cell_type": "code",
   "execution_count": 4,
   "metadata": {},
   "outputs": [
    {
     "data": {
      "text/html": [
       "<div>\n",
       "<style>\n",
       "    .dataframe thead tr:only-child th {\n",
       "        text-align: right;\n",
       "    }\n",
       "\n",
       "    .dataframe thead th {\n",
       "        text-align: left;\n",
       "    }\n",
       "\n",
       "    .dataframe tbody tr th {\n",
       "        vertical-align: top;\n",
       "    }\n",
       "</style>\n",
       "<table border=\"1\" class=\"dataframe\">\n",
       "  <thead>\n",
       "    <tr style=\"text-align: right;\">\n",
       "      <th></th>\n",
       "      <th>logit_layer</th>\n",
       "    </tr>\n",
       "  </thead>\n",
       "  <tbody>\n",
       "    <tr>\n",
       "      <th>0</th>\n",
       "      <td>0.173048</td>\n",
       "    </tr>\n",
       "    <tr>\n",
       "      <th>1</th>\n",
       "      <td>0.405546</td>\n",
       "    </tr>\n",
       "    <tr>\n",
       "      <th>2</th>\n",
       "      <td>0.353978</td>\n",
       "    </tr>\n",
       "    <tr>\n",
       "      <th>3</th>\n",
       "      <td>0.396855</td>\n",
       "    </tr>\n",
       "    <tr>\n",
       "      <th>4</th>\n",
       "      <td>0.193455</td>\n",
       "    </tr>\n",
       "  </tbody>\n",
       "</table>\n",
       "</div>"
      ],
      "text/plain": [
       "   logit_layer\n",
       "0     0.173048\n",
       "1     0.405546\n",
       "2     0.353978\n",
       "3     0.396855\n",
       "4     0.193455"
      ]
     },
     "execution_count": 4,
     "metadata": {},
     "output_type": "execute_result"
    }
   ],
   "source": [
    "# Load Logistic Regression Validation as Features for Layer 2.\n",
    "\n",
    "logit_stack = get_stack_data('logit')\n",
    "logit_stack = [x for item in logit_stack for x in item]\n",
    "logit_stack = pd.DataFrame(logit_stack).drop(0, axis=1)\n",
    "logit_stack.columns = ['logit_layer']\n",
    "logit_stack.head()"
   ]
  },
  {
   "cell_type": "code",
   "execution_count": 5,
   "metadata": {},
   "outputs": [
    {
     "data": {
      "text/html": [
       "<div>\n",
       "<style>\n",
       "    .dataframe thead tr:only-child th {\n",
       "        text-align: right;\n",
       "    }\n",
       "\n",
       "    .dataframe thead th {\n",
       "        text-align: left;\n",
       "    }\n",
       "\n",
       "    .dataframe tbody tr th {\n",
       "        vertical-align: top;\n",
       "    }\n",
       "</style>\n",
       "<table border=\"1\" class=\"dataframe\">\n",
       "  <thead>\n",
       "    <tr style=\"text-align: right;\">\n",
       "      <th></th>\n",
       "      <th>xgb_layer</th>\n",
       "    </tr>\n",
       "  </thead>\n",
       "  <tbody>\n",
       "    <tr>\n",
       "      <th>0</th>\n",
       "      <td>0.236785</td>\n",
       "    </tr>\n",
       "    <tr>\n",
       "      <th>1</th>\n",
       "      <td>0.402644</td>\n",
       "    </tr>\n",
       "    <tr>\n",
       "      <th>2</th>\n",
       "      <td>0.206003</td>\n",
       "    </tr>\n",
       "    <tr>\n",
       "      <th>3</th>\n",
       "      <td>0.749326</td>\n",
       "    </tr>\n",
       "    <tr>\n",
       "      <th>4</th>\n",
       "      <td>0.219142</td>\n",
       "    </tr>\n",
       "  </tbody>\n",
       "</table>\n",
       "</div>"
      ],
      "text/plain": [
       "   xgb_layer\n",
       "0   0.236785\n",
       "1   0.402644\n",
       "2   0.206003\n",
       "3   0.749326\n",
       "4   0.219142"
      ]
     },
     "execution_count": 5,
     "metadata": {},
     "output_type": "execute_result"
    }
   ],
   "source": [
    "# Load XGB Validation as Features for Layer 2.\n",
    "\n",
    "xgb_stack = get_stack_data('xgb')\n",
    "xgb_stack = [x for item in xgb_stack for x in item]\n",
    "xgb_stack = pd.DataFrame(xgb_stack).drop(0, axis=1)\n",
    "xgb_stack.columns = ['xgb_layer']\n",
    "xgb_stack.head()"
   ]
  },
  {
   "cell_type": "code",
   "execution_count": 7,
   "metadata": {},
   "outputs": [
    {
     "data": {
      "text/html": [
       "<div>\n",
       "<style>\n",
       "    .dataframe thead tr:only-child th {\n",
       "        text-align: right;\n",
       "    }\n",
       "\n",
       "    .dataframe thead th {\n",
       "        text-align: left;\n",
       "    }\n",
       "\n",
       "    .dataframe tbody tr th {\n",
       "        vertical-align: top;\n",
       "    }\n",
       "</style>\n",
       "<table border=\"1\" class=\"dataframe\">\n",
       "  <thead>\n",
       "    <tr style=\"text-align: right;\">\n",
       "      <th></th>\n",
       "      <th>lstm_layer</th>\n",
       "    </tr>\n",
       "  </thead>\n",
       "  <tbody>\n",
       "    <tr>\n",
       "      <th>0</th>\n",
       "      <td>0.031303</td>\n",
       "    </tr>\n",
       "    <tr>\n",
       "      <th>1</th>\n",
       "      <td>0.524897</td>\n",
       "    </tr>\n",
       "    <tr>\n",
       "      <th>2</th>\n",
       "      <td>0.633970</td>\n",
       "    </tr>\n",
       "    <tr>\n",
       "      <th>3</th>\n",
       "      <td>0.999707</td>\n",
       "    </tr>\n",
       "    <tr>\n",
       "      <th>4</th>\n",
       "      <td>0.975479</td>\n",
       "    </tr>\n",
       "  </tbody>\n",
       "</table>\n",
       "</div>"
      ],
      "text/plain": [
       "   lstm_layer\n",
       "0    0.031303\n",
       "1    0.524897\n",
       "2    0.633970\n",
       "3    0.999707\n",
       "4    0.975479"
      ]
     },
     "execution_count": 7,
     "metadata": {},
     "output_type": "execute_result"
    }
   ],
   "source": [
    "# Load LSTM Validation as Features for Layer 2.\n",
    "\n",
    "lstm_stack = get_stack_data('lstmGlove')\n",
    "lstm_stack = [x for item in lstm_stack for x in item]\n",
    "lstm_stack = pd.DataFrame(lstm_stack).drop(0, axis=1)\n",
    "lstm_stack.columns = ['lstm_layer']\n",
    "lstm_stack.head()"
   ]
  },
  {
   "cell_type": "code",
   "execution_count": 8,
   "metadata": {},
   "outputs": [
    {
     "name": "stdout",
     "output_type": "stream",
     "text": [
      "0.0\n",
      "0.0\n",
      "0.0\n",
      "0.0\n",
      "0.0\n",
      "0.0\n"
     ]
    }
   ],
   "source": [
    "# Sanity check to see if the y values match.\n",
    "\n",
    "y_rf_stack = get_stack_data('rf', True)\n",
    "y_rf_stack = [x for item in y_rf_stack for x in item]\n",
    "y_rf_stack = pd.DataFrame(y_rf_stack)\n",
    "y_rf_stack = pd.DataFrame(y_rf_stack).drop(0, axis=1)\n",
    "y_rf_stack.columns = ['rf_layer']\n",
    "\n",
    "y_rf_stack.head()\n",
    "y_logit_stack = get_stack_data('logit', True)\n",
    "y_logit_stack = [x for item in y_logit_stack for x in item]\n",
    "y_logit_stack = pd.DataFrame(y_logit_stack)\n",
    "y_logit_stack = pd.DataFrame(y_logit_stack).drop(0, axis=1)\n",
    "y_logit_stack.columns = ['logit_layer']\n",
    "\n",
    "y_xgb_stack = get_stack_data('xgb', True)\n",
    "y_xgb_stack = [x for item in y_xgb_stack for x in item]\n",
    "y_xgb_stack = pd.DataFrame(y_xgb_stack)\n",
    "y_xgb_stack = pd.DataFrame(y_xgb_stack).drop(0, axis=1)\n",
    "y_xgb_stack.columns = ['xgb_layer']\n",
    "\n",
    "y_lstm_stack = get_stack_data('lstmGlove', True)\n",
    "y_lstm_stack = [x for item in y_lstm_stack for x in item]\n",
    "y_lstm_stack = pd.DataFrame(y_lstm_stack)\n",
    "y_lstm_stack = pd.DataFrame(y_lstm_stack).drop(0, axis=1)\n",
    "y_lstm_stack.columns = ['lstm_layer']\n",
    "\n",
    "print(mean_squared_error(y_rf_stack, y_logit_stack))\n",
    "print(mean_squared_error(y_xgb_stack, y_logit_stack))\n",
    "print(mean_squared_error(y_xgb_stack, y_rf_stack))\n",
    "print(mean_squared_error(y_lstm_stack, y_xgb_stack))\n",
    "print(mean_squared_error(y_lstm_stack, y_rf_stack))\n",
    "print(mean_squared_error(y_lstm_stack, y_logit_stack))"
   ]
  },
  {
   "cell_type": "code",
   "execution_count": 9,
   "metadata": {
    "collapsed": true
   },
   "outputs": [],
   "source": [
    "# Load Test Set.\n",
    "\n",
    "xgb_test = pd.read_csv('./xgb_stack/xgb_layer_1_test_whole_train_set.csv')\n",
    "lstm_test = pd.read_csv('./lstmGlove_stack/glove_0.1319_lstm_220_112_0.32_0.29_copy.csv')\n",
    "# rf_test = pd.read_csv('./rf_stack/rf_layer_1_test_50_8_5.csv')\n",
    "# logit_test = pd.read_csv('./logit_stack/logit_layer_1_test_l2_sag_C15.csv')"
   ]
  },
  {
   "cell_type": "code",
   "execution_count": 10,
   "metadata": {
    "collapsed": true
   },
   "outputs": [],
   "source": [
    "def five_fold_train(x, y, model, name='model', folds=5):\n",
    "    ''' Function for Generate Five Fold Stacking Features '''\n",
    "    x_train_scaled = MinMaxScaler().fit_transform(x)\n",
    "    skf = StratifiedKFold(n_splits=5, random_state=None, shuffle=False)\n",
    "\n",
    "    fold_count = 1\n",
    "    for train_index, val_index in skf.split(x_train_scaled, y):\n",
    "        print('Folds: ', fold_count)\n",
    "\n",
    "        # Training...\n",
    "        logit.fit(x_train_scaled[train_index], y[train_index])\n",
    "\n",
    "        # Validating. Layer 2 training features...\n",
    "        val = logit.predict_proba(x_train_scaled[val_index])\n",
    "        val = pd.DataFrame(val).drop(0, axis=1)\n",
    "        y_val = y[val_index]\n",
    "\n",
    "        print('Validation Error: ', log_loss(y_val, val))\n",
    "        fold_count = fold_count + 1"
   ]
  },
  {
   "cell_type": "code",
   "execution_count": 11,
   "metadata": {
    "scrolled": true
   },
   "outputs": [
    {
     "name": "stdout",
     "output_type": "stream",
     "text": [
      "CPU times: user 21.9 s, sys: 3.46 s, total: 25.3 s\n",
      "Wall time: 25.7 s\n"
     ]
    }
   ],
   "source": [
    "%%time\n",
    "\n",
    "# feats = pd.concat([rf_stack, logit_stack, xgb_stack], axis=1)\n",
    "feats = pd.concat([lstm_stack, xgb_stack], axis=1)\n",
    "logit_layer2 = LogisticRegression()\n",
    "train_scores, valid_scores = validation_curve(logit_layer2, \\\n",
    "                                              feats, \\\n",
    "                                              y_logit_stack['logit_layer'], \\\n",
    "                                              \"C\", \\\n",
    "                                              range(1, 200, 20), \\\n",
    "                                              cv=3, \\\n",
    "                                              scoring='neg_log_loss', \\\n",
    "                                              n_jobs=1)"
   ]
  },
  {
   "cell_type": "code",
   "execution_count": 12,
   "metadata": {
    "scrolled": true
   },
   "outputs": [
    {
     "name": "stdout",
     "output_type": "stream",
     "text": [
      "[-0.15298469 -0.11284387 -0.11114982]\n"
     ]
    },
    {
     "data": {
      "image/png": "[encoded data removed]",
      "text/plain": [
       "<matplotlib.figure.Figure at 0x1176f2828>"
      ]
     },
     "metadata": {},
     "output_type": "display_data"
    }
   ],
   "source": [
    "# Plot the learning curve from the above result.\n",
    "\n",
    "valid_scores_mean = -1*np.mean(valid_scores, axis=1)\n",
    "train_scores_mean = -1*np.mean(train_scores, axis=1)\n",
    "\n",
    "plt.figure(figsize=(16, 8))\n",
    "plt.plot(range(1, 200, 20), valid_scores_mean, label='valid')\n",
    "plt.plot(range(1, 200, 20), train_scores_mean, label='train')\n",
    "plt.title('Logistic Regression, C Value')\n",
    "\n",
    "plt.xlabel('C Value')\n",
    "plt.ylabel('Log Loss Error')\n",
    "plt.legend()\n",
    "print(cross_val_score(logit_layer2, feats, y_logit_stack['logit_layer'], scoring='neg_log_loss'))"
   ]
  },
  {
   "cell_type": "code",
   "execution_count": 13,
   "metadata": {
    "collapsed": true
   },
   "outputs": [],
   "source": [
    "# rf_test = rf_test.drop('test_id', axis=1)\n",
    "# logit_test = logit_test.drop('test_id', axis=1)\n",
    "xgb_test = xgb_test.drop('test_id', axis=1)\n",
    "lstm_test = lstm_test.drop('test_id', axis=1)\n",
    "\n",
    "test_feats = pd.concat([lstm_test, xgb_test], axis=1)"
   ]
  },
  {
   "cell_type": "code",
   "execution_count": 14,
   "metadata": {
    "scrolled": true
   },
   "outputs": [
    {
     "name": "stderr",
     "output_type": "stream",
     "text": [
      "/Library/Frameworks/Python.framework/Versions/3.6/lib/python3.6/site-packages/sklearn/utils/validation.py:526: DataConversionWarning: A column-vector y was passed when a 1d array was expected. Please change the shape of y to (n_samples, ), for example using ravel().\n",
      "  y = column_or_1d(y, warn=True)\n"
     ]
    },
    {
     "data": {
      "text/plain": [
       "0    0.007600\n",
       "1    0.032331\n",
       "2    0.016222\n",
       "3    0.012833\n",
       "4    0.129163\n",
       "Name: 1, dtype: float64"
      ]
     },
     "execution_count": 14,
     "metadata": {},
     "output_type": "execute_result"
    }
   ],
   "source": [
    "logit_layer2.fit(feats, y_logit_stack)\n",
    "logit_pred = logit_layer2.predict_proba(test_feats)\n",
    "pd.DataFrame(logit_pred)[1].head()"
   ]
  },
  {
   "cell_type": "code",
   "execution_count": 15,
   "metadata": {
    "collapsed": true
   },
   "outputs": [],
   "source": [
    "submission = pd.DataFrame()\n",
    "submission['test_id'] = xgb_test.index.values\n",
    "submission['is_duplicate'] = pd.DataFrame(logit_pred)[1]\n",
    "submission.to_csv('stacked_lstm_xgb.csv', index=False)"
   ]
  },
  {
   "cell_type": "code",
   "execution_count": 16,
   "metadata": {},
   "outputs": [
    {
     "data": {
      "text/plain": [
       "(2345796, 2)"
      ]
     },
     "execution_count": 16,
     "metadata": {},
     "output_type": "execute_result"
    }
   ],
   "source": [
    "submission.shape\n",
    "# (2345796, 2)"
   ]
  },
  {
   "cell_type": "code",
   "execution_count": null,
   "metadata": {
    "collapsed": true
   },
   "outputs": [],
   "source": []
  }
 ],
 "metadata": {
  "kernelspec": {
   "display_name": "Python 3",
   "language": "python",
   "name": "python3"
  },
  "language_info": {
   "codemirror_mode": {
    "name": "ipython",
    "version": 3
   },
   "file_extension": ".py",
   "mimetype": "text/x-python",
   "name": "python",
   "nbconvert_exporter": "python",
   "pygments_lexer": "ipython3",
   "version": "3.6.1"
  }
 },
 "nbformat": 4,
 "nbformat_minor": 2
}
