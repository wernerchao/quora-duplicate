{
 "cells": [
  {
   "cell_type": "code",
   "execution_count": 1,
   "metadata": {},
   "outputs": [
    {
     "name": "stderr",
     "output_type": "stream",
     "text": [
      "/Library/Frameworks/Python.framework/Versions/3.6/lib/python3.6/site-packages/sklearn/cross_validation.py:44: DeprecationWarning: This module was deprecated in version 0.18 in favor of the model_selection module into which all the refactored classes and functions are moved. Also note that the interface of the new CV iterators are different from that of this module. This module will be removed in 0.20.\n",
      "  \"This module will be removed in 0.20.\", DeprecationWarning)\n"
     ]
    },
    {
     "name": "stdout",
     "output_type": "stream",
     "text": [
      "Started\n"
     ]
    }
   ],
   "source": [
    "%matplotlib inline\n",
    "\n",
    "import numpy as np\n",
    "import pandas as pd\n",
    "import xgboost as xgb\n",
    "import datetime\n",
    "import operator\n",
    "from sklearn.cross_validation import train_test_split\n",
    "from collections import Counter\n",
    "from nltk.corpus import stopwords\n",
    "import matplotlib.pyplot as plt\n",
    "from pylab import plot, show, subplot, specgram, imshow, savefig\n",
    "from sklearn.metrics import log_loss, make_scorer, accuracy_score\n",
    "from sklearn.preprocessing import MinMaxScaler\n",
    "from sklearn.ensemble import RandomForestClassifier\n",
    "\n",
    "RS = 12357\n",
    "ROUNDS = 315\n",
    "\n",
    "print(\"Started\")\n",
    "np.random.seed(RS)\n",
    "input_folder = '../kaggle-quora/data/'"
   ]
  },
  {
   "cell_type": "code",
   "execution_count": 2,
   "metadata": {
    "collapsed": true
   },
   "outputs": [],
   "source": [
    "def train_xgb(X, y, params):\n",
    "    print(\"Will train XGB for {} rounds, RandomSeed: {}\".format(ROUNDS, RS))\n",
    "    x, X_val, y_train, y_val = train_test_split(X, y, test_size=0.2, random_state=RS)\n",
    "\n",
    "    xg_train = xgb.DMatrix(x, label=y_train)\n",
    "    xg_val = xgb.DMatrix(X_val, label=y_val)\n",
    "\n",
    "    watchlist  = [(xg_train,'train'), (xg_val,'eval')]\n",
    "    return xgb.train(params, xg_train, ROUNDS, watchlist)\n",
    "\n",
    "def predict_xgb(clr, X_test):\n",
    "    return clr.predict(xgb.DMatrix(X_test))\n",
    "\n",
    "def create_feature_map(features):\n",
    "    outfile = open('xgb.fmap', 'w')\n",
    "    i = 0\n",
    "    for feat in features:\n",
    "        outfile.write('{0}\\t{1}\\tq\\n'.format(i, feat))\n",
    "        i = i + 1\n",
    "    outfile.close()\n",
    "\n",
    "def add_word_count(x, df, word):\n",
    "    x['q1_' + word] = df['question1'].apply(lambda x: (word in str(x).lower())*1)\n",
    "    x['q2_' + word] = df['question2'].apply(lambda x: (word in str(x).lower())*1)\n",
    "    x[word + '_both'] = x['q1_' + word] * x['q2_' + word]"
   ]
  },
  {
   "cell_type": "code",
   "execution_count": 3,
   "metadata": {
    "collapsed": true
   },
   "outputs": [],
   "source": [
    "# If a word appears only once, we ignore it completely (likely a typo)\n",
    "# Epsilon defines a smoothing constant, which makes the effect of extremely rare words smaller\n",
    "\n",
    "def get_weight(count, eps=10000, min_count=2):\n",
    "    return 0 if count < min_count else 1 / (count + eps)\n",
    "\n",
    "def word_shares(row):\n",
    "    q1_list = str(row['question1']).lower().split()\n",
    "    q1 = set(q1_list)\n",
    "    q1words = q1.difference(stops)\n",
    "    if len(q1words) == 0:\n",
    "        return '0:0:0:0:0:0:0:0'\n",
    "\n",
    "    q2_list = str(row['question2']).lower().split()\n",
    "    q2 = set(q2_list)\n",
    "    q2words = q2.difference(stops)\n",
    "    if len(q2words) == 0:\n",
    "        return '0:0:0:0:0:0:0:0'\n",
    "\n",
    "    words_hamming = sum(1 for i in zip(q1_list, q2_list) if i[0]==i[1])/max(len(q1_list), len(q2_list))\n",
    "\n",
    "    q1stops = q1.intersection(stops)\n",
    "    q2stops = q2.intersection(stops)\n",
    "\n",
    "    q1_2gram = set([i for i in zip(q1_list, q1_list[1:])])\n",
    "    q2_2gram = set([i for i in zip(q2_list, q2_list[1:])])\n",
    "\n",
    "    shared_2gram = q1_2gram.intersection(q2_2gram)\n",
    "\n",
    "    shared_words = q1words.intersection(q2words)\n",
    "    shared_weights = [weights.get(w, 0) for w in shared_words]\n",
    "    q1_weights = [weights.get(w, 0) for w in q1words]\n",
    "    q2_weights = [weights.get(w, 0) for w in q2words]\n",
    "    total_weights = q1_weights + q1_weights\n",
    "\n",
    "    R1 = np.sum(shared_weights) / np.sum(total_weights) #tfidf share\n",
    "    R2 = len(shared_words) / (len(q1words) + len(q2words) - len(shared_words)) #count share\n",
    "    R31 = len(q1stops) / len(q1words) #stops in q1\n",
    "    R32 = len(q2stops) / len(q2words) #stops in q2\n",
    "    Rcosine_denominator = (np.sqrt(np.dot(q1_weights,q1_weights))*np.sqrt(np.dot(q2_weights,q2_weights)))\n",
    "    Rcosine = np.dot(shared_weights, shared_weights)/Rcosine_denominator\n",
    "    if len(q1_2gram) + len(q2_2gram) == 0:\n",
    "        R2gram = 0\n",
    "    else:\n",
    "        R2gram = len(shared_2gram) / (len(q1_2gram) + len(q2_2gram))\n",
    "    return '{}:{}:{}:{}:{}:{}:{}:{}'.format(R1, R2, len(shared_words), R31, R32, R2gram, Rcosine, words_hamming)"
   ]
  },
  {
   "cell_type": "code",
   "execution_count": 4,
   "metadata": {},
   "outputs": [
    {
     "name": "stdout",
     "output_type": "stream",
     "text": [
      "Original data: X_train: (404290, 6), X_test: (2345796, 3)\n",
      "Features processing, be patient...\n"
     ]
    },
    {
     "name": "stderr",
     "output_type": "stream",
     "text": [
      "/Library/Frameworks/Python.framework/Versions/3.6/lib/python3.6/site-packages/ipykernel_launcher.py:36: RuntimeWarning: invalid value encountered in double_scalars\n",
      "/Library/Frameworks/Python.framework/Versions/3.6/lib/python3.6/site-packages/ipykernel_launcher.py:41: RuntimeWarning: invalid value encountered in true_divide\n",
      "/Library/Frameworks/Python.framework/Versions/3.6/lib/python3.6/site-packages/ipykernel_launcher.py:36: RuntimeWarning: invalid value encountered in long_scalars\n"
     ]
    },
    {
     "name": "stdout",
     "output_type": "stream",
     "text": [
      "CPU times: user 5min 18s, sys: 6.29 s, total: 5min 24s\n",
      "Wall time: 5min 40s\n"
     ]
    }
   ],
   "source": [
    "%%time\n",
    "\n",
    "params = {}\n",
    "params['objective'] = 'binary:logistic'\n",
    "params['eval_metric'] = 'logloss'\n",
    "params['eta'] = 0.11\n",
    "params['max_depth'] = 5\n",
    "params['silent'] = 1\n",
    "params['seed'] = RS\n",
    "\n",
    "df_train = pd.read_csv(input_folder + 'train.csv')\n",
    "df_test  = pd.read_csv(input_folder + 'test.csv')\n",
    "\n",
    "print(\"Original data: X_train: {}, X_test: {}\".format(df_train.shape, df_test.shape))\n",
    "print(\"Features processing, be patient...\")\n",
    "\n",
    "\n",
    "train_qs = pd.Series(df_train['question1'].tolist() + \\\n",
    "                     df_train['question2'].tolist()).astype(str)\n",
    "words = (\" \".join(train_qs)).lower().split()\n",
    "counts = Counter(words)\n",
    "weights = {word: get_weight(count) for word, count in counts.items()}\n",
    "\n",
    "stops = set(stopwords.words(\"english\"))\n",
    "\n",
    "\n",
    "df = pd.concat([df_train, df_test])\n",
    "df['word_shares'] = df.apply(word_shares, axis=1, raw=True)"
   ]
  },
  {
   "cell_type": "code",
   "execution_count": 5,
   "metadata": {},
   "outputs": [
    {
     "name": "stdout",
     "output_type": "stream",
     "text": [
      "CPU times: user 1min 25s, sys: 2.72 s, total: 1min 28s\n",
      "Wall time: 1min 35s\n"
     ]
    }
   ],
   "source": [
    "%%time\n",
    "\n",
    "x = pd.DataFrame()\n",
    "\n",
    "x['word_match']       = df['word_shares'].apply(lambda x: float(x.split(':')[0]))\n",
    "x['word_match_2root'] = np.sqrt(x['word_match'])\n",
    "x['tfidf_word_match'] = df['word_shares'].apply(lambda x: float(x.split(':')[1]))\n",
    "x['shared_count']     = df['word_shares'].apply(lambda x: float(x.split(':')[2]))\n",
    "\n",
    "x['stops1_ratio']     = df['word_shares'].apply(lambda x: float(x.split(':')[3]))\n",
    "x['stops2_ratio']     = df['word_shares'].apply(lambda x: float(x.split(':')[4]))\n",
    "x['shared_2gram']     = df['word_shares'].apply(lambda x: float(x.split(':')[5]))\n",
    "x['cosine']           = df['word_shares'].apply(lambda x: float(x.split(':')[6]))\n",
    "x['words_hamming']    = df['word_shares'].apply(lambda x: float(x.split(':')[7]))\n",
    "x['diff_stops_r']     = x['stops1_ratio'] - x['stops2_ratio']\n",
    "\n",
    "x['len_q1'] = df['question1'].apply(lambda x: len(str(x)))\n",
    "x['len_q2'] = df['question2'].apply(lambda x: len(str(x)))\n",
    "x['diff_len'] = x['len_q1'] - x['len_q2']\n",
    "\n",
    "x['caps_count_q1'] = df['question1'].apply(lambda x:sum(1 for i in str(x) if i.isupper()))\n",
    "x['caps_count_q2'] = df['question2'].apply(lambda x:sum(1 for i in str(x) if i.isupper()))\n",
    "x['diff_caps'] = x['caps_count_q1'] - x['caps_count_q2']\n",
    "\n",
    "x['len_char_q1'] = df['question1'].apply(lambda x: len(str(x).replace(' ', '')))\n",
    "x['len_char_q2'] = df['question2'].apply(lambda x: len(str(x).replace(' ', '')))\n",
    "x['diff_len_char'] = x['len_char_q1'] - x['len_char_q2']\n",
    "\n",
    "x['len_word_q1'] = df['question1'].apply(lambda x: len(str(x).split()))\n",
    "x['len_word_q2'] = df['question2'].apply(lambda x: len(str(x).split()))\n",
    "x['diff_len_word'] = x['len_word_q1'] - x['len_word_q2']\n",
    "\n",
    "x['avg_world_len1'] = x['len_char_q1'] / x['len_word_q1']\n",
    "x['avg_world_len2'] = x['len_char_q2'] / x['len_word_q2']\n",
    "x['diff_avg_word'] = x['avg_world_len1'] - x['avg_world_len2']\n",
    "\n",
    "x['exactly_same'] = (df['question1'] == df['question2']).astype(int)\n",
    "x['duplicated'] = df.duplicated(['question1','question2']).astype(int)"
   ]
  },
  {
   "cell_type": "markdown",
   "metadata": {},
   "source": [
    "# Add Magic Features."
   ]
  },
  {
   "cell_type": "code",
   "execution_count": 6,
   "metadata": {},
   "outputs": [
    {
     "name": "stdout",
     "output_type": "stream",
     "text": [
      "CPU times: user 1.04 s, sys: 301 ms, total: 1.34 s\n",
      "Wall time: 1.45 s\n"
     ]
    }
   ],
   "source": [
    "%%time\n",
    "\n",
    "train_combine = pd.read_csv('../kaggle-quora/features/train_magic.csv', header=0)\n",
    "test_combine = pd.read_csv('../kaggle-quora/features/test_magic.csv', header=0)\n",
    "df_combine = pd.concat([train_combine, test_combine])\n",
    "x['q1_freq'] = df_combine['q1_freq']\n",
    "x['q2_freq'] = df_combine['q2_freq']"
   ]
  },
  {
   "cell_type": "code",
   "execution_count": 27,
   "metadata": {},
   "outputs": [
    {
     "data": {
      "text/plain": [
       "2750086"
      ]
     },
     "execution_count": 27,
     "metadata": {},
     "output_type": "execute_result"
    }
   ],
   "source": [
    "train_combine.shape[0] + test_combine.shape[0]"
   ]
  },
  {
   "cell_type": "markdown",
   "metadata": {},
   "source": [
    "# Add Interaction Features."
   ]
  },
  {
   "cell_type": "code",
   "execution_count": 41,
   "metadata": {
    "scrolled": true
   },
   "outputs": [
    {
     "name": "stdout",
     "output_type": "stream",
     "text": [
      "CPU times: user 227 ms, sys: 76.2 ms, total: 303 ms\n",
      "Wall time: 304 ms\n"
     ]
    }
   ],
   "source": [
    "%%time\n",
    "\n",
    "train_inter = pd.read_csv('../kaggle-quora/features/train_intersection.csv', header=0)\n",
    "test_inter = pd.read_csv('../kaggle-quora/features/test_intersection.csv', header=0)\n",
    "df_combine = pd.concat([train_inter, test_inter])\n",
    "x['q1_q2_intersect'] = df_combine['q1_q2_intersect']\n",
    "del df_combine"
   ]
  },
  {
   "cell_type": "markdown",
   "metadata": {},
   "source": [
    "# Other Features"
   ]
  },
  {
   "cell_type": "code",
   "execution_count": 43,
   "metadata": {
    "scrolled": true
   },
   "outputs": [
    {
     "name": "stdout",
     "output_type": "stream",
     "text": [
      "Index(['word_match', 'word_match_2root', 'tfidf_word_match', 'shared_count',\n",
      "       'stops1_ratio', 'stops2_ratio', 'shared_2gram', 'cosine',\n",
      "       'words_hamming', 'diff_stops_r', 'len_q1', 'len_q2', 'diff_len',\n",
      "       'caps_count_q1', 'caps_count_q2', 'diff_caps', 'len_char_q1',\n",
      "       'len_char_q2', 'diff_len_char', 'len_word_q1', 'len_word_q2',\n",
      "       'diff_len_word', 'avg_world_len1', 'avg_world_len2', 'diff_avg_word',\n",
      "       'exactly_same', 'duplicated', 'q1_freq', 'q2_freq', 'q1_q2_intersect',\n",
      "       'q1_how', 'q2_how', 'how_both', 'q1_what', 'q2_what', 'what_both',\n",
      "       'q1_which', 'q2_which', 'which_both', 'q1_who', 'q2_who', 'who_both',\n",
      "       'q1_where', 'q2_where', 'where_both', 'q1_when', 'q2_when', 'when_both',\n",
      "       'q1_why', 'q2_why', 'why_both'],\n",
      "      dtype='object')\n",
      "         word_match  word_match_2root  tfidf_word_match  shared_count  \\\n",
      "count  2.744371e+06      2.744371e+06      2.750086e+06  2.750086e+06   \n",
      "mean   1.542752e-01      3.228801e-01      2.016003e-01  1.605620e+00   \n",
      "std    1.375446e-01      2.236598e-01      2.011869e-01  1.548127e+00   \n",
      "min    0.000000e+00      0.000000e+00      0.000000e+00  0.000000e+00   \n",
      "25%    0.000000e+00      0.000000e+00      0.000000e+00  0.000000e+00   \n",
      "50%    1.355803e-01      3.682123e-01      1.666667e-01  1.000000e+00   \n",
      "75%    2.456540e-01      4.956349e-01      2.857143e-01  2.000000e+00   \n",
      "max    5.000000e-01      7.071068e-01      1.000000e+00  3.200000e+01   \n",
      "\n",
      "       stops1_ratio  stops2_ratio  shared_2gram        cosine  words_hamming  \\\n",
      "count  2.750086e+06  2.750086e+06  2.750086e+06  2.739236e+06   2.750086e+06   \n",
      "mean   9.467299e-01  9.507897e-01  7.278536e-02  2.967060e-01   1.303409e-01   \n",
      "std    5.062331e-01  5.083392e-01  9.986519e-02  2.625285e-01   1.996097e-01   \n",
      "min    0.000000e+00  0.000000e+00  0.000000e+00  0.000000e+00   0.000000e+00   \n",
      "25%    6.250000e-01  6.250000e-01  0.000000e+00  0.000000e+00   0.000000e+00   \n",
      "50%    8.333333e-01  8.571429e-01  3.333333e-02  2.673381e-01   2.702703e-02   \n",
      "75%    1.200000e+00  1.200000e+00  1.111111e-01  4.727389e-01   1.818182e-01   \n",
      "max    1.000000e+01  9.000000e+00  5.000000e-01  1.000000e+00   1.000000e+00   \n",
      "\n",
      "       diff_stops_r      ...           who_both      q1_where      q2_where  \\\n",
      "count  2.750086e+06      ...       2.750086e+06  2.750086e+06  2.750086e+06   \n",
      "mean  -4.059835e-03      ...       1.067967e-02  2.500795e-02  2.491122e-02   \n",
      "std    6.107030e-01      ...       1.027892e-01  1.561491e-01  1.558546e-01   \n",
      "min   -8.000000e+00      ...       0.000000e+00  0.000000e+00  0.000000e+00   \n",
      "25%   -3.214286e-01      ...       0.000000e+00  0.000000e+00  0.000000e+00   \n",
      "50%    0.000000e+00      ...       0.000000e+00  0.000000e+00  0.000000e+00   \n",
      "75%    3.000000e-01      ...       0.000000e+00  0.000000e+00  0.000000e+00   \n",
      "max    8.400000e+00      ...       1.000000e+00  1.000000e+00  1.000000e+00   \n",
      "\n",
      "         where_both       q1_when       q2_when     when_both        q1_why  \\\n",
      "count  2.750086e+06  2.750086e+06  2.750086e+06  2.750086e+06  2.750086e+06   \n",
      "mean   7.281590e-03  3.273570e-02  3.223208e-02  7.694668e-03  9.631372e-02   \n",
      "std    8.502101e-02  1.779441e-01  1.766159e-01  8.738114e-02  2.950210e-01   \n",
      "min    0.000000e+00  0.000000e+00  0.000000e+00  0.000000e+00  0.000000e+00   \n",
      "25%    0.000000e+00  0.000000e+00  0.000000e+00  0.000000e+00  0.000000e+00   \n",
      "50%    0.000000e+00  0.000000e+00  0.000000e+00  0.000000e+00  0.000000e+00   \n",
      "75%    0.000000e+00  0.000000e+00  0.000000e+00  0.000000e+00  0.000000e+00   \n",
      "max    1.000000e+00  1.000000e+00  1.000000e+00  1.000000e+00  1.000000e+00   \n",
      "\n",
      "             q2_why      why_both  \n",
      "count  2.750086e+06  2.750086e+06  \n",
      "mean   9.600136e-02  3.267607e-02  \n",
      "std    2.945932e-01  1.777874e-01  \n",
      "min    0.000000e+00  0.000000e+00  \n",
      "25%    0.000000e+00  0.000000e+00  \n",
      "50%    0.000000e+00  0.000000e+00  \n",
      "75%    0.000000e+00  0.000000e+00  \n",
      "max    1.000000e+00  1.000000e+00  \n",
      "\n",
      "[8 rows x 51 columns]\n",
      "CPU times: user 38.3 s, sys: 6.4 s, total: 44.7 s\n",
      "Wall time: 46 s\n"
     ]
    }
   ],
   "source": [
    "%%time\n",
    "\n",
    "add_word_count(x, df,'how')\n",
    "add_word_count(x, df,'what')\n",
    "add_word_count(x, df,'which')\n",
    "add_word_count(x, df,'who')\n",
    "add_word_count(x, df,'where')\n",
    "add_word_count(x, df,'when')\n",
    "add_word_count(x, df,'why')\n",
    "\n",
    "print(x.columns)\n",
    "print(x.describe())"
   ]
  },
  {
   "cell_type": "markdown",
   "metadata": {},
   "source": [
    "# Oversampling and Train/Test Split"
   ]
  },
  {
   "cell_type": "code",
   "execution_count": 44,
   "metadata": {},
   "outputs": [
    {
     "name": "stdout",
     "output_type": "stream",
     "text": [
      "Features: ['word_match', 'word_match_2root', 'tfidf_word_match', 'shared_count', 'stops1_ratio', 'stops2_ratio', 'shared_2gram', 'cosine', 'words_hamming', 'diff_stops_r', 'len_q1', 'len_q2', 'diff_len', 'caps_count_q1', 'caps_count_q2', 'diff_caps', 'len_char_q1', 'len_char_q2', 'diff_len_char', 'len_word_q1', 'len_word_q2', 'diff_len_word', 'avg_world_len1', 'avg_world_len2', 'diff_avg_word', 'exactly_same', 'duplicated', 'q1_freq', 'q2_freq', 'q1_q2_intersect', 'q1_how', 'q2_how', 'how_both', 'q1_what', 'q2_what', 'what_both', 'q1_which', 'q2_which', 'which_both', 'q1_who', 'q2_who', 'who_both', 'q1_where', 'q2_where', 'where_both', 'q1_when', 'q2_when', 'when_both', 'q1_why', 'q2_why', 'why_both']\n",
      "Oversampling started for proportion: 0.369197853026293\n",
      "Oversampling done, new proportion: 0.19124366100096607\n",
      "CPU times: user 900 ms, sys: 1.21 s, total: 2.11 s\n",
      "Wall time: 2.15 s\n"
     ]
    }
   ],
   "source": [
    "%%time\n",
    "\n",
    "feature_names = list(x.columns.values)\n",
    "create_feature_map(feature_names)\n",
    "print(\"Features: {}\".format(feature_names))\n",
    "\n",
    "x_train = x[:df_train.shape[0]]\n",
    "x_test  = x[df_train.shape[0]:]\n",
    "y_train = df_train['is_duplicate'].values\n",
    "del x, df_train\n",
    "\n",
    "if 1: # Now we oversample the negative class - on your own risk of overfitting!\n",
    "    pos_train = x_train[y_train == 1]\n",
    "    neg_train = x_train[y_train == 0]\n",
    "\n",
    "    print(\"Oversampling started for proportion: {}\".format(len(pos_train) / (len(pos_train) + len(neg_train))))\n",
    "    p = 0.165\n",
    "    scale = ((len(pos_train) / (len(pos_train) + len(neg_train))) / p) - 1\n",
    "    while scale > 1:\n",
    "        neg_train = pd.concat([neg_train, neg_train])\n",
    "        scale -=1\n",
    "    neg_train = pd.concat([neg_train, neg_train[:int(scale * len(neg_train))]])\n",
    "    print(\"Oversampling done, new proportion: {}\".format(len(pos_train) / (len(pos_train) + len(neg_train))))\n",
    "\n",
    "    x_train = pd.concat([pos_train, neg_train])\n",
    "    y_train = (np.zeros(len(pos_train)) + 1).tolist() + np.zeros(len(neg_train)).tolist()\n",
    "    del pos_train, neg_train"
   ]
  },
  {
   "cell_type": "code",
   "execution_count": 45,
   "metadata": {},
   "outputs": [
    {
     "name": "stdout",
     "output_type": "stream",
     "text": [
      "<class 'pandas.core.frame.DataFrame'> \n",
      "\n",
      "(780486, 51)\n",
      "780486\n"
     ]
    },
    {
     "data": {
      "text/html": [
       "<div>\n",
       "<style>\n",
       "    .dataframe thead tr:only-child th {\n",
       "        text-align: right;\n",
       "    }\n",
       "\n",
       "    .dataframe thead th {\n",
       "        text-align: left;\n",
       "    }\n",
       "\n",
       "    .dataframe tbody tr th {\n",
       "        vertical-align: top;\n",
       "    }\n",
       "</style>\n",
       "<table border=\"1\" class=\"dataframe\">\n",
       "  <thead>\n",
       "    <tr style=\"text-align: right;\">\n",
       "      <th></th>\n",
       "      <th>word_match</th>\n",
       "      <th>word_match_2root</th>\n",
       "      <th>tfidf_word_match</th>\n",
       "      <th>shared_count</th>\n",
       "      <th>stops1_ratio</th>\n",
       "      <th>stops2_ratio</th>\n",
       "      <th>shared_2gram</th>\n",
       "      <th>cosine</th>\n",
       "      <th>words_hamming</th>\n",
       "      <th>diff_stops_r</th>\n",
       "      <th>...</th>\n",
       "      <th>who_both</th>\n",
       "      <th>q1_where</th>\n",
       "      <th>q2_where</th>\n",
       "      <th>where_both</th>\n",
       "      <th>q1_when</th>\n",
       "      <th>q2_when</th>\n",
       "      <th>when_both</th>\n",
       "      <th>q1_why</th>\n",
       "      <th>q2_why</th>\n",
       "      <th>why_both</th>\n",
       "    </tr>\n",
       "  </thead>\n",
       "  <tbody>\n",
       "    <tr>\n",
       "      <th>5</th>\n",
       "      <td>0.269175</td>\n",
       "      <td>0.518820</td>\n",
       "      <td>0.307692</td>\n",
       "      <td>4.0</td>\n",
       "      <td>0.875</td>\n",
       "      <td>0.777778</td>\n",
       "      <td>0.100000</td>\n",
       "      <td>0.488688</td>\n",
       "      <td>0.250000</td>\n",
       "      <td>0.097222</td>\n",
       "      <td>...</td>\n",
       "      <td>0</td>\n",
       "      <td>0</td>\n",
       "      <td>0</td>\n",
       "      <td>0</td>\n",
       "      <td>0</td>\n",
       "      <td>0</td>\n",
       "      <td>0</td>\n",
       "      <td>0</td>\n",
       "      <td>0</td>\n",
       "      <td>0</td>\n",
       "    </tr>\n",
       "    <tr>\n",
       "      <th>7</th>\n",
       "      <td>0.385400</td>\n",
       "      <td>0.620806</td>\n",
       "      <td>0.333333</td>\n",
       "      <td>1.0</td>\n",
       "      <td>2.500</td>\n",
       "      <td>3.500000</td>\n",
       "      <td>0.071429</td>\n",
       "      <td>0.748695</td>\n",
       "      <td>0.111111</td>\n",
       "      <td>-1.000000</td>\n",
       "      <td>...</td>\n",
       "      <td>0</td>\n",
       "      <td>0</td>\n",
       "      <td>0</td>\n",
       "      <td>0</td>\n",
       "      <td>0</td>\n",
       "      <td>0</td>\n",
       "      <td>0</td>\n",
       "      <td>0</td>\n",
       "      <td>0</td>\n",
       "      <td>0</td>\n",
       "    </tr>\n",
       "  </tbody>\n",
       "</table>\n",
       "<p>2 rows × 51 columns</p>\n",
       "</div>"
      ],
      "text/plain": [
       "   word_match  word_match_2root  tfidf_word_match  shared_count  stops1_ratio  \\\n",
       "5    0.269175          0.518820          0.307692           4.0         0.875   \n",
       "7    0.385400          0.620806          0.333333           1.0         2.500   \n",
       "\n",
       "   stops2_ratio  shared_2gram    cosine  words_hamming  diff_stops_r  \\\n",
       "5      0.777778      0.100000  0.488688       0.250000      0.097222   \n",
       "7      3.500000      0.071429  0.748695       0.111111     -1.000000   \n",
       "\n",
       "     ...     who_both  q1_where  q2_where  where_both  q1_when  q2_when  \\\n",
       "5    ...            0         0         0           0        0        0   \n",
       "7    ...            0         0         0           0        0        0   \n",
       "\n",
       "   when_both  q1_why  q2_why  why_both  \n",
       "5          0       0       0         0  \n",
       "7          0       0       0         0  \n",
       "\n",
       "[2 rows x 51 columns]"
      ]
     },
     "execution_count": 45,
     "metadata": {},
     "output_type": "execute_result"
    }
   ],
   "source": [
    "print(type(x_train), '\\n')\n",
    "print(x_train.shape)\n",
    "print(len(y_train))\n",
    "x_train.head(2)"
   ]
  },
  {
   "cell_type": "code",
   "execution_count": 46,
   "metadata": {},
   "outputs": [
    {
     "data": {
      "text/html": [
       "<div>\n",
       "<style>\n",
       "    .dataframe thead tr:only-child th {\n",
       "        text-align: right;\n",
       "    }\n",
       "\n",
       "    .dataframe thead th {\n",
       "        text-align: left;\n",
       "    }\n",
       "\n",
       "    .dataframe tbody tr th {\n",
       "        vertical-align: top;\n",
       "    }\n",
       "</style>\n",
       "<table border=\"1\" class=\"dataframe\">\n",
       "  <thead>\n",
       "    <tr style=\"text-align: right;\">\n",
       "      <th></th>\n",
       "      <th>word_match</th>\n",
       "      <th>word_match_2root</th>\n",
       "      <th>tfidf_word_match</th>\n",
       "      <th>shared_count</th>\n",
       "      <th>stops1_ratio</th>\n",
       "      <th>stops2_ratio</th>\n",
       "      <th>shared_2gram</th>\n",
       "      <th>cosine</th>\n",
       "      <th>words_hamming</th>\n",
       "      <th>diff_stops_r</th>\n",
       "      <th>...</th>\n",
       "      <th>who_both</th>\n",
       "      <th>q1_where</th>\n",
       "      <th>q2_where</th>\n",
       "      <th>where_both</th>\n",
       "      <th>q1_when</th>\n",
       "      <th>q2_when</th>\n",
       "      <th>when_both</th>\n",
       "      <th>q1_why</th>\n",
       "      <th>q2_why</th>\n",
       "      <th>why_both</th>\n",
       "    </tr>\n",
       "  </thead>\n",
       "  <tbody>\n",
       "    <tr>\n",
       "      <th>0</th>\n",
       "      <td>0.176680</td>\n",
       "      <td>0.420334</td>\n",
       "      <td>0.153846</td>\n",
       "      <td>2.0</td>\n",
       "      <td>0.833333</td>\n",
       "      <td>0.444444</td>\n",
       "      <td>0.043478</td>\n",
       "      <td>0.287964</td>\n",
       "      <td>0.000000</td>\n",
       "      <td>0.388889</td>\n",
       "      <td>...</td>\n",
       "      <td>0</td>\n",
       "      <td>0</td>\n",
       "      <td>0</td>\n",
       "      <td>0</td>\n",
       "      <td>0</td>\n",
       "      <td>0</td>\n",
       "      <td>0</td>\n",
       "      <td>0</td>\n",
       "      <td>1</td>\n",
       "      <td>0</td>\n",
       "    </tr>\n",
       "    <tr>\n",
       "      <th>1</th>\n",
       "      <td>0.212054</td>\n",
       "      <td>0.460493</td>\n",
       "      <td>0.333333</td>\n",
       "      <td>3.0</td>\n",
       "      <td>1.000000</td>\n",
       "      <td>0.400000</td>\n",
       "      <td>0.105263</td>\n",
       "      <td>0.464290</td>\n",
       "      <td>0.142857</td>\n",
       "      <td>0.600000</td>\n",
       "      <td>...</td>\n",
       "      <td>0</td>\n",
       "      <td>0</td>\n",
       "      <td>0</td>\n",
       "      <td>0</td>\n",
       "      <td>0</td>\n",
       "      <td>0</td>\n",
       "      <td>0</td>\n",
       "      <td>0</td>\n",
       "      <td>0</td>\n",
       "      <td>0</td>\n",
       "    </tr>\n",
       "    <tr>\n",
       "      <th>2</th>\n",
       "      <td>0.191159</td>\n",
       "      <td>0.437218</td>\n",
       "      <td>0.285714</td>\n",
       "      <td>2.0</td>\n",
       "      <td>1.000000</td>\n",
       "      <td>1.000000</td>\n",
       "      <td>0.055556</td>\n",
       "      <td>0.464872</td>\n",
       "      <td>0.071429</td>\n",
       "      <td>0.000000</td>\n",
       "      <td>...</td>\n",
       "      <td>0</td>\n",
       "      <td>0</td>\n",
       "      <td>0</td>\n",
       "      <td>0</td>\n",
       "      <td>0</td>\n",
       "      <td>0</td>\n",
       "      <td>0</td>\n",
       "      <td>0</td>\n",
       "      <td>0</td>\n",
       "      <td>0</td>\n",
       "    </tr>\n",
       "    <tr>\n",
       "      <th>3</th>\n",
       "      <td>0.000000</td>\n",
       "      <td>0.000000</td>\n",
       "      <td>0.000000</td>\n",
       "      <td>0.0</td>\n",
       "      <td>1.000000</td>\n",
       "      <td>0.500000</td>\n",
       "      <td>0.000000</td>\n",
       "      <td>0.000000</td>\n",
       "      <td>0.000000</td>\n",
       "      <td>0.500000</td>\n",
       "      <td>...</td>\n",
       "      <td>0</td>\n",
       "      <td>0</td>\n",
       "      <td>0</td>\n",
       "      <td>0</td>\n",
       "      <td>0</td>\n",
       "      <td>0</td>\n",
       "      <td>0</td>\n",
       "      <td>0</td>\n",
       "      <td>0</td>\n",
       "      <td>0</td>\n",
       "    </tr>\n",
       "    <tr>\n",
       "      <th>4</th>\n",
       "      <td>0.500000</td>\n",
       "      <td>0.707107</td>\n",
       "      <td>0.666667</td>\n",
       "      <td>2.0</td>\n",
       "      <td>0.333333</td>\n",
       "      <td>2.000000</td>\n",
       "      <td>0.125000</td>\n",
       "      <td>1.000000</td>\n",
       "      <td>0.166667</td>\n",
       "      <td>-1.666667</td>\n",
       "      <td>...</td>\n",
       "      <td>0</td>\n",
       "      <td>0</td>\n",
       "      <td>0</td>\n",
       "      <td>0</td>\n",
       "      <td>0</td>\n",
       "      <td>0</td>\n",
       "      <td>0</td>\n",
       "      <td>0</td>\n",
       "      <td>0</td>\n",
       "      <td>0</td>\n",
       "    </tr>\n",
       "  </tbody>\n",
       "</table>\n",
       "<p>5 rows × 51 columns</p>\n",
       "</div>"
      ],
      "text/plain": [
       "   word_match  word_match_2root  tfidf_word_match  shared_count  stops1_ratio  \\\n",
       "0    0.176680          0.420334          0.153846           2.0      0.833333   \n",
       "1    0.212054          0.460493          0.333333           3.0      1.000000   \n",
       "2    0.191159          0.437218          0.285714           2.0      1.000000   \n",
       "3    0.000000          0.000000          0.000000           0.0      1.000000   \n",
       "4    0.500000          0.707107          0.666667           2.0      0.333333   \n",
       "\n",
       "   stops2_ratio  shared_2gram    cosine  words_hamming  diff_stops_r  \\\n",
       "0      0.444444      0.043478  0.287964       0.000000      0.388889   \n",
       "1      0.400000      0.105263  0.464290       0.142857      0.600000   \n",
       "2      1.000000      0.055556  0.464872       0.071429      0.000000   \n",
       "3      0.500000      0.000000  0.000000       0.000000      0.500000   \n",
       "4      2.000000      0.125000  1.000000       0.166667     -1.666667   \n",
       "\n",
       "     ...     who_both  q1_where  q2_where  where_both  q1_when  q2_when  \\\n",
       "0    ...            0         0         0           0        0        0   \n",
       "1    ...            0         0         0           0        0        0   \n",
       "2    ...            0         0         0           0        0        0   \n",
       "3    ...            0         0         0           0        0        0   \n",
       "4    ...            0         0         0           0        0        0   \n",
       "\n",
       "   when_both  q1_why  q2_why  why_both  \n",
       "0          0       0       1         0  \n",
       "1          0       0       0         0  \n",
       "2          0       0       0         0  \n",
       "3          0       0       0         0  \n",
       "4          0       0       0         0  \n",
       "\n",
       "[5 rows x 51 columns]"
      ]
     },
     "execution_count": 46,
     "metadata": {},
     "output_type": "execute_result"
    }
   ],
   "source": [
    "x_test.head()"
   ]
  },
  {
   "cell_type": "code",
   "execution_count": 47,
   "metadata": {
    "scrolled": true
   },
   "outputs": [
    {
     "data": {
      "text/plain": [
       "word_match          0\n",
       "word_match_2root    0\n",
       "tfidf_word_match    0\n",
       "shared_count        0\n",
       "stops1_ratio        0\n",
       "stops2_ratio        0\n",
       "shared_2gram        0\n",
       "cosine              0\n",
       "words_hamming       0\n",
       "diff_stops_r        0\n",
       "len_q1              0\n",
       "len_q2              0\n",
       "diff_len            0\n",
       "caps_count_q1       0\n",
       "caps_count_q2       0\n",
       "diff_caps           0\n",
       "len_char_q1         0\n",
       "len_char_q2         0\n",
       "diff_len_char       0\n",
       "len_word_q1         0\n",
       "len_word_q2         0\n",
       "diff_len_word       0\n",
       "avg_world_len1      0\n",
       "avg_world_len2      0\n",
       "diff_avg_word       0\n",
       "exactly_same        0\n",
       "duplicated          0\n",
       "q1_freq             0\n",
       "q2_freq             0\n",
       "q1_q2_intersect     0\n",
       "q1_how              0\n",
       "q2_how              0\n",
       "how_both            0\n",
       "q1_what             0\n",
       "q2_what             0\n",
       "what_both           0\n",
       "q1_which            0\n",
       "q2_which            0\n",
       "which_both          0\n",
       "q1_who              0\n",
       "q2_who              0\n",
       "who_both            0\n",
       "q1_where            0\n",
       "q2_where            0\n",
       "where_both          0\n",
       "q1_when             0\n",
       "q2_when             0\n",
       "when_both           0\n",
       "q1_why              0\n",
       "q2_why              0\n",
       "why_both            0\n",
       "dtype: int64"
      ]
     },
     "execution_count": 47,
     "metadata": {},
     "output_type": "execute_result"
    }
   ],
   "source": [
    "x_train = x_train.fillna(x_train.mean())\n",
    "x_test = x_test.fillna(x_test.mean())\n",
    "np.sum(x_test.isnull())"
   ]
  },
  {
   "cell_type": "markdown",
   "metadata": {},
   "source": [
    "# Save the features."
   ]
  },
  {
   "cell_type": "code",
   "execution_count": null,
   "metadata": {},
   "outputs": [],
   "source": [
    "%%time\n",
    "\n",
    "pd.to_pickle(x_train, \"./train_oversamp_jaccard_magic_intersection_features.pkl\")\n",
    "pd.to_pickle(x_test, \"./test_oversamp_jaccard_magic_intersection_features.pkl\")\n",
    "\n",
    "x_train.to_csv('./train_oversamp_jaccard_magic_intersection_features.csv')\n",
    "x_test.to_csv('./test_oversamp_jaccard_magic_intersection_features.csv')\n",
    "\n",
    "pd.DataFrame(data=y_train).to_csv('./y_train_oversampled.csv', index=False)"
   ]
  },
  {
   "cell_type": "markdown",
   "metadata": {},
   "source": [
    "# Prepare for 5 fold stacking"
   ]
  },
  {
   "cell_type": "code",
   "execution_count": 24,
   "metadata": {
    "collapsed": true
   },
   "outputs": [],
   "source": [
    "### For piping data directly from above ###\n",
    "\n",
    "from sklearn.model_selection import StratifiedKFold, GridSearchCV\n",
    "\n",
    "skf = StratifiedKFold(n_splits=3, random_state=None)\n",
    "folds = skf.split(x_train, y_train)\n",
    "_, fold1_index = next(folds)\n",
    "_, fold2_index = next(folds)\n",
    "_, validation_index = next(folds)\n",
    "\n",
    "# pd.DataFrame(data=fold1_index).to_csv('./fold1_index.csv', index=False)\n",
    "# pd.DataFrame(data=fold2_index).to_csv('./fold2_index.csv', index=False)\n",
    "# pd.DataFrame(data=validation_index).to_csv('./validation_index.csv', index=False)\n",
    "\n",
    "print(fold1_index.shape)\n",
    "print(fold2_index.shape)\n",
    "print(validation_index.shape)\n",
    "\n",
    "train_fold1 = x_train.iloc[fold1_index, :]\n",
    "train_fold2 = x_train.iloc[fold2_index, :]\n",
    "validation_fold = x_train.iloc[validation_index, :]\n",
    "\n",
    "y_train_fold1 = pd.DataFrame(data=y_train).iloc[fold1_index, :]\n",
    "y_train_fold2 = pd.DataFrame(data=y_train).iloc[fold2_index, :]\n",
    "y_validation_fold = pd.DataFrame(data=y_train).iloc[validation_index, :]"
   ]
  },
  {
   "cell_type": "code",
   "execution_count": 175,
   "metadata": {},
   "outputs": [
    {
     "name": "stdout",
     "output_type": "stream",
     "text": [
      "0.0    210408\n",
      "1.0     49755\n",
      "Name: 0, dtype: int64\n",
      "0.0    210408\n",
      "1.0     49754\n",
      "Name: 0, dtype: int64\n",
      "0.0    210407\n",
      "1.0     49754\n",
      "Name: 0, dtype: int64\n"
     ]
    }
   ],
   "source": [
    "#####################################\n",
    "### Use this cell if loading data ###\n",
    "#####################################\n",
    "\n",
    "\n",
    "# x_train = pd.read_csv('../kaggle-quora/features/train_oversamp_jaccard_magic_features.csv').drop('Unnamed: 0', axis=1)\n",
    "# y_train = pd.read_csv('../kaggle-quora/features/y_train_oversampled.csv')\n",
    "# x_test = pd.read_csv('../kaggle-quora/features/test_oversamp_jaccard_magic_features.csv').drop('Unnamed: 0', axis=1)\n",
    "# x_test_index = pd.read_csv('../kaggle-quora/features/test_oversamp_jaccard_magic_features.csv').index.values\n",
    "\n",
    "fold1_index = pd.read_csv('./index/fold1_index.csv')\n",
    "fold2_index = pd.read_csv('./index/fold2_index.csv')\n",
    "validation_index = pd.read_csv('./index/validation_index.csv')\n",
    "\n",
    "train_fold1 = x_train.iloc[fold1_index.values.flatten(), :]\n",
    "train_fold2 = x_train.iloc[fold2_index.values.flatten(), :]\n",
    "validation_fold = x_train.iloc[validation_index.values.flatten(), :]\n",
    "\n",
    "y_train_fold1 = pd.DataFrame(y_train).iloc[fold1_index.values.flatten(), :]\n",
    "y_train_fold2 = pd.DataFrame(y_train).iloc[fold2_index.values.flatten(), :]\n",
    "y_validation_fold = pd.DataFrame(y_train).iloc[validation_index.values.flatten(), :]\n",
    "\n",
    "# train_stack = pd.concat((train_fold1, train_fold2), axis=0)\n",
    "# y_train_stack = pd.concat((y_train_fold1, y_train_fold2), axis=0)\n",
    "# train_stack.shape\n",
    "\n",
    "print(y_train_fold1[0].value_counts())\n",
    "print(y_train_fold2[0].value_counts())\n",
    "print(y_validation_fold[0].value_counts())"
   ]
  },
  {
   "cell_type": "code",
   "execution_count": 86,
   "metadata": {
    "collapsed": true
   },
   "outputs": [],
   "source": [
    "#####################################\n",
    "# Generate 5 Fold Stacking Features #\n",
    "#####################################\n",
    "\n",
    "from sklearn.model_selection import StratifiedKFold, validation_curve, GridSearchCV\n",
    "from sklearn.linear_model import LogisticRegression\n",
    "from sklearn.metrics import log_loss\n",
    "\n",
    "def five_fold_train(x, y, model, name='model', folds=5):\n",
    "    ''' Function for Generate Five Fold Stacking Features '''\n",
    "#     x_train_scaled = MinMaxScaler().fit_transform(x)\n",
    "    x_train_scaled = x\n",
    "    skf = StratifiedKFold(n_splits=5, random_state=None, shuffle=False)\n",
    "\n",
    "    fold_count = 1\n",
    "    for train_index, val_index in skf.split(x_train_scaled, y.toarray().flatten()):\n",
    "        print('Folds: ', fold_count)\n",
    "        \n",
    "        # Training...\n",
    "        model.fit(x_train_scaled[train_index], y[train_index].toarray().flatten())\n",
    "        train_error = model.predict_proba(x_train_scaled[train_index])\n",
    "        train_error = pd.DataFrame(train_error).drop(0, axis=1)\n",
    "\n",
    "        # Validating. Layer 2 training features...\n",
    "        val = model.predict_proba(x_train_scaled[val_index])\n",
    "        val = pd.DataFrame(val).drop(0, axis=1)\n",
    "        y_val = y[val_index].toarray().flatten()\n",
    "\n",
    "        val.to_csv('./{}_fold_{}.csv'.format(name, fold_count))\n",
    "        pd.DataFrame(y_val).to_csv('./{}_yval_fold_{}.csv'.format(name, fold_count)) # For sanity check.\n",
    "        print(val.head())\n",
    "        print('Training Error: ', log_loss(y[train_index].toarray().flatten(), train_error))\n",
    "        print('Validation Error: ', log_loss(y_val, val))\n",
    "        fold_count = fold_count + 1"
   ]
  },
  {
   "cell_type": "markdown",
   "metadata": {},
   "source": [
    "# Logistic Regression"
   ]
  },
  {
   "cell_type": "code",
   "execution_count": 77,
   "metadata": {
    "scrolled": true
   },
   "outputs": [
    {
     "name": "stdout",
     "output_type": "stream",
     "text": [
      "CPU times: user 9min 59s, sys: 12.2 s, total: 10min 11s\n",
      "Wall time: 10min 17s\n"
     ]
    }
   ],
   "source": [
    "%%time \n",
    "\n",
    "###########################\n",
    "### Logistic Regression ###\n",
    "###########################\n",
    "\n",
    "from sklearn.linear_model import LogisticRegression\n",
    "\n",
    "logit = LogisticRegression(penalty='l2', solver='sag')\n",
    "x_train_scaled = MinMaxScaler().fit_transform(x_train)\n",
    "train_scores, valid_scores = validation_curve(logit, \\\n",
    "                                              x_train_scaled, \\\n",
    "                                              y_train, \\\n",
    "                                              \"C\", \\\n",
    "                                              range(5, 18, 2), \\\n",
    "                                              cv=3, \\\n",
    "                                              scoring='neg_log_loss', \\\n",
    "                                              n_jobs=1)"
   ]
  },
  {
   "cell_type": "code",
   "execution_count": null,
   "metadata": {
    "scrolled": true
   },
   "outputs": [
    {
     "name": "stdout",
     "output_type": "stream",
     "text": [
      "Fitting 5 folds for each of 3 candidates, totalling 15 fits\n",
      "[CV] C=0.1 ...........................................................\n"
     ]
    }
   ],
   "source": [
    "%%time\n",
    "\n",
    "logit = LogisticRegression(penalty='l1', solver='liblinear')\n",
    "logit_params = {'C':[0.1, 0.5, 0.9]}\n",
    "logit_grid = GridSearchCV(logit, \\\n",
    "                          logit_params, \\\n",
    "                          scoring=make_scorer(log_loss, greater_is_better=False, needs_proba=True), \\\n",
    "                          cv=5, \\\n",
    "                          verbose=10)\n",
    "logit_grid.fit(x_train, y_train)\n",
    "\n",
    "print('Params: ', logit_grid.cv_results_['params'])\n",
    "print('Mean Train Score: ', logit_grid.cv_results_['mean_train_score'])\n",
    "print('Mean Test Score: ', logit_grid.cv_results_['mean_test_score'])\n",
    "print('Best Param: ', logit_grid.best_params_)\n",
    "print('Best Score: ', logit_grid.best_score_)"
   ]
  },
  {
   "cell_type": "code",
   "execution_count": 92,
   "metadata": {},
   "outputs": [
    {
     "name": "stdout",
     "output_type": "stream",
     "text": [
      "Params:  ({'C': 1}, {'C': 10}, {'C': 100}, {'C': 1000})\n",
      "Mean Train Score:  [-0.2665898  -0.26658942 -0.26658964 -0.26658882]\n",
      "Mean Test Score:  [-0.2666143  -0.26661384 -0.26661411 -0.26661329]\n",
      "Best Param:  {'C': 1000}\n",
      "Best Score:  -0.266613293055\n"
     ]
    }
   ],
   "source": [
    "Params:  ({'C': 1}, {'C': 10}, {'C': 100}, {'C': 1000})\n",
    "Mean Train Score:  [-0.2665898  -0.26658942 -0.26658964 -0.26658882]\n",
    "Mean Test Score:  [-0.2666143  -0.26661384 -0.26661411 -0.26661329]\n",
    "Best Param:  {'C': 1000}\n",
    "Best Score:  -0.266613293055\n",
    "\n",
    "##############################\n",
    "Params:  ({'C': 500}, {'C': 1000}, {'C': 1500}, {'C': 2000})\n",
    "Mean Train Score:  [-0.26658964 -0.26658987 -0.2665897  -0.26658974]\n",
    "Mean Test Score:  [-0.26661406 -0.2666143  -0.26661417 -0.2666142 ]\n",
    "Best Param:  {'C': 500}\n",
    "Best Score:  -0.266614057533\n",
    "\n",
    "##############################\n",
    "Params:  ({'C': 1, 'penalty': 'l1'}, {'C': 1, 'penalty': 'l2'}, {'C': 100, 'penalty': 'l1'}, {'C': 100, 'penalty': 'l2'}, {'C': 1000, 'penalty': 'l1'}, {'C': 1000, 'penalty': 'l2'})\n",
    "Mean Train Score:  [-0.24746581 -0.24778714 -0.24748284 -0.24754584 -0.247478   -0.24755111]\n",
    "Mean Test Score:  [-0.24752209 -0.24784375 -0.24753546 -0.2476028  -0.24752787 -0.2475922 ]\n",
    "Best Param:  {'C': 1, 'penalty': 'l1'}\n",
    "Best Score:  -0.247522085005"
   ]
  },
  {
   "cell_type": "code",
   "execution_count": 75,
   "metadata": {
    "scrolled": true
   },
   "outputs": [
    {
     "data": {
      "text/plain": [
       "<matplotlib.legend.Legend at 0x10d6bb828>"
      ]
     },
     "execution_count": 75,
     "metadata": {},
     "output_type": "execute_result"
    },
    {
     "data": {
      "image/png": "[encoded data removed]",
      "text/plain": [
       "<matplotlib.figure.Figure at 0x19a136f98>"
      ]
     },
     "metadata": {},
     "output_type": "display_data"
    }
   ],
   "source": [
    "valid_scores_mean = -1*np.mean(valid_scores, axis=1)\n",
    "train_scores_mean = -1*np.mean(train_scores, axis=1)\n",
    "\n",
    "plt.figure(figsize=(16, 8))\n",
    "plt.plot(range(5, 18, 2), valid_scores_mean, label='valid')\n",
    "plt.plot(range(5, 18, 2), train_scores_mean, label='train')\n",
    "plt.title('L2 Logistic Regression, Solver = liblinear')\n",
    "\n",
    "plt.xlabel('L2 C Value')\n",
    "plt.ylabel('Log Loss Error')\n",
    "plt.legend()"
   ]
  },
  {
   "cell_type": "code",
   "execution_count": 40,
   "metadata": {
    "scrolled": true
   },
   "outputs": [
    {
     "name": "stdout",
     "output_type": "stream",
     "text": [
      "Folds:  1\n"
     ]
    },
    {
     "name": "stderr",
     "output_type": "stream",
     "text": [
      "/Library/Frameworks/Python.framework/Versions/3.6/lib/python3.6/site-packages/sklearn/linear_model/sag.py:286: ConvergenceWarning: The max_iter was reached which means the coef_ did not converge\n",
      "  \"the coef_ did not converge\", ConvergenceWarning)\n"
     ]
    },
    {
     "name": "stdout",
     "output_type": "stream",
     "text": [
      "          1\n",
      "0  0.140120\n",
      "1  0.674630\n",
      "2  0.352436\n",
      "3  0.806241\n",
      "4  0.733487\n",
      "Training Error:  0.181013578451\n",
      "Validation Error:  0.219938991821\n",
      "Folds:  2\n",
      "          1\n",
      "0  0.682919\n",
      "1  0.506382\n",
      "2  0.489184\n",
      "3  0.802108\n",
      "4  0.725015\n",
      "Training Error:  0.177402226438\n",
      "Validation Error:  0.233067737294\n",
      "Folds:  3\n",
      "          1\n",
      "0  0.872292\n",
      "1  0.855754\n",
      "2  0.946933\n",
      "3  0.579891\n",
      "4  0.881219\n",
      "Training Error:  0.180767232494\n",
      "Validation Error:  0.220788973166\n",
      "Folds:  4\n",
      "          1\n",
      "0  0.192511\n",
      "1  0.517579\n",
      "2  0.864140\n",
      "3  0.676547\n",
      "4  0.608767\n",
      "Training Error:  0.177274701256\n",
      "Validation Error:  0.23404859658\n",
      "Folds:  5\n",
      "          1\n",
      "0  0.203961\n",
      "1  0.273272\n",
      "2  0.369178\n",
      "3  0.942537\n",
      "4  0.633795\n",
      "Training Error:  0.180871739442\n",
      "Validation Error:  0.220228106791\n",
      "CPU times: user 18min 14s, sys: 17.3 s, total: 18min 32s\n",
      "Wall time: 18min 58s\n"
     ]
    }
   ],
   "source": [
    "%%time\n",
    "logit = LogisticRegression(solver='sag', C=1)\n",
    "five_fold_train(x_train, y_train, logit, name='logit', folds=5)"
   ]
  },
  {
   "cell_type": "code",
   "execution_count": 43,
   "metadata": {},
   "outputs": [
    {
     "name": "stderr",
     "output_type": "stream",
     "text": [
      "/Library/Frameworks/Python.framework/Versions/3.6/lib/python3.6/site-packages/sklearn/linear_model/sag.py:286: ConvergenceWarning: The max_iter was reached which means the coef_ did not converge\n",
      "  \"the coef_ did not converge\", ConvergenceWarning)\n"
     ]
    },
    {
     "name": "stdout",
     "output_type": "stream",
     "text": [
      "CPU times: user 4min 3s, sys: 1.54 s, total: 4min 4s\n",
      "Wall time: 4min 5s\n"
     ]
    }
   ],
   "source": [
    "%%time\n",
    "\n",
    "# Training on the whole training set, and predict on test set. Used as test feature for stacking.\n",
    "logit = LogisticRegression(penalty='l2', solver='sag', C=15)\n",
    "logit.fit(x_train, y_train.toarray().flatten())\n",
    "logit_layer_1_test = logit.predict_proba(x_test)"
   ]
  },
  {
   "cell_type": "code",
   "execution_count": 44,
   "metadata": {
    "collapsed": true
   },
   "outputs": [],
   "source": [
    "x_test_index = pd.read_csv('../kaggle-quora/features/test_oversamp_jaccard_magic_features.csv').index.values\n",
    "submission = pd.DataFrame()\n",
    "submission['test_id'] = x_test_index\n",
    "submission['is_duplicate'] = pd.DataFrame(logit_layer_1_test)[1]\n",
    "submission.to_csv('logit_layer_1_test_sparse_data_l2_sag_C1.csv', index=False)"
   ]
  },
  {
   "cell_type": "code",
   "execution_count": 178,
   "metadata": {
    "scrolled": true
   },
   "outputs": [
    {
     "name": "stderr",
     "output_type": "stream",
     "text": [
      "/Library/Frameworks/Python.framework/Versions/3.6/lib/python3.6/site-packages/sklearn/utils/validation.py:526: DataConversionWarning: A column-vector y was passed when a 1d array was expected. Please change the shape of y to (n_samples, ), for example using ravel().\n",
      "  y = column_or_1d(y, warn=True)\n"
     ]
    },
    {
     "name": "stdout",
     "output_type": "stream",
     "text": [
      "[LibLinear][LibLinear]The log loss is: 0.351\n",
      "CPU times: user 33.2 s, sys: 511 ms, total: 33.7 s\n",
      "Wall time: 34 s\n"
     ]
    }
   ],
   "source": [
    "%%time\n",
    "\n",
    "# If already scaled, comment out:\n",
    "# scaler = MinMaxScaler()\n",
    "# train_fold1_scaled = scaler.fit_transform(train_fold1)\n",
    "# train_fold2_scaled = scaler.fit_transform(train_fold2)\n",
    "# validation_fold_scaled = scaler.fit_transform(validation_fold)\n",
    "\n",
    "# If already scaled, use this:\n",
    "train_fold1_scaled = train_fold1\n",
    "train_fold2_scaled = train_fold2\n",
    "validation_fold_scaled = validation_fold\n",
    "\n",
    "def get_2fold_stack_logit(model):\n",
    "    model.fit(train_fold1_scaled, y_train_fold1)\n",
    "    new_fold2 = model.predict_proba(train_fold2_scaled)\n",
    "    v1 = model.predict_proba(validation_fold_scaled)  ### There is model\n",
    "\n",
    "    model.fit(train_fold2_scaled, y_train_fold2)\n",
    "    new_fold1 = model.predict_proba(train_fold1_scaled)\n",
    "    v2 = model.predict_proba(validation_fold_scaled) ### The model here is different\n",
    "    \n",
    "    return np.concatenate([new_fold1, new_fold2], axis=0), (v1+v2)/2\n",
    "\n",
    "logit = LogisticRegression(verbose=10)\n",
    "logit_layer_1_train, logit_layer_1_val = get_2fold_stack_logit(logit)\n",
    "print('\\nThe log loss is: %.3f' % log_loss(y_validation_fold, logit_layer_1_val))"
   ]
  },
  {
   "cell_type": "code",
   "execution_count": 121,
   "metadata": {
    "scrolled": true
   },
   "outputs": [
    {
     "name": "stdout",
     "output_type": "stream",
     "text": [
      "CPU times: user 12min 48s, sys: 17.5 s, total: 13min 6s\n",
      "Wall time: 14min 51s\n"
     ]
    }
   ],
   "source": [
    "%%time\n",
    "\n",
    "##############################\n",
    "### RandomForestClassifier ###\n",
    "##############################\n",
    "\n",
    "from sklearn.ensemble import RandomForestClassifier\n",
    "\n",
    "rf = RandomForestClassifier(n_estimators=50, max_depth=8, min_samples_leaf=5)\n",
    "x_train_scaled = MinMaxScaler().fit_transform(x_train)\n",
    "train_scores, valid_scores = validation_curve(rf, \\\n",
    "                                              x_train_scaled, \\\n",
    "                                              y_train, \\\n",
    "                                              \"min_samples_leaf\", \\\n",
    "                                              range(1, 9, 2), \\\n",
    "                                              cv=3, \\\n",
    "                                              scoring='neg_log_loss', \\\n",
    "                                              n_jobs=1)"
   ]
  },
  {
   "cell_type": "code",
   "execution_count": 122,
   "metadata": {
    "scrolled": true
   },
   "outputs": [
    {
     "data": {
      "text/plain": [
       "<matplotlib.legend.Legend at 0x1646ea7f0>"
      ]
     },
     "execution_count": 122,
     "metadata": {},
     "output_type": "execute_result"
    },
    {
     "data": {
      "image/png": "[encoded data removed]",
      "text/plain": [
       "<matplotlib.figure.Figure at 0x16460b5f8>"
      ]
     },
     "metadata": {},
     "output_type": "display_data"
    }
   ],
   "source": [
    "# Plot the learning curve from the above result.\n",
    "\n",
    "valid_scores_mean = -1*np.mean(valid_scores, axis=1)\n",
    "train_scores_mean = -1*np.mean(train_scores, axis=1)\n",
    "\n",
    "plt.figure(figsize=(16, 8))\n",
    "plt.plot(range(1, 9, 2), valid_scores_mean, label='valid')\n",
    "plt.plot(range(1, 9, 2), train_scores_mean, label='train')\n",
    "plt.title('Random Forest, min_samples_leaf')\n",
    "\n",
    "plt.xlabel('min_samples_leaf')\n",
    "plt.ylabel('Log Loss Error')\n",
    "plt.legend()"
   ]
  },
  {
   "cell_type": "code",
   "execution_count": 36,
   "metadata": {
    "scrolled": true
   },
   "outputs": [
    {
     "name": "stdout",
     "output_type": "stream",
     "text": [
      "Folds:  1\n"
     ]
    },
    {
     "name": "stderr",
     "output_type": "stream",
     "text": [
      "/Library/Frameworks/Python.framework/Versions/3.6/lib/python3.6/site-packages/sklearn/linear_model/sag.py:286: ConvergenceWarning: The max_iter was reached which means the coef_ did not converge\n",
      "  \"the coef_ did not converge\", ConvergenceWarning)\n"
     ]
    },
    {
     "name": "stdout",
     "output_type": "stream",
     "text": [
      "          1\n",
      "0  0.093955\n",
      "1  0.810183\n",
      "2  0.118173\n",
      "3  0.980945\n",
      "4  0.863885\n",
      "Training Error:  0.0589571743837\n",
      "Validation Error:  0.162301475883\n",
      "Folds:  2\n",
      "          1\n",
      "0  0.362710\n",
      "1  0.862683\n",
      "2  0.556769\n",
      "3  0.969548\n",
      "4  0.952394\n",
      "Training Error:  0.0575317995721\n",
      "Validation Error:  0.172268231372\n",
      "Folds:  3\n",
      "          1\n",
      "0  0.966553\n",
      "1  0.968087\n",
      "2  0.997220\n",
      "3  0.665508\n",
      "4  0.992391\n",
      "Training Error:  0.0588350491621\n",
      "Validation Error:  0.163564177422\n",
      "Folds:  4\n",
      "          1\n",
      "0  0.107062\n",
      "1  0.509644\n",
      "2  0.983645\n",
      "3  0.853696\n",
      "4  0.966892\n",
      "Training Error:  0.0574649957295\n",
      "Validation Error:  0.173630240822\n",
      "Folds:  5\n",
      "          1\n",
      "0  0.304482\n",
      "1  0.539709\n",
      "2  0.620212\n",
      "3  0.994627\n",
      "4  0.809528\n",
      "Training Error:  0.0588546954903\n",
      "Validation Error:  0.162709384984\n",
      "CPU times: user 16min 2s, sys: 8.55 s, total: 16min 11s\n",
      "Wall time: 16min 12s\n"
     ]
    }
   ],
   "source": [
    "%%time\n",
    "from sklearn.ensemble import RandomForestClassifier\n",
    "rf = RandomForestClassifier(n_estimators=50, max_depth=8, min_samples_leaf=5)\n",
    "five_fold_train(x_train, y_train, rf, name='rf', folds=5)"
   ]
  },
  {
   "cell_type": "code",
   "execution_count": 184,
   "metadata": {},
   "outputs": [
    {
     "name": "stderr",
     "output_type": "stream",
     "text": [
      "/Library/Frameworks/Python.framework/Versions/3.6/lib/python3.6/site-packages/ipykernel_launcher.py:4: DataConversionWarning: A column-vector y was passed when a 1d array was expected. Please change the shape of y to (n_samples,), for example using ravel().\n",
      "  after removing the cwd from sys.path.\n",
      "/Library/Frameworks/Python.framework/Versions/3.6/lib/python3.6/site-packages/ipykernel_launcher.py:8: DataConversionWarning: A column-vector y was passed when a 1d array was expected. Please change the shape of y to (n_samples,), for example using ravel().\n",
      "  \n"
     ]
    },
    {
     "name": "stdout",
     "output_type": "stream",
     "text": [
      "0.19647339767\n",
      "0.201647508498\n",
      "CPU times: user 4min 29s, sys: 5.09 s, total: 4min 34s\n",
      "Wall time: 4min 38s\n"
     ]
    }
   ],
   "source": [
    "%%time\n",
    "\n",
    "def get_2fold_stack_rf(model):\n",
    "    ''' Get 2 fold stacking results '''\n",
    "    model.fit(train_fold1_scaled, y_train_fold1)\n",
    "    new_fold2 = model.predict_proba(train_fold2_scaled)\n",
    "    v1 = model.predict_proba(validation_fold_scaled)  ### There is model\n",
    "\n",
    "    model.fit(train_fold2_scaled, y_train_fold2)\n",
    "    new_fold1 = model.predict_proba(train_fold1_scaled)\n",
    "    v2 = model.predict_proba(validation_fold_scaled) ### The model here is different\n",
    "    \n",
    "    return np.concatenate([new_fold1, new_fold2], axis=0), (v1+v2)/2\n",
    "\n",
    "rf = RandomForestClassifier(n_estimators=150)\n",
    "rf_layer_1_train, rf_layer_1_val = get_2fold_stack_rf(rf)\n",
    "\n",
    "rf_layer_1_val = pd.DataFrame(rf_layer_1_val).drop(0, axis=1)\n",
    "rf_layer_1_val.columns = ['rf_layer_1_val']\n",
    "\n",
    "rf_layer_1_train = pd.DataFrame(rf_layer_1_train).drop(0, axis=1)\n",
    "rf_layer_1_train.columns = ['rf_layer_1_train']\n",
    "\n",
    "print(log_loss(y_validation_fold, rf_layer_1_val))\n",
    "print(log_loss(pd.concat([y_train_fold1, y_train_fold2], axis=0), rf_layer_1_train))\n",
    "\n",
    "# Output layer 1 folds to csv\n",
    "# rf_layer_1_train.to_csv('./rf_layer_1_train.csv', index=False)\n",
    "# rf_layer_1_val.to_csv('./rf_layer_1_val.csv', index=False)"
   ]
  },
  {
   "cell_type": "code",
   "execution_count": 38,
   "metadata": {},
   "outputs": [
    {
     "name": "stdout",
     "output_type": "stream",
     "text": [
      "CPU times: user 1min 46s, sys: 4.11 s, total: 1min 50s\n",
      "Wall time: 1min 51s\n"
     ]
    }
   ],
   "source": [
    "%%time\n",
    "\n",
    "# Training on the whole training set, and predict on test set. Used as test feature for stacking.\n",
    "rf = RandomForestClassifier(n_estimators=50, max_depth=8, min_samples_leaf=5)\n",
    "rf.fit(x_train, y_train.toarray().flatten())\n",
    "rf_layer_1_test = rf.predict_proba(x_test)"
   ]
  },
  {
   "cell_type": "code",
   "execution_count": 39,
   "metadata": {
    "collapsed": true
   },
   "outputs": [],
   "source": [
    "x_test_index = pd.read_csv('../kaggle-quora/features/test_oversamp_jaccard_magic_features.csv').index.values\n",
    "\n",
    "submission = pd.DataFrame()\n",
    "submission['test_id'] = x_test_index\n",
    "submission['is_duplicate'] = pd.DataFrame(rf_layer_1_test)[1]\n",
    "submission.to_csv('rf_layer_1_test_sparse_50_8_5.csv', index=False)"
   ]
  },
  {
   "cell_type": "code",
   "execution_count": 65,
   "metadata": {},
   "outputs": [
    {
     "name": "stdout",
     "output_type": "stream",
     "text": [
      "(780486, 51) 780486 (2345796, 51)\n"
     ]
    },
    {
     "data": {
      "text/plain": [
       "numpy.ndarray"
      ]
     },
     "execution_count": 65,
     "metadata": {},
     "output_type": "execute_result"
    }
   ],
   "source": [
    "print(x_train.shape, len(y_train), x_test.shape)\n",
    "y_train[1:10]\n",
    "type(np.array(y_train))"
   ]
  },
  {
   "cell_type": "markdown",
   "metadata": {},
   "source": [
    "# XGBoost"
   ]
  },
  {
   "cell_type": "code",
   "execution_count": 66,
   "metadata": {
    "collapsed": true
   },
   "outputs": [],
   "source": [
    "###############\n",
    "### XGBoost ###\n",
    "###############\n",
    "\n",
    "def five_fold_train_xgb(x, y, param, rounds, model, name='model', folds=5):\n",
    "    ''' Function for Generate Five Fold Stacking Features '''\n",
    "    x_train_scaled = MinMaxScaler().fit_transform(x)    \n",
    "    skf = StratifiedKFold(n_splits=5, random_state=None, shuffle=False)\n",
    "\n",
    "    fold_count = 1\n",
    "    for train_index, val_index in skf.split(x_train_scaled, y):\n",
    "        print('Folds: ', fold_count)\n",
    "\n",
    "        # Preparing Data...\n",
    "        xg_train = xgb.DMatrix(x_train_scaled[train_index], label=y[train_index])\n",
    "        xg_val = xgb.DMatrix(x_train_scaled[val_index], label=y[val_index])\n",
    "        watchlist = [(xg_train, 'train'), (xg_val, 'eval')]\n",
    "        \n",
    "        # Training...\n",
    "        clf = model.train(param, \\\n",
    "                          xg_train, \\\n",
    "                          rounds, \\\n",
    "                          watchlist, \\\n",
    "                          early_stopping_rounds=10, \\\n",
    "                          verbose_eval=10)\n",
    "        \n",
    "        \n",
    "        # Validating. Layer 2 training features...\n",
    "        xg_val_2 = xgb.DMatrix(x_train_scaled[val_index])\n",
    "        val = clf.predict(xg_val_2)\n",
    "        val = pd.DataFrame(val)\n",
    "        y_val = y[val_index]\n",
    "\n",
    "        val.to_csv('./{}_fold_{}.csv'.format(name, fold_count))\n",
    "        pd.DataFrame(y_val).to_csv('./{}_yval_fold_{}.csv'.format(name, fold_count)) # For sanity check.\n",
    "        print(val.head())\n",
    "        print('Validation Error: ', log_loss(y_val, val))\n",
    "        fold_count = fold_count + 1\n",
    "        \n",
    "params = {}\n",
    "params['objective'] = 'binary:logistic'\n",
    "params['eval_metric'] = 'logloss'\n",
    "params['eta'] = 0.11\n",
    "params['max_depth'] = 5\n",
    "params['seed'] = RS"
   ]
  },
  {
   "cell_type": "code",
   "execution_count": 67,
   "metadata": {
    "scrolled": true
   },
   "outputs": [
    {
     "name": "stdout",
     "output_type": "stream",
     "text": [
      "Folds:  1\n",
      "[0]\ttrain-logloss:0.619098\teval-logloss:0.619159\n",
      "Multiple eval metrics have been passed: 'eval-logloss' will be used for early stopping.\n",
      "\n",
      "Will train until eval-logloss hasn't improved in 50 rounds.\n",
      "[10]\ttrain-logloss:0.315375\teval-logloss:0.315684\n",
      "[20]\ttrain-logloss:0.245995\teval-logloss:0.2464\n",
      "[30]\ttrain-logloss:0.224195\teval-logloss:0.224654\n",
      "[40]\ttrain-logloss:0.216184\teval-logloss:0.21683\n",
      "[50]\ttrain-logloss:0.211939\teval-logloss:0.212651\n",
      "[60]\ttrain-logloss:0.208865\teval-logloss:0.209684\n",
      "[70]\ttrain-logloss:0.206421\teval-logloss:0.207267\n",
      "[80]\ttrain-logloss:0.204765\teval-logloss:0.205721\n",
      "[90]\ttrain-logloss:0.203241\teval-logloss:0.204362\n",
      "[100]\ttrain-logloss:0.20192\teval-logloss:0.203164\n",
      "[110]\ttrain-logloss:0.200951\teval-logloss:0.202323\n",
      "[120]\ttrain-logloss:0.200054\teval-logloss:0.201577\n",
      "[130]\ttrain-logloss:0.199153\teval-logloss:0.200769\n",
      "[140]\ttrain-logloss:0.198432\teval-logloss:0.200181\n",
      "[150]\ttrain-logloss:0.197675\teval-logloss:0.199578\n",
      "[160]\ttrain-logloss:0.196935\teval-logloss:0.198968\n",
      "[170]\ttrain-logloss:0.196147\teval-logloss:0.198312\n",
      "[180]\ttrain-logloss:0.1954\teval-logloss:0.197719\n",
      "[190]\ttrain-logloss:0.194746\teval-logloss:0.197205\n",
      "[200]\ttrain-logloss:0.194262\teval-logloss:0.19683\n",
      "[210]\ttrain-logloss:0.193895\teval-logloss:0.196565\n",
      "[220]\ttrain-logloss:0.19324\teval-logloss:0.196086\n",
      "[230]\ttrain-logloss:0.192668\teval-logloss:0.195622\n",
      "[240]\ttrain-logloss:0.191981\teval-logloss:0.195093\n",
      "[250]\ttrain-logloss:0.191514\teval-logloss:0.194757\n",
      "[260]\ttrain-logloss:0.191053\teval-logloss:0.194454\n",
      "[270]\ttrain-logloss:0.190696\teval-logloss:0.194208\n",
      "[280]\ttrain-logloss:0.190156\teval-logloss:0.193836\n",
      "[290]\ttrain-logloss:0.189663\teval-logloss:0.193493\n",
      "[300]\ttrain-logloss:0.189357\teval-logloss:0.19329\n",
      "[310]\ttrain-logloss:0.18896\teval-logloss:0.193021\n",
      "[320]\ttrain-logloss:0.188626\teval-logloss:0.1928\n",
      "[330]\ttrain-logloss:0.188342\teval-logloss:0.19259\n",
      "[340]\ttrain-logloss:0.187977\teval-logloss:0.19238\n",
      "[350]\ttrain-logloss:0.18781\teval-logloss:0.192294\n",
      "[360]\ttrain-logloss:0.18752\teval-logloss:0.192143\n",
      "[370]\ttrain-logloss:0.187123\teval-logloss:0.191917\n",
      "[380]\ttrain-logloss:0.18672\teval-logloss:0.191644\n",
      "[390]\ttrain-logloss:0.186368\teval-logloss:0.191438\n",
      "[400]\ttrain-logloss:0.186107\teval-logloss:0.19128\n",
      "[410]\ttrain-logloss:0.185707\teval-logloss:0.191012\n",
      "[420]\ttrain-logloss:0.185392\teval-logloss:0.190879\n",
      "[430]\ttrain-logloss:0.184988\teval-logloss:0.190626\n",
      "[440]\ttrain-logloss:0.184751\teval-logloss:0.190491\n",
      "[450]\ttrain-logloss:0.1845\teval-logloss:0.190333\n",
      "[460]\ttrain-logloss:0.184281\teval-logloss:0.190206\n",
      "[470]\ttrain-logloss:0.184043\teval-logloss:0.190074\n",
      "[480]\ttrain-logloss:0.183651\teval-logloss:0.189852\n",
      "[490]\ttrain-logloss:0.183387\teval-logloss:0.189715\n",
      "[500]\ttrain-logloss:0.183059\teval-logloss:0.18952\n",
      "[510]\ttrain-logloss:0.182758\teval-logloss:0.189341\n",
      "[520]\ttrain-logloss:0.18249\teval-logloss:0.189162\n",
      "[530]\ttrain-logloss:0.18224\teval-logloss:0.188991\n",
      "[540]\ttrain-logloss:0.181938\teval-logloss:0.188825\n",
      "[550]\ttrain-logloss:0.181656\teval-logloss:0.188633\n",
      "[560]\ttrain-logloss:0.181393\teval-logloss:0.188497\n",
      "[570]\ttrain-logloss:0.18106\teval-logloss:0.188315\n",
      "[580]\ttrain-logloss:0.180684\teval-logloss:0.188094\n",
      "[590]\ttrain-logloss:0.180428\teval-logloss:0.187951\n",
      "[600]\ttrain-logloss:0.180218\teval-logloss:0.187832\n",
      "[610]\ttrain-logloss:0.179911\teval-logloss:0.187688\n",
      "[620]\ttrain-logloss:0.179644\teval-logloss:0.187595\n",
      "[630]\ttrain-logloss:0.179335\teval-logloss:0.187449\n",
      "[640]\ttrain-logloss:0.179087\teval-logloss:0.187314\n",
      "[650]\ttrain-logloss:0.178773\teval-logloss:0.187142\n",
      "[660]\ttrain-logloss:0.178522\teval-logloss:0.187016\n",
      "[670]\ttrain-logloss:0.1783\teval-logloss:0.186923\n",
      "[680]\ttrain-logloss:0.17808\teval-logloss:0.186825\n",
      "[690]\ttrain-logloss:0.177996\teval-logloss:0.186794\n",
      "[700]\ttrain-logloss:0.177676\teval-logloss:0.186625\n",
      "[710]\ttrain-logloss:0.177384\teval-logloss:0.186458\n",
      "[720]\ttrain-logloss:0.177196\teval-logloss:0.186378\n",
      "[730]\ttrain-logloss:0.176936\teval-logloss:0.186266\n",
      "[740]\ttrain-logloss:0.176726\teval-logloss:0.186169\n",
      "[750]\ttrain-logloss:0.176535\teval-logloss:0.186047\n",
      "[760]\ttrain-logloss:0.176283\teval-logloss:0.185931\n",
      "[770]\ttrain-logloss:0.176147\teval-logloss:0.185877\n",
      "[780]\ttrain-logloss:0.175899\teval-logloss:0.185765\n",
      "[790]\ttrain-logloss:0.175714\teval-logloss:0.18566\n",
      "[800]\ttrain-logloss:0.175482\teval-logloss:0.185543\n",
      "[810]\ttrain-logloss:0.175197\teval-logloss:0.185412\n",
      "[820]\ttrain-logloss:0.174962\teval-logloss:0.1853\n",
      "[830]\ttrain-logloss:0.174736\teval-logloss:0.185217\n",
      "[840]\ttrain-logloss:0.174488\teval-logloss:0.185104\n",
      "[850]\ttrain-logloss:0.174185\teval-logloss:0.184959\n",
      "[860]\ttrain-logloss:0.173869\teval-logloss:0.18478\n",
      "[870]\ttrain-logloss:0.173623\teval-logloss:0.184656\n",
      "[880]\ttrain-logloss:0.173393\teval-logloss:0.184559\n",
      "[890]\ttrain-logloss:0.173225\teval-logloss:0.184475\n",
      "[900]\ttrain-logloss:0.173091\teval-logloss:0.18441\n",
      "[910]\ttrain-logloss:0.172884\teval-logloss:0.184319\n",
      "[920]\ttrain-logloss:0.172694\teval-logloss:0.184224\n",
      "[930]\ttrain-logloss:0.172587\teval-logloss:0.184175\n",
      "[940]\ttrain-logloss:0.172364\teval-logloss:0.184038\n",
      "[950]\ttrain-logloss:0.172127\teval-logloss:0.183899\n",
      "[960]\ttrain-logloss:0.171877\teval-logloss:0.183773\n",
      "[970]\ttrain-logloss:0.171603\teval-logloss:0.18364\n",
      "[980]\ttrain-logloss:0.171348\teval-logloss:0.183534\n"
     ]
    },
    {
     "ename": "KeyboardInterrupt",
     "evalue": "",
     "output_type": "error",
     "traceback": [
      "\u001b[0;31m---------------------------------------------------------------------------\u001b[0m",
      "\u001b[0;31mKeyboardInterrupt\u001b[0m                         Traceback (most recent call last)",
      "\u001b[0;32m<timed eval>\u001b[0m in \u001b[0;36m<module>\u001b[0;34m()\u001b[0m\n",
      "\u001b[0;32m<ipython-input-66-5acf50c40c0a>\u001b[0m in \u001b[0;36mfive_fold_train_xgb\u001b[0;34m(x, y, param, rounds, model, name, folds)\u001b[0m\n\u001b[1;32m     18\u001b[0m \u001b[0;34m\u001b[0m\u001b[0m\n\u001b[1;32m     19\u001b[0m         \u001b[0;31m# Training...\u001b[0m\u001b[0;34m\u001b[0m\u001b[0;34m\u001b[0m\u001b[0m\n\u001b[0;32m---> 20\u001b[0;31m         \u001b[0mclf\u001b[0m \u001b[0;34m=\u001b[0m \u001b[0mmodel\u001b[0m\u001b[0;34m.\u001b[0m\u001b[0mtrain\u001b[0m\u001b[0;34m(\u001b[0m\u001b[0mparam\u001b[0m\u001b[0;34m,\u001b[0m                           \u001b[0mxg_train\u001b[0m\u001b[0;34m,\u001b[0m                           \u001b[0mrounds\u001b[0m\u001b[0;34m,\u001b[0m                           \u001b[0mwatchlist\u001b[0m\u001b[0;34m,\u001b[0m                           \u001b[0mearly_stopping_rounds\u001b[0m\u001b[0;34m=\u001b[0m\u001b[0;36m50\u001b[0m\u001b[0;34m,\u001b[0m                           \u001b[0mverbose_eval\u001b[0m\u001b[0;34m=\u001b[0m\u001b[0;36m10\u001b[0m\u001b[0;34m)\u001b[0m\u001b[0;34m\u001b[0m\u001b[0m\n\u001b[0m\u001b[1;32m     21\u001b[0m \u001b[0;34m\u001b[0m\u001b[0m\n\u001b[1;32m     22\u001b[0m \u001b[0;34m\u001b[0m\u001b[0m\n",
      "\u001b[0;32m/Library/Frameworks/Python.framework/Versions/3.6/lib/python3.6/site-packages/xgboost-0.6-py3.6.egg/xgboost/training.py\u001b[0m in \u001b[0;36mtrain\u001b[0;34m(params, dtrain, num_boost_round, evals, obj, feval, maximize, early_stopping_rounds, evals_result, verbose_eval, xgb_model, callbacks, learning_rates)\u001b[0m\n\u001b[1;32m    202\u001b[0m                            \u001b[0mevals\u001b[0m\u001b[0;34m=\u001b[0m\u001b[0mevals\u001b[0m\u001b[0;34m,\u001b[0m\u001b[0;34m\u001b[0m\u001b[0m\n\u001b[1;32m    203\u001b[0m                            \u001b[0mobj\u001b[0m\u001b[0;34m=\u001b[0m\u001b[0mobj\u001b[0m\u001b[0;34m,\u001b[0m \u001b[0mfeval\u001b[0m\u001b[0;34m=\u001b[0m\u001b[0mfeval\u001b[0m\u001b[0;34m,\u001b[0m\u001b[0;34m\u001b[0m\u001b[0m\n\u001b[0;32m--> 204\u001b[0;31m                            xgb_model=xgb_model, callbacks=callbacks)\n\u001b[0m\u001b[1;32m    205\u001b[0m \u001b[0;34m\u001b[0m\u001b[0m\n\u001b[1;32m    206\u001b[0m \u001b[0;34m\u001b[0m\u001b[0m\n",
      "\u001b[0;32m/Library/Frameworks/Python.framework/Versions/3.6/lib/python3.6/site-packages/xgboost-0.6-py3.6.egg/xgboost/training.py\u001b[0m in \u001b[0;36m_train_internal\u001b[0;34m(params, dtrain, num_boost_round, evals, obj, feval, xgb_model, callbacks)\u001b[0m\n\u001b[1;32m     72\u001b[0m         \u001b[0;31m# Skip the first update if it is a recovery step.\u001b[0m\u001b[0;34m\u001b[0m\u001b[0;34m\u001b[0m\u001b[0m\n\u001b[1;32m     73\u001b[0m         \u001b[0;32mif\u001b[0m \u001b[0mversion\u001b[0m \u001b[0;34m%\u001b[0m \u001b[0;36m2\u001b[0m \u001b[0;34m==\u001b[0m \u001b[0;36m0\u001b[0m\u001b[0;34m:\u001b[0m\u001b[0;34m\u001b[0m\u001b[0m\n\u001b[0;32m---> 74\u001b[0;31m             \u001b[0mbst\u001b[0m\u001b[0;34m.\u001b[0m\u001b[0mupdate\u001b[0m\u001b[0;34m(\u001b[0m\u001b[0mdtrain\u001b[0m\u001b[0;34m,\u001b[0m \u001b[0mi\u001b[0m\u001b[0;34m,\u001b[0m \u001b[0mobj\u001b[0m\u001b[0;34m)\u001b[0m\u001b[0;34m\u001b[0m\u001b[0m\n\u001b[0m\u001b[1;32m     75\u001b[0m             \u001b[0mbst\u001b[0m\u001b[0;34m.\u001b[0m\u001b[0msave_rabit_checkpoint\u001b[0m\u001b[0;34m(\u001b[0m\u001b[0;34m)\u001b[0m\u001b[0;34m\u001b[0m\u001b[0m\n\u001b[1;32m     76\u001b[0m             \u001b[0mversion\u001b[0m \u001b[0;34m+=\u001b[0m \u001b[0;36m1\u001b[0m\u001b[0;34m\u001b[0m\u001b[0m\n",
      "\u001b[0;32m/Library/Frameworks/Python.framework/Versions/3.6/lib/python3.6/site-packages/xgboost-0.6-py3.6.egg/xgboost/core.py\u001b[0m in \u001b[0;36mupdate\u001b[0;34m(self, dtrain, iteration, fobj)\u001b[0m\n\u001b[1;32m    817\u001b[0m \u001b[0;34m\u001b[0m\u001b[0m\n\u001b[1;32m    818\u001b[0m         \u001b[0;32mif\u001b[0m \u001b[0mfobj\u001b[0m \u001b[0;32mis\u001b[0m \u001b[0;32mNone\u001b[0m\u001b[0;34m:\u001b[0m\u001b[0;34m\u001b[0m\u001b[0m\n\u001b[0;32m--> 819\u001b[0;31m             \u001b[0m_check_call\u001b[0m\u001b[0;34m(\u001b[0m\u001b[0m_LIB\u001b[0m\u001b[0;34m.\u001b[0m\u001b[0mXGBoosterUpdateOneIter\u001b[0m\u001b[0;34m(\u001b[0m\u001b[0mself\u001b[0m\u001b[0;34m.\u001b[0m\u001b[0mhandle\u001b[0m\u001b[0;34m,\u001b[0m \u001b[0miteration\u001b[0m\u001b[0;34m,\u001b[0m \u001b[0mdtrain\u001b[0m\u001b[0;34m.\u001b[0m\u001b[0mhandle\u001b[0m\u001b[0;34m)\u001b[0m\u001b[0;34m)\u001b[0m\u001b[0;34m\u001b[0m\u001b[0m\n\u001b[0m\u001b[1;32m    820\u001b[0m         \u001b[0;32melse\u001b[0m\u001b[0;34m:\u001b[0m\u001b[0;34m\u001b[0m\u001b[0m\n\u001b[1;32m    821\u001b[0m             \u001b[0mpred\u001b[0m \u001b[0;34m=\u001b[0m \u001b[0mself\u001b[0m\u001b[0;34m.\u001b[0m\u001b[0mpredict\u001b[0m\u001b[0;34m(\u001b[0m\u001b[0mdtrain\u001b[0m\u001b[0;34m)\u001b[0m\u001b[0;34m\u001b[0m\u001b[0m\n",
      "\u001b[0;31mKeyboardInterrupt\u001b[0m: "
     ]
    }
   ],
   "source": [
    "%%time\n",
    "five_fold_train_xgb(x_train, np.array(y_train), params, 1000, xgb, 'xgb', 5)"
   ]
  },
  {
   "cell_type": "code",
   "execution_count": 82,
   "metadata": {
    "scrolled": true
   },
   "outputs": [
    {
     "name": "stdout",
     "output_type": "stream",
     "text": [
      "[0]\ttrain-logloss:0.477555+0.000418674\ttest-logloss:0.477572+0.000829721\n",
      "[10]\ttrain-logloss:0.40089+0.000371792\ttest-logloss:0.401076+0.000693702\n",
      "[20]\ttrain-logloss:0.353104+0.000322314\ttest-logloss:0.353459+0.000684774\n",
      "[30]\ttrain-logloss:0.319786+0.000320911\ttest-logloss:0.3203+0.000682732\n",
      "[40]\ttrain-logloss:0.29531+0.000291169\ttest-logloss:0.295969+0.000701328\n",
      "[50]\ttrain-logloss:0.276728+0.000290223\ttest-logloss:0.277525+0.00071075\n",
      "[60]\ttrain-logloss:0.262275+0.000268025\ttest-logloss:0.263212+0.000742039\n",
      "[70]\ttrain-logloss:0.251016+0.000262604\ttest-logloss:0.252095+0.000745416\n",
      "[80]\ttrain-logloss:0.242083+0.00025898\ttest-logloss:0.243295+0.0007375\n",
      "[90]\ttrain-logloss:0.234987+0.000254864\ttest-logloss:0.236331+0.000747171\n",
      "[100]\ttrain-logloss:0.229271+0.000256697\ttest-logloss:0.230731+0.000744738\n",
      "[110]\ttrain-logloss:0.224637+0.000274465\ttest-logloss:0.226221+0.000717951\n",
      "[120]\ttrain-logloss:0.220889+0.000283192\ttest-logloss:0.222587+0.000704571\n",
      "[130]\ttrain-logloss:0.217798+0.000274141\ttest-logloss:0.219622+0.000717657\n",
      "[140]\ttrain-logloss:0.215201+0.000294058\ttest-logloss:0.217143+0.000704714\n",
      "[150]\ttrain-logloss:0.213092+0.000307563\ttest-logloss:0.215145+0.000702998\n",
      "[160]\ttrain-logloss:0.211294+0.000346257\ttest-logloss:0.213455+0.000666008\n",
      "[170]\ttrain-logloss:0.209806+0.000361797\ttest-logloss:0.212068+0.000663943\n",
      "[180]\ttrain-logloss:0.208533+0.000350023\ttest-logloss:0.210894+0.000684553\n",
      "[190]\ttrain-logloss:0.20742+0.00037153\ttest-logloss:0.209879+0.000657329\n",
      "[200]\ttrain-logloss:0.206435+0.000375674\ttest-logloss:0.208987+0.000647244\n",
      "[210]\ttrain-logloss:0.205584+0.000353754\ttest-logloss:0.208237+0.000665589\n",
      "[220]\ttrain-logloss:0.204768+0.000330162\ttest-logloss:0.207514+0.000688887\n",
      "[230]\ttrain-logloss:0.204061+0.000350566\ttest-logloss:0.206907+0.000666296\n",
      "[240]\ttrain-logloss:0.203394+0.000341062\ttest-logloss:0.206342+0.000667561\n",
      "[250]\ttrain-logloss:0.202771+0.000325024\ttest-logloss:0.205832+0.00069431\n",
      "[260]\ttrain-logloss:0.202126+0.000335465\ttest-logloss:0.205315+0.000681599\n",
      "[270]\ttrain-logloss:0.201517+0.000406008\ttest-logloss:0.20483+0.000624367\n",
      "[280]\ttrain-logloss:0.200951+0.000457201\ttest-logloss:0.204394+0.000590782\n",
      "[290]\ttrain-logloss:0.200404+0.000446894\ttest-logloss:0.203983+0.000597311\n",
      "[300]\ttrain-logloss:0.199831+0.000444415\ttest-logloss:0.203572+0.000606167\n",
      "[310]\ttrain-logloss:0.199297+0.000425521\ttest-logloss:0.203189+0.000621703\n",
      "[320]\ttrain-logloss:0.198755+0.000418907\ttest-logloss:0.202796+0.000626601\n",
      "[330]\ttrain-logloss:0.198213+0.000401153\ttest-logloss:0.202418+0.000640482\n",
      "[340]\ttrain-logloss:0.197659+0.000388889\ttest-logloss:0.202021+0.00064716\n",
      "[350]\ttrain-logloss:0.197183+0.000390575\ttest-logloss:0.201698+0.000650093\n",
      "[360]\ttrain-logloss:0.196733+0.00038264\ttest-logloss:0.201401+0.000655509\n",
      "[370]\ttrain-logloss:0.196255+0.000363407\ttest-logloss:0.201079+0.000668369\n",
      "[380]\ttrain-logloss:0.195804+0.000386509\ttest-logloss:0.200792+0.00066233\n",
      "[390]\ttrain-logloss:0.195397+0.00037212\ttest-logloss:0.200531+0.000673276\n",
      "[400]\ttrain-logloss:0.194973+0.00039977\ttest-logloss:0.200257+0.000649214\n",
      "[410]\ttrain-logloss:0.194571+0.000382876\ttest-logloss:0.199999+0.000666439\n",
      "[420]\ttrain-logloss:0.194172+0.000425513\ttest-logloss:0.199745+0.000633849\n",
      "[430]\ttrain-logloss:0.193793+0.000438303\ttest-logloss:0.199511+0.000621146\n",
      "[440]\ttrain-logloss:0.193402+0.000471961\ttest-logloss:0.199263+0.000590865\n",
      "[450]\ttrain-logloss:0.193001+0.000467891\ttest-logloss:0.199013+0.000598248\n",
      "[460]\ttrain-logloss:0.192626+0.000447613\ttest-logloss:0.198771+0.000618051\n",
      "[470]\ttrain-logloss:0.192242+0.000475045\ttest-logloss:0.198531+0.000599146\n",
      "[480]\ttrain-logloss:0.19188+0.000438763\ttest-logloss:0.198302+0.000611521\n",
      "[490]\ttrain-logloss:0.191524+0.000447505\ttest-logloss:0.198094+0.00060651\n",
      "[500]\ttrain-logloss:0.191155+0.000429388\ttest-logloss:0.197872+0.000619018\n",
      "[510]\ttrain-logloss:0.190831+0.000432281\ttest-logloss:0.197671+0.000613486\n",
      "[520]\ttrain-logloss:0.190474+0.000410269\ttest-logloss:0.197459+0.000627745\n",
      "[530]\ttrain-logloss:0.190119+0.000445589\ttest-logloss:0.197246+0.000596819\n",
      "[540]\ttrain-logloss:0.18978+0.000481131\ttest-logloss:0.197044+0.000593262\n",
      "[550]\ttrain-logloss:0.189461+0.000464373\ttest-logloss:0.196857+0.000614167\n",
      "[560]\ttrain-logloss:0.189124+0.000469259\ttest-logloss:0.196654+0.000596586\n",
      "[570]\ttrain-logloss:0.188845+0.000444087\ttest-logloss:0.196495+0.000620881\n",
      "[580]\ttrain-logloss:0.18857+0.000447599\ttest-logloss:0.196342+0.000619253\n",
      "[590]\ttrain-logloss:0.188319+0.000444981\ttest-logloss:0.196192+0.000635884\n",
      "[600]\ttrain-logloss:0.187985+0.000408142\ttest-logloss:0.196001+0.000628114\n",
      "[610]\ttrain-logloss:0.18766+0.000448768\ttest-logloss:0.195808+0.000608316\n",
      "[620]\ttrain-logloss:0.187396+0.000413435\ttest-logloss:0.195671+0.000634162\n",
      "[630]\ttrain-logloss:0.187122+0.000392337\ttest-logloss:0.195529+0.000654946\n",
      "[640]\ttrain-logloss:0.186876+0.000363209\ttest-logloss:0.19539+0.000659803\n",
      "[650]\ttrain-logloss:0.186579+0.000396031\ttest-logloss:0.195227+0.000652473\n",
      "[660]\ttrain-logloss:0.186347+0.000409559\ttest-logloss:0.195106+0.000648136\n",
      "[670]\ttrain-logloss:0.186062+0.000408977\ttest-logloss:0.194951+0.000643944\n",
      "[680]\ttrain-logloss:0.185774+0.000464989\ttest-logloss:0.194797+0.000637951\n",
      "[690]\ttrain-logloss:0.185514+0.000480804\ttest-logloss:0.194658+0.000633041\n",
      "[700]\ttrain-logloss:0.185249+0.000457616\ttest-logloss:0.194522+0.000652973\n",
      "[710]\ttrain-logloss:0.184976+0.000465522\ttest-logloss:0.194381+0.000649672\n",
      "[720]\ttrain-logloss:0.18472+0.000457843\ttest-logloss:0.194255+0.000651187\n",
      "[730]\ttrain-logloss:0.18447+0.000468432\ttest-logloss:0.194139+0.000663426\n",
      "[740]\ttrain-logloss:0.184199+0.000472479\ttest-logloss:0.194003+0.00066708\n",
      "[750]\ttrain-logloss:0.183955+0.000465468\ttest-logloss:0.193883+0.000667495\n",
      "[760]\ttrain-logloss:0.183696+0.000443601\ttest-logloss:0.193757+0.00066358\n",
      "[770]\ttrain-logloss:0.18346+0.0004653\ttest-logloss:0.193654+0.000658527\n",
      "[780]\ttrain-logloss:0.183198+0.00045144\ttest-logloss:0.193525+0.000642182\n",
      "[790]\ttrain-logloss:0.182935+0.000428874\ttest-logloss:0.193395+0.000652423\n",
      "[800]\ttrain-logloss:0.182683+0.000448219\ttest-logloss:0.193277+0.000653725\n",
      "[810]\ttrain-logloss:0.182429+0.000444635\ttest-logloss:0.193161+0.000639842\n",
      "[820]\ttrain-logloss:0.182183+0.000452024\ttest-logloss:0.193057+0.000634372\n",
      "[830]\ttrain-logloss:0.181915+0.000450214\ttest-logloss:0.192932+0.000635091\n",
      "[840]\ttrain-logloss:0.181676+0.000428038\ttest-logloss:0.192816+0.000646715\n",
      "[850]\ttrain-logloss:0.181443+0.000396568\ttest-logloss:0.192707+0.000653976\n",
      "[860]\ttrain-logloss:0.181217+0.000413301\ttest-logloss:0.192604+0.000633985\n",
      "[870]\ttrain-logloss:0.180985+0.00039805\ttest-logloss:0.1925+0.000627568\n",
      "[880]\ttrain-logloss:0.180779+0.000406219\ttest-logloss:0.192416+0.000625704\n",
      "[890]\ttrain-logloss:0.180549+0.000406318\ttest-logloss:0.192311+0.000636942\n",
      "[900]\ttrain-logloss:0.180326+0.000409141\ttest-logloss:0.192222+0.000626463\n",
      "[910]\ttrain-logloss:0.180095+0.000388599\ttest-logloss:0.192124+0.000635086\n",
      "[920]\ttrain-logloss:0.179869+0.000397776\ttest-logloss:0.192021+0.000640732\n",
      "[930]\ttrain-logloss:0.179641+0.000385466\ttest-logloss:0.191925+0.000638386\n",
      "[940]\ttrain-logloss:0.179386+0.000382238\ttest-logloss:0.191813+0.000631951\n",
      "[950]\ttrain-logloss:0.179171+0.000369784\ttest-logloss:0.191724+0.000630007\n",
      "[960]\ttrain-logloss:0.178944+0.000365922\ttest-logloss:0.191627+0.00063054\n",
      "[970]\ttrain-logloss:0.178708+0.000334658\ttest-logloss:0.191531+0.000654638\n",
      "[980]\ttrain-logloss:0.17846+0.000331186\ttest-logloss:0.191421+0.00066016\n",
      "[990]\ttrain-logloss:0.178226+0.000331149\ttest-logloss:0.191319+0.000655651\n",
      "[1000]\ttrain-logloss:0.177989+0.000323565\ttest-logloss:0.191222+0.000653817\n",
      "[1010]\ttrain-logloss:0.177782+0.000320587\ttest-logloss:0.191134+0.000667977\n",
      "[1020]\ttrain-logloss:0.177564+0.000305576\ttest-logloss:0.191049+0.00067487\n",
      "[1030]\ttrain-logloss:0.177344+0.000307768\ttest-logloss:0.190948+0.000679914\n",
      "[1040]\ttrain-logloss:0.177128+0.000296597\ttest-logloss:0.190859+0.000682687\n",
      "[1050]\ttrain-logloss:0.176915+0.000295578\ttest-logloss:0.190775+0.000691567\n",
      "[1060]\ttrain-logloss:0.176696+0.000308794\ttest-logloss:0.190688+0.000679572\n",
      "[1070]\ttrain-logloss:0.176505+0.000307604\ttest-logloss:0.190614+0.000678187\n",
      "[1080]\ttrain-logloss:0.176274+0.000301322\ttest-logloss:0.190522+0.000681487\n",
      "[1090]\ttrain-logloss:0.176066+0.00031231\ttest-logloss:0.190437+0.000670978\n"
     ]
    },
    {
     "name": "stdout",
     "output_type": "stream",
     "text": [
      "[1100]\ttrain-logloss:0.175849+0.000291761\ttest-logloss:0.190344+0.000672822\n",
      "[1110]\ttrain-logloss:0.17565+0.000310413\ttest-logloss:0.190272+0.000662131\n",
      "[1120]\ttrain-logloss:0.175444+0.000300867\ttest-logloss:0.190193+0.000660573\n",
      "[1130]\ttrain-logloss:0.175264+0.00031444\ttest-logloss:0.190128+0.000662391\n",
      "[1140]\ttrain-logloss:0.17505+0.00030786\ttest-logloss:0.190047+0.000664623\n",
      "[1150]\ttrain-logloss:0.174839+0.000309601\ttest-logloss:0.189969+0.00066543\n",
      "[1160]\ttrain-logloss:0.174631+0.000329153\ttest-logloss:0.189894+0.000657419\n",
      "[1170]\ttrain-logloss:0.174412+0.000335894\ttest-logloss:0.189813+0.00064959\n",
      "[1180]\ttrain-logloss:0.174212+0.000325126\ttest-logloss:0.189738+0.000647974\n",
      "[1190]\ttrain-logloss:0.174021+0.000307013\ttest-logloss:0.189664+0.000644278\n",
      "[1200]\ttrain-logloss:0.17382+0.000334136\ttest-logloss:0.189601+0.000634678\n",
      "[1210]\ttrain-logloss:0.173629+0.000329057\ttest-logloss:0.189532+0.000644943\n",
      "[1220]\ttrain-logloss:0.173427+0.000346529\ttest-logloss:0.189457+0.000636164\n",
      "[1230]\ttrain-logloss:0.173219+0.00036318\ttest-logloss:0.189384+0.000625195\n",
      "[1240]\ttrain-logloss:0.173009+0.000371255\ttest-logloss:0.189305+0.000619162\n",
      "[1250]\ttrain-logloss:0.172819+0.000384256\ttest-logloss:0.189242+0.000615425\n",
      "[1260]\ttrain-logloss:0.172599+0.000365941\ttest-logloss:0.189155+0.000625451\n",
      "[1270]\ttrain-logloss:0.172403+0.000384243\ttest-logloss:0.189079+0.000627723\n",
      "[1280]\ttrain-logloss:0.172212+0.000378675\ttest-logloss:0.188999+0.000636781\n",
      "[1290]\ttrain-logloss:0.172013+0.000397422\ttest-logloss:0.188928+0.00062769\n",
      "[1300]\ttrain-logloss:0.171804+0.000386932\ttest-logloss:0.188855+0.000624428\n",
      "[1310]\ttrain-logloss:0.171623+0.000389898\ttest-logloss:0.188791+0.000626623\n",
      "[1320]\ttrain-logloss:0.171435+0.000396895\ttest-logloss:0.188723+0.000614758\n",
      "[1330]\ttrain-logloss:0.171242+0.000413054\ttest-logloss:0.188654+0.000606021\n",
      "[1340]\ttrain-logloss:0.171057+0.000393109\ttest-logloss:0.188593+0.000616902\n",
      "[1350]\ttrain-logloss:0.170876+0.000399685\ttest-logloss:0.188527+0.000610128\n",
      "[1360]\ttrain-logloss:0.170666+0.000398745\ttest-logloss:0.188447+0.000603841\n",
      "[1370]\ttrain-logloss:0.170478+0.000413629\ttest-logloss:0.188383+0.000600569\n",
      "[1380]\ttrain-logloss:0.17026+0.000404777\ttest-logloss:0.188302+0.000609964\n",
      "[1390]\ttrain-logloss:0.170092+0.000391045\ttest-logloss:0.188247+0.000615318\n",
      "[1400]\ttrain-logloss:0.169899+0.000383031\ttest-logloss:0.188174+0.000619055\n",
      "[1410]\ttrain-logloss:0.169707+0.000376135\ttest-logloss:0.188107+0.000627844\n",
      "[1420]\ttrain-logloss:0.169523+0.000370914\ttest-logloss:0.188043+0.000631116\n",
      "[1430]\ttrain-logloss:0.16933+0.000395438\ttest-logloss:0.187973+0.000626756\n",
      "[1440]\ttrain-logloss:0.16915+0.000395462\ttest-logloss:0.18791+0.000621528\n",
      "[1450]\ttrain-logloss:0.168972+0.000375123\ttest-logloss:0.187848+0.000621526\n",
      "[1460]\ttrain-logloss:0.168781+0.000364613\ttest-logloss:0.187778+0.000625631\n",
      "[1470]\ttrain-logloss:0.168608+0.000364171\ttest-logloss:0.187721+0.000625686\n",
      "[1480]\ttrain-logloss:0.168432+0.000370633\ttest-logloss:0.187658+0.000624713\n",
      "[1490]\ttrain-logloss:0.168268+0.000362293\ttest-logloss:0.187605+0.000628486\n",
      "[1500]\ttrain-logloss:0.168078+0.000367207\ttest-logloss:0.187539+0.000634613\n",
      "[1510]\ttrain-logloss:0.167888+0.000356516\ttest-logloss:0.187475+0.000635434\n",
      "[1520]\ttrain-logloss:0.167695+0.000358759\ttest-logloss:0.187406+0.000640858\n",
      "[1530]\ttrain-logloss:0.167522+0.000359058\ttest-logloss:0.187346+0.000639969\n",
      "[1540]\ttrain-logloss:0.167335+0.00034918\ttest-logloss:0.187288+0.00064459\n",
      "[1550]\ttrain-logloss:0.167161+0.000344242\ttest-logloss:0.187228+0.000646214\n",
      "[1560]\ttrain-logloss:0.16697+0.000355998\ttest-logloss:0.18716+0.000637178\n",
      "[1570]\ttrain-logloss:0.166788+0.000363978\ttest-logloss:0.187098+0.000628007\n",
      "[1580]\ttrain-logloss:0.16662+0.000364522\ttest-logloss:0.187045+0.000623507\n",
      "[1590]\ttrain-logloss:0.166459+0.00036351\ttest-logloss:0.186992+0.000623773\n",
      "[1600]\ttrain-logloss:0.166264+0.00034491\ttest-logloss:0.186925+0.000633561\n",
      "[1610]\ttrain-logloss:0.166083+0.000357915\ttest-logloss:0.186873+0.00062536\n",
      "[1620]\ttrain-logloss:0.165924+0.000365094\ttest-logloss:0.18682+0.000619161\n",
      "[1630]\ttrain-logloss:0.165759+0.000369828\ttest-logloss:0.18676+0.000615603\n",
      "[1640]\ttrain-logloss:0.165573+0.000363116\ttest-logloss:0.186699+0.000618021\n",
      "[1650]\ttrain-logloss:0.16541+0.000365703\ttest-logloss:0.186648+0.000611972\n",
      "[1660]\ttrain-logloss:0.165225+0.000366396\ttest-logloss:0.186586+0.000617761\n",
      "[1670]\ttrain-logloss:0.165048+0.000360523\ttest-logloss:0.186532+0.00062065\n",
      "[1680]\ttrain-logloss:0.164864+0.000360157\ttest-logloss:0.186471+0.000622327\n",
      "[1690]\ttrain-logloss:0.164665+0.0003821\ttest-logloss:0.186394+0.000612139\n",
      "[1700]\ttrain-logloss:0.164493+0.000371571\ttest-logloss:0.186339+0.000610431\n",
      "[1710]\ttrain-logloss:0.164318+0.000367884\ttest-logloss:0.186285+0.000614702\n",
      "[1720]\ttrain-logloss:0.164143+0.000355374\ttest-logloss:0.186223+0.000623168\n",
      "[1730]\ttrain-logloss:0.163945+0.00035661\ttest-logloss:0.186154+0.000622808\n",
      "[1740]\ttrain-logloss:0.16377+0.000368935\ttest-logloss:0.186093+0.000614207\n",
      "[1750]\ttrain-logloss:0.163615+0.000359278\ttest-logloss:0.186047+0.000611878\n",
      "[1760]\ttrain-logloss:0.16345+0.000357559\ttest-logloss:0.185996+0.000608912\n",
      "[1770]\ttrain-logloss:0.163269+0.000358933\ttest-logloss:0.185937+0.000607858\n",
      "[1780]\ttrain-logloss:0.163108+0.000371094\ttest-logloss:0.185885+0.000602229\n",
      "[1790]\ttrain-logloss:0.162935+0.000368532\ttest-logloss:0.185829+0.000605767\n",
      "[1800]\ttrain-logloss:0.162767+0.000368006\ttest-logloss:0.185774+0.000605534\n",
      "[1810]\ttrain-logloss:0.162602+0.000371872\ttest-logloss:0.185716+0.00060314\n",
      "[1820]\ttrain-logloss:0.162433+0.000374125\ttest-logloss:0.18567+0.000601981\n",
      "[1830]\ttrain-logloss:0.162278+0.00037867\ttest-logloss:0.185624+0.000601175\n",
      "[1840]\ttrain-logloss:0.162107+0.000388228\ttest-logloss:0.185563+0.000596675\n",
      "[1850]\ttrain-logloss:0.161943+0.000391328\ttest-logloss:0.185515+0.000595746\n",
      "[1860]\ttrain-logloss:0.16177+0.000388489\ttest-logloss:0.185457+0.000596375\n",
      "[1870]\ttrain-logloss:0.161613+0.00040645\ttest-logloss:0.185411+0.000593628\n",
      "[1880]\ttrain-logloss:0.161447+0.000406183\ttest-logloss:0.185364+0.000591198\n",
      "[1890]\ttrain-logloss:0.161281+0.000399891\ttest-logloss:0.185313+0.000591004\n",
      "[1900]\ttrain-logloss:0.161109+0.000384996\ttest-logloss:0.185259+0.000597576\n",
      "[1910]\ttrain-logloss:0.160935+0.000378863\ttest-logloss:0.1852+0.000599368\n",
      "[1920]\ttrain-logloss:0.160754+0.000370625\ttest-logloss:0.185142+0.000600774\n",
      "[1930]\ttrain-logloss:0.160584+0.000367542\ttest-logloss:0.18509+0.000604963\n",
      "[1940]\ttrain-logloss:0.160411+0.000357928\ttest-logloss:0.18503+0.000610656\n",
      "[1950]\ttrain-logloss:0.160248+0.000363583\ttest-logloss:0.184985+0.000603932\n",
      "[1960]\ttrain-logloss:0.160085+0.000369878\ttest-logloss:0.184932+0.000610561\n",
      "[1970]\ttrain-logloss:0.159935+0.000357562\ttest-logloss:0.184886+0.000617475\n",
      "[1980]\ttrain-logloss:0.159757+0.000349648\ttest-logloss:0.184833+0.00061845\n",
      "[1990]\ttrain-logloss:0.159591+0.000350554\ttest-logloss:0.18478+0.000617998\n",
      "[2000]\ttrain-logloss:0.159421+0.000340406\ttest-logloss:0.184733+0.000619883\n",
      "[2010]\ttrain-logloss:0.159264+0.000344868\ttest-logloss:0.184682+0.000618111\n",
      "[2020]\ttrain-logloss:0.159093+0.000335804\ttest-logloss:0.184634+0.000617952\n",
      "[2030]\ttrain-logloss:0.158936+0.000331563\ttest-logloss:0.184586+0.000626921\n",
      "[2040]\ttrain-logloss:0.158777+0.000341632\ttest-logloss:0.184545+0.000628936\n",
      "[2050]\ttrain-logloss:0.15862+0.000332571\ttest-logloss:0.184503+0.000637259\n",
      "[2060]\ttrain-logloss:0.158458+0.000350521\ttest-logloss:0.184453+0.000634629\n",
      "[2070]\ttrain-logloss:0.158303+0.000354909\ttest-logloss:0.184404+0.00063623\n",
      "[2080]\ttrain-logloss:0.15814+0.000358678\ttest-logloss:0.184355+0.000633703\n",
      "[2090]\ttrain-logloss:0.157967+0.000367063\ttest-logloss:0.1843+0.000624544\n",
      "[2100]\ttrain-logloss:0.157805+0.000356937\ttest-logloss:0.184254+0.000628098\n",
      "[2110]\ttrain-logloss:0.157625+0.000350497\ttest-logloss:0.184203+0.000629854\n",
      "[2120]\ttrain-logloss:0.157483+0.00033902\ttest-logloss:0.184161+0.000637769\n",
      "[2130]\ttrain-logloss:0.157329+0.000338263\ttest-logloss:0.184114+0.000643139\n",
      "[2140]\ttrain-logloss:0.157179+0.000323979\ttest-logloss:0.18407+0.000650031\n",
      "[2150]\ttrain-logloss:0.157013+0.000338299\ttest-logloss:0.184013+0.000642129\n",
      "[2160]\ttrain-logloss:0.156857+0.000333567\ttest-logloss:0.183963+0.000639391\n",
      "[2170]\ttrain-logloss:0.156703+0.000346714\ttest-logloss:0.183918+0.000635553\n",
      "[2180]\ttrain-logloss:0.15654+0.000338411\ttest-logloss:0.183873+0.000637252\n"
     ]
    },
    {
     "name": "stdout",
     "output_type": "stream",
     "text": [
      "[2190]\ttrain-logloss:0.156384+0.000356139\ttest-logloss:0.183829+0.000627629\n",
      "[2200]\ttrain-logloss:0.156235+0.000334848\ttest-logloss:0.183788+0.000636267\n",
      "[2210]\ttrain-logloss:0.156051+0.000339168\ttest-logloss:0.183734+0.000634515\n",
      "[2220]\ttrain-logloss:0.155875+0.000335611\ttest-logloss:0.183682+0.000631362\n",
      "[2230]\ttrain-logloss:0.155721+0.000334758\ttest-logloss:0.183637+0.000629544\n",
      "[2240]\ttrain-logloss:0.155555+0.000315922\ttest-logloss:0.183584+0.000635311\n",
      "[2250]\ttrain-logloss:0.155425+0.000312369\ttest-logloss:0.183545+0.000636736\n",
      "[2260]\ttrain-logloss:0.155269+0.000304804\ttest-logloss:0.183496+0.000643294\n",
      "[2270]\ttrain-logloss:0.155127+0.000308938\ttest-logloss:0.183461+0.0006439\n",
      "[2280]\ttrain-logloss:0.154979+0.00029781\ttest-logloss:0.183419+0.000649744\n",
      "[2290]\ttrain-logloss:0.15482+0.000306302\ttest-logloss:0.183371+0.000645589\n",
      "[2300]\ttrain-logloss:0.154679+0.000306217\ttest-logloss:0.183332+0.000645589\n",
      "[2310]\ttrain-logloss:0.154529+0.000307426\ttest-logloss:0.183286+0.000639175\n",
      "[2320]\ttrain-logloss:0.154376+0.000310187\ttest-logloss:0.183241+0.000641043\n",
      "[2330]\ttrain-logloss:0.154213+0.000309533\ttest-logloss:0.183194+0.000646367\n",
      "[2340]\ttrain-logloss:0.154056+0.000312594\ttest-logloss:0.18315+0.000652513\n",
      "[2350]\ttrain-logloss:0.153912+0.000321939\ttest-logloss:0.183107+0.000656575\n",
      "[2360]\ttrain-logloss:0.153769+0.000312468\ttest-logloss:0.183065+0.000654983\n",
      "[2370]\ttrain-logloss:0.153606+0.000304293\ttest-logloss:0.183019+0.000650808\n",
      "[2380]\ttrain-logloss:0.153455+0.000316203\ttest-logloss:0.182974+0.000649495\n",
      "[2390]\ttrain-logloss:0.153304+0.000326559\ttest-logloss:0.182933+0.000646872\n",
      "[2400]\ttrain-logloss:0.153156+0.000326133\ttest-logloss:0.182887+0.000648784\n",
      "[2410]\ttrain-logloss:0.152985+0.000324971\ttest-logloss:0.182837+0.000649866\n",
      "[2420]\ttrain-logloss:0.152822+0.000328229\ttest-logloss:0.18279+0.000645321\n",
      "[2430]\ttrain-logloss:0.152665+0.000320585\ttest-logloss:0.182743+0.000647177\n",
      "[2440]\ttrain-logloss:0.152515+0.00032065\ttest-logloss:0.182701+0.000646464\n",
      "[2450]\ttrain-logloss:0.152366+0.000337918\ttest-logloss:0.182657+0.000639158\n",
      "[2460]\ttrain-logloss:0.152221+0.000344332\ttest-logloss:0.182608+0.000635962\n",
      "[2470]\ttrain-logloss:0.152083+0.000343902\ttest-logloss:0.182572+0.000634117\n",
      "[2480]\ttrain-logloss:0.15193+0.000344707\ttest-logloss:0.182522+0.000630706\n",
      "[2490]\ttrain-logloss:0.151764+0.000334122\ttest-logloss:0.182475+0.000630888\n",
      "CPU times: user 8h 14min 35s, sys: 3min 4s, total: 8h 17min 40s\n",
      "Wall time: 2h 28min 1s\n"
     ]
    }
   ],
   "source": [
    "%%time\n",
    "\n",
    "# Do CV to check train/validation curve.\n",
    "\n",
    "params = {}\n",
    "params['objective'] = 'binary:logistic'\n",
    "params['eval_metric'] = 'logloss'\n",
    "params['eta'] = 0.11\n",
    "params['max_depth'] = 5\n",
    "params['seed'] = RS\n",
    "\n",
    "d_train = xgb.DMatrix(x_train, label=y_train)\n",
    "model_cv = xgb.cv(params, \\\n",
    "                  d_train, \\\n",
    "                  2500, \\\n",
    "                  nfold=3, \\\n",
    "                  metrics='logloss', \\\n",
    "                  early_stopping_rounds=10, \\\n",
    "                  verbose_eval=10)"
   ]
  },
  {
   "cell_type": "code",
   "execution_count": 70,
   "metadata": {
    "scrolled": true
   },
   "outputs": [
    {
     "data": {
      "image/png": "[encoded data removed]",
      "text/plain": [
       "<matplotlib.figure.Figure at 0x1ea9f2d68>"
      ]
     },
     "metadata": {},
     "output_type": "display_data"
    }
   ],
   "source": [
    "plt.figure(figsize=(10,8))\n",
    "plt.plot(model_cv['train-logloss-mean'], label='training')\n",
    "plt.plot(model_cv['test-logloss-mean'], label='validation')\n",
    "# plt.xlim(200, 400)\n",
    "# plt.ylim(0.3, 0.38)\n",
    "plt.xlabel('num. of rounds')\n",
    "plt.ylabel('Log Loss Error')\n",
    "plt.legend()\n",
    "plt.show()"
   ]
  },
  {
   "cell_type": "code",
   "execution_count": 84,
   "metadata": {
    "scrolled": true
   },
   "outputs": [
    {
     "name": "stdout",
     "output_type": "stream",
     "text": [
      "CPU times: user 5h 7min 49s, sys: 2min 1s, total: 5h 9min 50s\n",
      "Wall time: 1h 54min 36s\n"
     ]
    }
   ],
   "source": [
    "%%time\n",
    "\n",
    "# Train the model on whole training set and predict on test set.\n",
    "\n",
    "params = {}\n",
    "params['objective'] = 'binary:logistic'\n",
    "params['eval_metric'] = 'logloss'\n",
    "params['eta'] = 0.11\n",
    "params['max_depth'] = 5\n",
    "params['seed'] = RS\n",
    "\n",
    "xg_train_ = xgb.DMatrix(x_train, label=y_train)\n",
    "xg_test = xgb.DMatrix(x_test)\n",
    "\n",
    "clf = xgb.train(params, xg_train_, 2500)\n",
    "xgb_layer_1_test = clf.predict(xg_test)"
   ]
  },
  {
   "cell_type": "code",
   "execution_count": 85,
   "metadata": {},
   "outputs": [
    {
     "name": "stdout",
     "output_type": "stream",
     "text": [
      "<class 'numpy.ndarray'>\n",
      "(2345796,)\n"
     ]
    }
   ],
   "source": [
    "print(type(xgb_layer_1_test))\n",
    "print(xgb_layer_1_test.shape)\n",
    "submission = pd.DataFrame()\n",
    "submission['test_id'] = x_test.index.values\n",
    "submission['is_duplicate'] = pd.DataFrame(xgb_layer_1_test)\n",
    "submission.to_csv('./xgb_layer_1_test_jaccard_magic_intersection_0.02_7_0.6_0.2_2500.csv', index=False)"
   ]
  },
  {
   "cell_type": "markdown",
   "metadata": {},
   "source": [
    "# Factorization Machine"
   ]
  },
  {
   "cell_type": "code",
   "execution_count": 3,
   "metadata": {
    "collapsed": true
   },
   "outputs": [],
   "source": [
    "##########################\n",
    "### Factorized Machine ###\n",
    "## Don't Run on Python3 ##\n",
    "##########################\n",
    "\n",
    "from sklearn.preprocessing import MinMaxScaler\n",
    "from scipy import sparse\n",
    "from scipy.sparse import csc_matrix\n",
    "# from fastFM import sgd, mcmc\n",
    "# from fastFM.datasets import make_user_item_regression\n",
    "\n",
    "\n",
    "train_fold1 = sparse.load_npz(\"../kaggle-quora/fm/x_train_fold1.npz\")\n",
    "train_fold2 = sparse.load_npz(\"../kaggle-quora/fm/x_train_fold2.npz\")\n",
    "validation_fold = sparse.load_npz(\"../kaggle-quora/fm/x_validation_fold.npz\")\n",
    "\n",
    "y_train_fold1 = sparse.load_npz(\"../kaggle-quora/fm/y_train_fold1.npz\")\n",
    "y_train_fold2 = sparse.load_npz(\"../kaggle-quora/fm/y_train_fold2.npz\")\n",
    "y_validation_fold = sparse.load_npz(\"../kaggle-quora/fm/y_validation_fold.npz\")\n",
    "\n",
    "x_test = sparse.load_npz('../kaggle-quora/fm/x_test.npz')\n",
    "\n",
    "x_train = sparse.vstack((train_fold1, train_fold2, validation_fold), format='csr')\n",
    "y_train = sparse.hstack((y_train_fold1, y_train_fold2, y_validation_fold), format='csr').T"
   ]
  },
  {
   "cell_type": "code",
   "execution_count": 234,
   "metadata": {},
   "outputs": [
    {
     "name": "stdout",
     "output_type": "stream",
     "text": [
      "0.0    210408\n",
      "1.0     49755\n",
      "dtype: int64\n",
      "-1.0    210408\n",
      " 1.0     49755\n",
      "dtype: int64\n"
     ]
    }
   ],
   "source": [
    "y_labels_1 = np.ones_like(y_train_fold1.toarray().flatten())\n",
    "y_labels_1[y_train_fold1.toarray().flatten() < \\\n",
    "         np.mean(y_train_fold1.toarray().flatten())] = -1\n",
    "\n",
    "y_labels_2 = np.ones_like(y_train_fold2.toarray().flatten())\n",
    "y_labels_2[y_train_fold2.toarray().flatten() < \\\n",
    "         np.mean(y_train_fold2.toarray().flatten())] = -1\n",
    "\n",
    "print(pd.Series(data=y_train_fold1.toarray().flatten()).value_counts())\n",
    "print(pd.Series(data=y_labels_1.flatten()).value_counts())\n",
    "\n",
    "print(pd.Series(data=y_train_fold2.toarray().flatten()).value_counts())\n",
    "print(pd.Series(data=y_labels_2.flatten()).value_counts())"
   ]
  },
  {
   "cell_type": "code",
   "execution_count": 223,
   "metadata": {
    "scrolled": true
   },
   "outputs": [
    {
     "name": "stdout",
     "output_type": "stream",
     "text": [
      "0.328760766377\n",
      "CPU times: user 34.4 s, sys: 1.2 s, total: 35.6 s\n",
      "Wall time: 35.9 s\n"
     ]
    }
   ],
   "source": [
    "%%time\n",
    "\n",
    "# Testing out once for 10 iterations\n",
    "fm_mcmc = mcmc.FMClassification(n_iter=10, init_stdev=0.1, rank=2)\n",
    "v1 = fm_mcmc.fit_predict_proba( \\\n",
    "                        train_fold1, \\\n",
    "                        y_labels, \\\n",
    "                        validation_fold)\n",
    "\n",
    "print(log_loss(y_validation_fold.toarray().flatten(), v1))"
   ]
  },
  {
   "cell_type": "code",
   "execution_count": 236,
   "metadata": {
    "scrolled": true
   },
   "outputs": [
    {
     "name": "stdout",
     "output_type": "stream",
     "text": [
      "0.342205775173\n",
      "0.299749623459\n",
      "0.289569009603\n",
      "0.282120152275\n",
      "0.2758567235\n",
      "0.27235304171\n",
      "0.271188751078\n",
      "0.271352077988\n",
      "0.272389498597\n",
      "0.273996707593\n",
      "CPU times: user 28min 55s, sys: 49.7 s, total: 29min 45s\n",
      "Wall time: 30min 9s\n"
     ]
    }
   ],
   "source": [
    "%%time\n",
    "\n",
    "# Running loops to see which iteration is the best\n",
    "iter_ = []\n",
    "val = []\n",
    "for i in range(5, 100, 10):\n",
    "    fm_mcmc = mcmc.FMClassification(n_iter=i, init_stdev=0.2, rank=2)\n",
    "    v1 = fm_mcmc.fit_predict_proba( \\\n",
    "                            train_fold1, \\\n",
    "                            y_labels, \\\n",
    "                            validation_fold)\n",
    "    val.append(log_loss(y_validation_fold.toarray().flatten(), v1))\n",
    "    iter_.append(i)\n",
    "    print('Iteration: ', i, ' Loss: ', log_loss(y_validation_fold.toarray().flatten(), v1))"
   ]
  },
  {
   "cell_type": "code",
   "execution_count": null,
   "metadata": {
    "collapsed": true
   },
   "outputs": [],
   "source": [
    "fm_mcmc = mcmc.FMClassification(n_iter=65, init_stdev=0.2, rank=2)\n",
    "\n",
    "def get_2fold_stack_fm(model):\n",
    "    new_fold2 = model.fit_predict_proba(train_fold1, y_labels_1, train_fold2)\n",
    "    v1 = model.fit_predict_proba(train_fold1, y_labels_1, validation_fold)\n",
    "\n",
    "    new_fold1 = model.fit_predict_proba(train_fold2, y_labels_2, train_fold1)\n",
    "    v2 = model.fit_predict_proba(train_fold2, y_labels_2, , validation_fold)\n",
    "    \n",
    "    return np.concatenate([new_fold1, new_fold2], axis=0), (v1+v2)/2\n",
    "\n",
    "fm_layer_1_train, fm_layer_1_val = get_2fold_stack_fm(fm_mcmc)"
   ]
  },
  {
   "cell_type": "code",
   "execution_count": 150,
   "metadata": {},
   "outputs": [
    {
     "name": "stdout",
     "output_type": "stream",
     "text": [
      "0.475378806541\n"
     ]
    }
   ],
   "source": [
    "## init_stdev=0.1\n",
    "# 1000: 1.15399749209\n",
    "# 50: 0.56506675468\n",
    "# 40: 0.550740405848\n",
    "# 30: 0.532731172364\n",
    "# 20: 0.508590319759\n",
    "# 10: 0.475458635038\n",
    "#  5: 0.461409370446\n",
    "#  1: 0.499387875638\n",
    "#  2: 0.475378806541\n",
    "\n",
    "## init_stdev=0.1\n",
    "# 1: 0.499387875638\n",
    "# 0.475378806541\n",
    "# 0.465276038171\n",
    "# 0.461566196122\n",
    "# 0.461409370446\n",
    "# 0.462968413607\n",
    "# 0.465514660366\n",
    "# 0.468569391545\n",
    "# 10: 0.471916744151\n",
    "\n",
    "## init_stdev=0.2\n",
    "# 1: 0.496984050114\n",
    "# 0.468517078201\n",
    "# 0.457513158113\n",
    "# 0.454882109759\n",
    "# 0.456398071603\n",
    "# 0.460213356455\n",
    "# 0.465297675869\n",
    "# 0.470731505954\n",
    "# 10: 0.476281348052"
   ]
  },
  {
   "cell_type": "markdown",
   "metadata": {},
   "source": [
    "# Training XGBoost"
   ]
  },
  {
   "cell_type": "code",
   "execution_count": 27,
   "metadata": {},
   "outputs": [
    {
     "name": "stdout",
     "output_type": "stream",
     "text": [
      "Training data: X_train: (780486, 50), Y_train: 780486, X_test: (2345796, 50)\n",
      "Will train XGB for 315 rounds, RandomSeed: 12357\n",
      "[0]\ttrain-logloss:0.629423\teval-logloss:0.629526\n",
      "[1]\ttrain-logloss:0.578195\teval-logloss:0.578343\n",
      "[2]\ttrain-logloss:0.536378\teval-logloss:0.53656\n",
      "[3]\ttrain-logloss:0.501217\teval-logloss:0.501432\n",
      "[4]\ttrain-logloss:0.4719\teval-logloss:0.472147\n",
      "[5]\ttrain-logloss:0.446716\teval-logloss:0.446973\n",
      "[6]\ttrain-logloss:0.425318\teval-logloss:0.425612\n",
      "[7]\ttrain-logloss:0.40699\teval-logloss:0.407314\n",
      "[8]\ttrain-logloss:0.391354\teval-logloss:0.391734\n",
      "[9]\ttrain-logloss:0.376584\teval-logloss:0.37698\n",
      "[10]\ttrain-logloss:0.364227\teval-logloss:0.364643\n",
      "[11]\ttrain-logloss:0.354132\teval-logloss:0.354596\n",
      "[12]\ttrain-logloss:0.344738\teval-logloss:0.345218\n",
      "[13]\ttrain-logloss:0.336595\teval-logloss:0.337109\n",
      "[14]\ttrain-logloss:0.328956\teval-logloss:0.329458\n",
      "[15]\ttrain-logloss:0.322348\teval-logloss:0.322837\n",
      "[16]\ttrain-logloss:0.316893\teval-logloss:0.317378\n",
      "[17]\ttrain-logloss:0.311979\teval-logloss:0.312502\n",
      "[18]\ttrain-logloss:0.307866\teval-logloss:0.308404\n",
      "[19]\ttrain-logloss:0.303598\teval-logloss:0.304162\n",
      "[20]\ttrain-logloss:0.299796\teval-logloss:0.300406\n",
      "[21]\ttrain-logloss:0.296428\teval-logloss:0.297058\n",
      "[22]\ttrain-logloss:0.29386\teval-logloss:0.294523\n",
      "[23]\ttrain-logloss:0.291221\teval-logloss:0.291934\n",
      "[24]\ttrain-logloss:0.289225\teval-logloss:0.289993\n",
      "[25]\ttrain-logloss:0.287198\teval-logloss:0.287988\n",
      "[26]\ttrain-logloss:0.285595\teval-logloss:0.28641\n",
      "[27]\ttrain-logloss:0.283868\teval-logloss:0.284683\n",
      "[28]\ttrain-logloss:0.282484\teval-logloss:0.283343\n",
      "[29]\ttrain-logloss:0.281381\teval-logloss:0.282247\n",
      "[30]\ttrain-logloss:0.280166\teval-logloss:0.281054\n",
      "[31]\ttrain-logloss:0.279082\teval-logloss:0.279951\n",
      "[32]\ttrain-logloss:0.277959\teval-logloss:0.278866\n",
      "[33]\ttrain-logloss:0.276992\teval-logloss:0.277891\n",
      "[34]\ttrain-logloss:0.276288\teval-logloss:0.277188\n",
      "[35]\ttrain-logloss:0.275447\teval-logloss:0.276373\n",
      "[36]\ttrain-logloss:0.27481\teval-logloss:0.275761\n",
      "[37]\ttrain-logloss:0.274113\teval-logloss:0.275108\n",
      "[38]\ttrain-logloss:0.273441\teval-logloss:0.274473\n",
      "[39]\ttrain-logloss:0.272679\teval-logloss:0.27371\n",
      "[40]\ttrain-logloss:0.272043\teval-logloss:0.273079\n",
      "[41]\ttrain-logloss:0.271617\teval-logloss:0.272667\n",
      "[42]\ttrain-logloss:0.271219\teval-logloss:0.272308\n",
      "[43]\ttrain-logloss:0.270718\teval-logloss:0.271862\n",
      "[44]\ttrain-logloss:0.2702\teval-logloss:0.271352\n",
      "[45]\ttrain-logloss:0.269853\teval-logloss:0.271021\n",
      "[46]\ttrain-logloss:0.269519\teval-logloss:0.270712\n",
      "[47]\ttrain-logloss:0.269197\teval-logloss:0.27043\n",
      "[48]\ttrain-logloss:0.268957\teval-logloss:0.270232\n",
      "[49]\ttrain-logloss:0.268555\teval-logloss:0.269841\n",
      "[50]\ttrain-logloss:0.268355\teval-logloss:0.269645\n",
      "[51]\ttrain-logloss:0.268095\teval-logloss:0.26943\n",
      "[52]\ttrain-logloss:0.267915\teval-logloss:0.269253\n",
      "[53]\ttrain-logloss:0.267635\teval-logloss:0.26899\n",
      "[54]\ttrain-logloss:0.267255\teval-logloss:0.268632\n",
      "[55]\ttrain-logloss:0.26705\teval-logloss:0.268448\n",
      "[56]\ttrain-logloss:0.266647\teval-logloss:0.268079\n",
      "[57]\ttrain-logloss:0.26646\teval-logloss:0.267925\n",
      "[58]\ttrain-logloss:0.266147\teval-logloss:0.26764\n",
      "[59]\ttrain-logloss:0.265994\teval-logloss:0.26752\n",
      "[60]\ttrain-logloss:0.265607\teval-logloss:0.26716\n",
      "[61]\ttrain-logloss:0.265442\teval-logloss:0.267016\n",
      "[62]\ttrain-logloss:0.265285\teval-logloss:0.266878\n",
      "[63]\ttrain-logloss:0.264836\teval-logloss:0.266458\n",
      "[64]\ttrain-logloss:0.26469\teval-logloss:0.266349\n",
      "[65]\ttrain-logloss:0.264401\teval-logloss:0.266085\n",
      "[66]\ttrain-logloss:0.264166\teval-logloss:0.265862\n",
      "[67]\ttrain-logloss:0.264007\teval-logloss:0.265737\n",
      "[68]\ttrain-logloss:0.263855\teval-logloss:0.265624\n",
      "[69]\ttrain-logloss:0.263597\teval-logloss:0.265355\n",
      "[70]\ttrain-logloss:0.263247\teval-logloss:0.265012\n",
      "[71]\ttrain-logloss:0.263005\teval-logloss:0.264802\n",
      "[72]\ttrain-logloss:0.262908\teval-logloss:0.264729\n",
      "[73]\ttrain-logloss:0.262684\teval-logloss:0.264529\n",
      "[74]\ttrain-logloss:0.26242\teval-logloss:0.264294\n",
      "[75]\ttrain-logloss:0.262062\teval-logloss:0.263949\n",
      "[76]\ttrain-logloss:0.261768\teval-logloss:0.263674\n",
      "[77]\ttrain-logloss:0.261638\teval-logloss:0.263569\n",
      "[78]\ttrain-logloss:0.261436\teval-logloss:0.263381\n",
      "[79]\ttrain-logloss:0.261336\teval-logloss:0.263298\n",
      "[80]\ttrain-logloss:0.261069\teval-logloss:0.263048\n",
      "[81]\ttrain-logloss:0.260919\teval-logloss:0.262916\n",
      "[82]\ttrain-logloss:0.260748\teval-logloss:0.262776\n",
      "[83]\ttrain-logloss:0.260645\teval-logloss:0.262678\n",
      "[84]\ttrain-logloss:0.260472\teval-logloss:0.262508\n",
      "[85]\ttrain-logloss:0.260281\teval-logloss:0.262348\n",
      "[86]\ttrain-logloss:0.260139\teval-logloss:0.262243\n",
      "[87]\ttrain-logloss:0.260024\teval-logloss:0.262156\n",
      "[88]\ttrain-logloss:0.259933\teval-logloss:0.26209\n",
      "[89]\ttrain-logloss:0.259817\teval-logloss:0.261993\n",
      "[90]\ttrain-logloss:0.259696\teval-logloss:0.261888\n",
      "[91]\ttrain-logloss:0.259588\teval-logloss:0.261792\n",
      "[92]\ttrain-logloss:0.259432\teval-logloss:0.26166\n",
      "[93]\ttrain-logloss:0.25925\teval-logloss:0.261515\n",
      "[94]\ttrain-logloss:0.259004\teval-logloss:0.261298\n",
      "[95]\ttrain-logloss:0.258901\teval-logloss:0.26123\n",
      "[96]\ttrain-logloss:0.258801\teval-logloss:0.261162\n",
      "[97]\ttrain-logloss:0.258563\teval-logloss:0.26096\n",
      "[98]\ttrain-logloss:0.25833\teval-logloss:0.260721\n",
      "[99]\ttrain-logloss:0.258277\teval-logloss:0.260676\n",
      "[100]\ttrain-logloss:0.258163\teval-logloss:0.260575\n",
      "[101]\ttrain-logloss:0.25804\teval-logloss:0.260492\n",
      "[102]\ttrain-logloss:0.257747\teval-logloss:0.26023\n",
      "[103]\ttrain-logloss:0.257652\teval-logloss:0.260151\n",
      "[104]\ttrain-logloss:0.257537\teval-logloss:0.260061\n",
      "[105]\ttrain-logloss:0.257276\teval-logloss:0.259817\n",
      "[106]\ttrain-logloss:0.257204\teval-logloss:0.259749\n",
      "[107]\ttrain-logloss:0.257081\teval-logloss:0.259636\n",
      "[108]\ttrain-logloss:0.256971\teval-logloss:0.259559\n",
      "[109]\ttrain-logloss:0.256878\teval-logloss:0.259495\n",
      "[110]\ttrain-logloss:0.256673\teval-logloss:0.259333\n",
      "[111]\ttrain-logloss:0.25652\teval-logloss:0.259203\n",
      "[112]\ttrain-logloss:0.256443\teval-logloss:0.259157\n",
      "[113]\ttrain-logloss:0.256374\teval-logloss:0.259121\n",
      "[114]\ttrain-logloss:0.256188\teval-logloss:0.258939\n",
      "[115]\ttrain-logloss:0.256081\teval-logloss:0.258841\n",
      "[116]\ttrain-logloss:0.255993\teval-logloss:0.258762\n",
      "[117]\ttrain-logloss:0.255743\teval-logloss:0.258549\n",
      "[118]\ttrain-logloss:0.25563\teval-logloss:0.258446\n",
      "[119]\ttrain-logloss:0.255591\teval-logloss:0.258421\n",
      "[120]\ttrain-logloss:0.25554\teval-logloss:0.258399\n",
      "[121]\ttrain-logloss:0.255471\teval-logloss:0.25835\n",
      "[122]\ttrain-logloss:0.255229\teval-logloss:0.258125\n",
      "[123]\ttrain-logloss:0.255139\teval-logloss:0.258059\n",
      "[124]\ttrain-logloss:0.255006\teval-logloss:0.257957\n",
      "[125]\ttrain-logloss:0.254933\teval-logloss:0.257918\n",
      "[126]\ttrain-logloss:0.254795\teval-logloss:0.257821\n",
      "[127]\ttrain-logloss:0.254712\teval-logloss:0.257744\n",
      "[128]\ttrain-logloss:0.254605\teval-logloss:0.25765\n",
      "[129]\ttrain-logloss:0.254555\teval-logloss:0.257608\n",
      "[130]\ttrain-logloss:0.254477\teval-logloss:0.257553\n",
      "[131]\ttrain-logloss:0.254396\teval-logloss:0.257481\n",
      "[132]\ttrain-logloss:0.254338\teval-logloss:0.257439\n",
      "[133]\ttrain-logloss:0.254131\teval-logloss:0.257242\n",
      "[134]\ttrain-logloss:0.253799\teval-logloss:0.256912\n",
      "[135]\ttrain-logloss:0.253709\teval-logloss:0.256849\n",
      "[136]\ttrain-logloss:0.253667\teval-logloss:0.25682\n",
      "[137]\ttrain-logloss:0.253506\teval-logloss:0.256674\n",
      "[138]\ttrain-logloss:0.25345\teval-logloss:0.256626\n",
      "[139]\ttrain-logloss:0.253318\teval-logloss:0.256523\n",
      "[140]\ttrain-logloss:0.253226\teval-logloss:0.256452\n",
      "[141]\ttrain-logloss:0.253155\teval-logloss:0.256399\n",
      "[142]\ttrain-logloss:0.253029\teval-logloss:0.256268\n",
      "[143]\ttrain-logloss:0.252972\teval-logloss:0.256224\n",
      "[144]\ttrain-logloss:0.252824\teval-logloss:0.256111\n",
      "[145]\ttrain-logloss:0.252669\teval-logloss:0.255967\n",
      "[146]\ttrain-logloss:0.252611\teval-logloss:0.255922\n",
      "[147]\ttrain-logloss:0.252452\teval-logloss:0.255803\n",
      "[148]\ttrain-logloss:0.252365\teval-logloss:0.255742\n",
      "[149]\ttrain-logloss:0.252121\teval-logloss:0.255499\n",
      "[150]\ttrain-logloss:0.252058\teval-logloss:0.255467\n",
      "[151]\ttrain-logloss:0.252035\teval-logloss:0.255448\n",
      "[152]\ttrain-logloss:0.251997\teval-logloss:0.255417\n",
      "[153]\ttrain-logloss:0.251915\teval-logloss:0.255337\n",
      "[154]\ttrain-logloss:0.251832\teval-logloss:0.255279\n",
      "[155]\ttrain-logloss:0.251723\teval-logloss:0.255187\n",
      "[156]\ttrain-logloss:0.251546\teval-logloss:0.255064\n",
      "[157]\ttrain-logloss:0.251377\teval-logloss:0.254929\n",
      "[158]\ttrain-logloss:0.251252\teval-logloss:0.254824\n",
      "[159]\ttrain-logloss:0.251154\teval-logloss:0.254755\n",
      "[160]\ttrain-logloss:0.251034\teval-logloss:0.25466\n",
      "[161]\ttrain-logloss:0.250943\teval-logloss:0.254591\n",
      "[162]\ttrain-logloss:0.250894\teval-logloss:0.254555\n",
      "[163]\ttrain-logloss:0.250799\teval-logloss:0.254484\n",
      "[164]\ttrain-logloss:0.250626\teval-logloss:0.254319\n",
      "[165]\ttrain-logloss:0.250502\teval-logloss:0.254225\n",
      "[166]\ttrain-logloss:0.250445\teval-logloss:0.254176\n",
      "[167]\ttrain-logloss:0.250415\teval-logloss:0.254164\n",
      "[168]\ttrain-logloss:0.250331\teval-logloss:0.254103\n",
      "[169]\ttrain-logloss:0.250144\teval-logloss:0.25392\n",
      "[170]\ttrain-logloss:0.250124\teval-logloss:0.253907\n",
      "[171]\ttrain-logloss:0.250045\teval-logloss:0.253855\n",
      "[172]\ttrain-logloss:0.249986\teval-logloss:0.253805\n",
      "[173]\ttrain-logloss:0.249942\teval-logloss:0.253779\n",
      "[174]\ttrain-logloss:0.249823\teval-logloss:0.253686\n",
      "[175]\ttrain-logloss:0.249614\teval-logloss:0.253478\n",
      "[176]\ttrain-logloss:0.249516\teval-logloss:0.253423\n",
      "[177]\ttrain-logloss:0.249465\teval-logloss:0.253406\n",
      "[178]\ttrain-logloss:0.249441\teval-logloss:0.253389\n",
      "[179]\ttrain-logloss:0.249306\teval-logloss:0.253281\n",
      "[180]\ttrain-logloss:0.249286\teval-logloss:0.253271\n",
      "[181]\ttrain-logloss:0.249263\teval-logloss:0.253257\n",
      "[182]\ttrain-logloss:0.249134\teval-logloss:0.253176\n",
      "[183]\ttrain-logloss:0.249082\teval-logloss:0.25314\n",
      "[184]\ttrain-logloss:0.248958\teval-logloss:0.253044\n",
      "[185]\ttrain-logloss:0.248931\teval-logloss:0.253021\n",
      "[186]\ttrain-logloss:0.24888\teval-logloss:0.253\n",
      "[187]\ttrain-logloss:0.248821\teval-logloss:0.252961\n",
      "[188]\ttrain-logloss:0.248708\teval-logloss:0.252867\n",
      "[189]\ttrain-logloss:0.248606\teval-logloss:0.252773\n",
      "[190]\ttrain-logloss:0.248596\teval-logloss:0.252766\n",
      "[191]\ttrain-logloss:0.248489\teval-logloss:0.252672\n",
      "[192]\ttrain-logloss:0.248426\teval-logloss:0.252635\n",
      "[193]\ttrain-logloss:0.248323\teval-logloss:0.252545\n",
      "[194]\ttrain-logloss:0.248193\teval-logloss:0.252438\n",
      "[195]\ttrain-logloss:0.248129\teval-logloss:0.252401\n",
      "[196]\ttrain-logloss:0.248044\teval-logloss:0.252339\n",
      "[197]\ttrain-logloss:0.247989\teval-logloss:0.252316\n",
      "[198]\ttrain-logloss:0.24796\teval-logloss:0.252304\n",
      "[199]\ttrain-logloss:0.247942\teval-logloss:0.252296\n",
      "[200]\ttrain-logloss:0.247896\teval-logloss:0.252254\n",
      "[201]\ttrain-logloss:0.24784\teval-logloss:0.252218\n",
      "[202]\ttrain-logloss:0.247828\teval-logloss:0.252217\n",
      "[203]\ttrain-logloss:0.247768\teval-logloss:0.252166\n",
      "[204]\ttrain-logloss:0.247607\teval-logloss:0.252015\n",
      "[205]\ttrain-logloss:0.247508\teval-logloss:0.251934\n",
      "[206]\ttrain-logloss:0.247448\teval-logloss:0.251906\n",
      "[207]\ttrain-logloss:0.247318\teval-logloss:0.251806\n",
      "[208]\ttrain-logloss:0.247215\teval-logloss:0.251725\n",
      "[209]\ttrain-logloss:0.247179\teval-logloss:0.251693\n",
      "[210]\ttrain-logloss:0.247103\teval-logloss:0.251658\n",
      "[211]\ttrain-logloss:0.247037\teval-logloss:0.251606\n",
      "[212]\ttrain-logloss:0.24677\teval-logloss:0.251341\n",
      "[213]\ttrain-logloss:0.246745\teval-logloss:0.251318\n",
      "[214]\ttrain-logloss:0.246698\teval-logloss:0.25129\n",
      "[215]\ttrain-logloss:0.246658\teval-logloss:0.251265\n",
      "[216]\ttrain-logloss:0.24664\teval-logloss:0.251255\n",
      "[217]\ttrain-logloss:0.246553\teval-logloss:0.251178\n",
      "[218]\ttrain-logloss:0.246454\teval-logloss:0.251115\n",
      "[219]\ttrain-logloss:0.246384\teval-logloss:0.251067\n",
      "[220]\ttrain-logloss:0.246324\teval-logloss:0.251025\n",
      "[221]\ttrain-logloss:0.246213\teval-logloss:0.250931\n",
      "[222]\ttrain-logloss:0.246102\teval-logloss:0.250845\n",
      "[223]\ttrain-logloss:0.246051\teval-logloss:0.250805\n",
      "[224]\ttrain-logloss:0.245948\teval-logloss:0.25073\n",
      "[225]\ttrain-logloss:0.245897\teval-logloss:0.250699\n",
      "[226]\ttrain-logloss:0.245849\teval-logloss:0.250671\n",
      "[227]\ttrain-logloss:0.245739\teval-logloss:0.250598\n",
      "[228]\ttrain-logloss:0.245686\teval-logloss:0.250571\n",
      "[229]\ttrain-logloss:0.245624\teval-logloss:0.250523\n",
      "[230]\ttrain-logloss:0.245536\teval-logloss:0.250461\n",
      "[231]\ttrain-logloss:0.245497\teval-logloss:0.250431\n",
      "[232]\ttrain-logloss:0.245449\teval-logloss:0.250387\n",
      "[233]\ttrain-logloss:0.245441\teval-logloss:0.250384\n",
      "[234]\ttrain-logloss:0.245415\teval-logloss:0.250375\n",
      "[235]\ttrain-logloss:0.245364\teval-logloss:0.250347\n",
      "[236]\ttrain-logloss:0.245334\teval-logloss:0.250333\n",
      "[237]\ttrain-logloss:0.245247\teval-logloss:0.250238\n",
      "[238]\ttrain-logloss:0.245084\teval-logloss:0.250096\n",
      "[239]\ttrain-logloss:0.245061\teval-logloss:0.250078\n",
      "[240]\ttrain-logloss:0.245032\teval-logloss:0.250068\n",
      "[241]\ttrain-logloss:0.245019\teval-logloss:0.250063\n",
      "[242]\ttrain-logloss:0.245013\teval-logloss:0.250061\n",
      "[243]\ttrain-logloss:0.244892\teval-logloss:0.24997\n",
      "[244]\ttrain-logloss:0.244852\teval-logloss:0.249946\n",
      "[245]\ttrain-logloss:0.244802\teval-logloss:0.249918\n",
      "[246]\ttrain-logloss:0.244687\teval-logloss:0.249829\n",
      "[247]\ttrain-logloss:0.244644\teval-logloss:0.249814\n",
      "[248]\ttrain-logloss:0.244618\teval-logloss:0.249801\n",
      "[249]\ttrain-logloss:0.244574\teval-logloss:0.249771\n",
      "[250]\ttrain-logloss:0.244469\teval-logloss:0.249666\n",
      "[251]\ttrain-logloss:0.244452\teval-logloss:0.249663\n",
      "[252]\ttrain-logloss:0.244397\teval-logloss:0.249628\n",
      "[253]\ttrain-logloss:0.244339\teval-logloss:0.249595\n",
      "[254]\ttrain-logloss:0.244265\teval-logloss:0.249559\n",
      "[255]\ttrain-logloss:0.244185\teval-logloss:0.24951\n",
      "[256]\ttrain-logloss:0.244139\teval-logloss:0.249475\n",
      "[257]\ttrain-logloss:0.244046\teval-logloss:0.249423\n",
      "[258]\ttrain-logloss:0.243973\teval-logloss:0.249362\n",
      "[259]\ttrain-logloss:0.243919\teval-logloss:0.249327\n",
      "[260]\ttrain-logloss:0.243898\teval-logloss:0.249319\n",
      "[261]\ttrain-logloss:0.243881\teval-logloss:0.249316\n",
      "[262]\ttrain-logloss:0.243874\teval-logloss:0.249313\n",
      "[263]\ttrain-logloss:0.243798\teval-logloss:0.249262\n",
      "[264]\ttrain-logloss:0.243723\teval-logloss:0.249218\n",
      "[265]\ttrain-logloss:0.243719\teval-logloss:0.249216\n",
      "[266]\ttrain-logloss:0.243709\teval-logloss:0.249212\n",
      "[267]\ttrain-logloss:0.243643\teval-logloss:0.249158\n",
      "[268]\ttrain-logloss:0.24356\teval-logloss:0.249095\n",
      "[269]\ttrain-logloss:0.243534\teval-logloss:0.249085\n",
      "[270]\ttrain-logloss:0.243467\teval-logloss:0.249036\n",
      "[271]\ttrain-logloss:0.243422\teval-logloss:0.24902\n",
      "[272]\ttrain-logloss:0.243387\teval-logloss:0.248998\n",
      "[273]\ttrain-logloss:0.243356\teval-logloss:0.248978\n",
      "[274]\ttrain-logloss:0.243337\teval-logloss:0.248969\n",
      "[275]\ttrain-logloss:0.243262\teval-logloss:0.248922\n",
      "[276]\ttrain-logloss:0.243193\teval-logloss:0.248869\n",
      "[277]\ttrain-logloss:0.243139\teval-logloss:0.248837\n",
      "[278]\ttrain-logloss:0.24307\teval-logloss:0.248796\n",
      "[279]\ttrain-logloss:0.243028\teval-logloss:0.248764\n",
      "[280]\ttrain-logloss:0.242979\teval-logloss:0.248731\n",
      "[281]\ttrain-logloss:0.242922\teval-logloss:0.248687\n",
      "[282]\ttrain-logloss:0.242894\teval-logloss:0.248664\n",
      "[283]\ttrain-logloss:0.242829\teval-logloss:0.248614\n",
      "[284]\ttrain-logloss:0.242724\teval-logloss:0.24853\n",
      "[285]\ttrain-logloss:0.242686\teval-logloss:0.248509\n",
      "[286]\ttrain-logloss:0.242681\teval-logloss:0.248506\n",
      "[287]\ttrain-logloss:0.242675\teval-logloss:0.248503\n",
      "[288]\ttrain-logloss:0.242667\teval-logloss:0.248503\n",
      "[289]\ttrain-logloss:0.242576\teval-logloss:0.24844\n",
      "[290]\ttrain-logloss:0.242514\teval-logloss:0.248398\n",
      "[291]\ttrain-logloss:0.242479\teval-logloss:0.24838\n",
      "[292]\ttrain-logloss:0.242472\teval-logloss:0.248377\n",
      "[293]\ttrain-logloss:0.242447\teval-logloss:0.248367\n",
      "[294]\ttrain-logloss:0.242391\teval-logloss:0.248351\n",
      "[295]\ttrain-logloss:0.242357\teval-logloss:0.24833\n",
      "[296]\ttrain-logloss:0.242342\teval-logloss:0.248325\n",
      "[297]\ttrain-logloss:0.242314\teval-logloss:0.248302\n",
      "[298]\ttrain-logloss:0.242259\teval-logloss:0.248271\n",
      "[299]\ttrain-logloss:0.242194\teval-logloss:0.248224\n",
      "[300]\ttrain-logloss:0.242114\teval-logloss:0.248167\n",
      "[301]\ttrain-logloss:0.242043\teval-logloss:0.248125\n",
      "[302]\ttrain-logloss:0.242003\teval-logloss:0.248096\n",
      "[303]\ttrain-logloss:0.241981\teval-logloss:0.248082\n",
      "[304]\ttrain-logloss:0.241954\teval-logloss:0.248069\n",
      "[305]\ttrain-logloss:0.241949\teval-logloss:0.248063\n",
      "[306]\ttrain-logloss:0.241876\teval-logloss:0.247997\n",
      "[307]\ttrain-logloss:0.241865\teval-logloss:0.24799\n",
      "[308]\ttrain-logloss:0.241862\teval-logloss:0.247991\n",
      "[309]\ttrain-logloss:0.241857\teval-logloss:0.247986\n",
      "[310]\ttrain-logloss:0.241757\teval-logloss:0.247907\n",
      "[311]\ttrain-logloss:0.241664\teval-logloss:0.247849\n",
      "[312]\ttrain-logloss:0.241618\teval-logloss:0.247819\n",
      "[313]\ttrain-logloss:0.24151\teval-logloss:0.247736\n",
      "[314]\ttrain-logloss:0.241484\teval-logloss:0.247724\n"
     ]
    }
   ],
   "source": [
    "print(\"Training data: X_train: {}, Y_train: {}, X_test: {}\".format(x_train.shape, len(y_train), x_test.shape))\n",
    "clr = train_xgb(x_train, y_train, params)\n",
    "preds = predict_xgb(clr, x_test)"
   ]
  },
  {
   "cell_type": "code",
   "execution_count": 30,
   "metadata": {
    "scrolled": true
   },
   "outputs": [
    {
     "name": "stdout",
     "output_type": "stream",
     "text": [
      "Writing output...\n",
      "Features importances...\n"
     ]
    },
    {
     "data": {
      "image/png": "[encoded data removed]",
      "text/plain": [
       "<matplotlib.figure.Figure at 0x11240e4e0>"
      ]
     },
     "metadata": {},
     "output_type": "display_data"
    }
   ],
   "source": [
    "print(\"Writing output...\")\n",
    "sub = pd.DataFrame()\n",
    "sub['test_id'] = df_test['test_id']\n",
    "sub['is_duplicate'] = preds *.75\n",
    "sub.to_csv(\"xgb_seed{}_n{}.csv\".format(RS, ROUNDS), index=False)\n",
    "\n",
    "print(\"Features importances...\")\n",
    "importance = clr.get_fscore(fmap='xgb.fmap')\n",
    "importance = sorted(importance.items(), key=operator.itemgetter(1))\n",
    "ft = pd.DataFrame(importance, columns=['feature', 'fscore'])\n",
    "\n",
    "ft.plot(kind='barh', x='feature', y='fscore', legend=False, figsize=(10, 25))\n",
    "plt.gcf().savefig('features_importance.png')"
   ]
  },
  {
   "cell_type": "code",
   "execution_count": null,
   "metadata": {
    "collapsed": true
   },
   "outputs": [],
   "source": []
  }
 ],
 "metadata": {
  "kernelspec": {
   "display_name": "Python 3",
   "language": "python",
   "name": "python3"
  },
  "language_info": {
   "codemirror_mode": {
    "name": "ipython",
    "version": 3
   },
   "file_extension": ".py",
   "mimetype": "text/x-python",
   "name": "python",
   "nbconvert_exporter": "python",
   "pygments_lexer": "ipython3",
   "version": "3.6.1"
  }
 },
 "nbformat": 4,
 "nbformat_minor": 1
}
