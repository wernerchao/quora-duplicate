{
 "cells": [
  {
   "cell_type": "code",
   "execution_count": 1,
   "metadata": {
    "collapsed": true
   },
   "outputs": [],
   "source": [
    "%matplotlib inline\n",
    "\n",
    "import numpy as np\n",
    "import pandas as pd\n",
    "from sklearn.metrics import log_loss, make_scorer, accuracy_score\n",
    "from sklearn.linear_model import LogisticRegression\n",
    "from scipy import sparse\n",
    "import matplotlib.pyplot as plt"
   ]
  },
  {
   "cell_type": "code",
   "execution_count": 2,
   "metadata": {
    "collapsed": true
   },
   "outputs": [],
   "source": [
    "xgb_train = pd.read_csv('./xgb_stack/xgb_layer_1_train.csv')\n",
    "xgb_val = pd.read_csv('./xgb_stack/xgb_layer_1_val.csv')\n",
    "# fm_train = pd.read_csv('./fm_stack/fm_layer_1_train.csv')\n",
    "# fm_val = pd.read_csv('./fm_stack/fm_layer_1_val.csv')\n",
    "rf_train = pd.read_csv('./rf_stack/rf_layer_1_train.csv')\n",
    "rf_val = pd.read_csv('./rf_stack/rf_layer_1_val.csv')"
   ]
  },
  {
   "cell_type": "code",
   "execution_count": 3,
   "metadata": {
    "collapsed": true
   },
   "outputs": [],
   "source": [
    "fold1_index = pd.read_csv('./index/fold1_index.csv')\n",
    "fold2_index = pd.read_csv('./index/fold2_index.csv')\n",
    "validation_index = pd.read_csv('./index/validation_index.csv')\n",
    "y_train = pd.read_csv('../kaggle-quora/features/y_train_oversampled.csv')\n",
    "\n",
    "y_train_fold1 = y_train.loc[fold1_index.values.flatten(), :]\n",
    "y_train_fold2 = y_train.loc[fold2_index.values.flatten(), :]\n",
    "y_validation_fold = y_train.loc[validation_index.values.flatten(), :]"
   ]
  },
  {
   "cell_type": "code",
   "execution_count": 4,
   "metadata": {},
   "outputs": [
    {
     "data": {
      "text/html": [
       "<div>\n",
       "<style>\n",
       "    .dataframe thead tr:only-child th {\n",
       "        text-align: right;\n",
       "    }\n",
       "\n",
       "    .dataframe thead th {\n",
       "        text-align: left;\n",
       "    }\n",
       "\n",
       "    .dataframe tbody tr th {\n",
       "        vertical-align: top;\n",
       "    }\n",
       "</style>\n",
       "<table border=\"1\" class=\"dataframe\">\n",
       "  <thead>\n",
       "    <tr style=\"text-align: right;\">\n",
       "      <th></th>\n",
       "      <th>xgb_layer_1_train</th>\n",
       "      <th>rf_layer_1_train</th>\n",
       "    </tr>\n",
       "  </thead>\n",
       "  <tbody>\n",
       "    <tr>\n",
       "      <th>0</th>\n",
       "      <td>0.266854</td>\n",
       "      <td>0.260000</td>\n",
       "    </tr>\n",
       "    <tr>\n",
       "      <th>1</th>\n",
       "      <td>0.381091</td>\n",
       "      <td>0.346667</td>\n",
       "    </tr>\n",
       "    <tr>\n",
       "      <th>2</th>\n",
       "      <td>0.245272</td>\n",
       "      <td>0.240000</td>\n",
       "    </tr>\n",
       "    <tr>\n",
       "      <th>3</th>\n",
       "      <td>0.762464</td>\n",
       "      <td>0.493333</td>\n",
       "    </tr>\n",
       "    <tr>\n",
       "      <th>4</th>\n",
       "      <td>0.219644</td>\n",
       "      <td>0.206667</td>\n",
       "    </tr>\n",
       "  </tbody>\n",
       "</table>\n",
       "</div>"
      ],
      "text/plain": [
       "   xgb_layer_1_train  rf_layer_1_train\n",
       "0           0.266854          0.260000\n",
       "1           0.381091          0.346667\n",
       "2           0.245272          0.240000\n",
       "3           0.762464          0.493333\n",
       "4           0.219644          0.206667"
      ]
     },
     "execution_count": 4,
     "metadata": {},
     "output_type": "execute_result"
    }
   ],
   "source": [
    "X_train_stack = pd.concat([xgb_train, rf_train], axis=1)\n",
    "X_val_stack = pd.concat([xgb_val, rf_val], axis=1)\n",
    "X_train_stack.head()"
   ]
  },
  {
   "cell_type": "code",
   "execution_count": 5,
   "metadata": {
    "collapsed": true
   },
   "outputs": [],
   "source": [
    "y_train_stack = pd.concat([y_train_fold1, y_train_fold2])"
   ]
  },
  {
   "cell_type": "code",
   "execution_count": 6,
   "metadata": {},
   "outputs": [
    {
     "name": "stdout",
     "output_type": "stream",
     "text": [
      "(520325, 2)\n",
      "(260161, 2)\n",
      "(520325, 1)\n"
     ]
    }
   ],
   "source": [
    "print(X_train_stack.shape)\n",
    "print(X_val_stack.shape)\n",
    "print(y_train_stack.shape)"
   ]
  },
  {
   "cell_type": "code",
   "execution_count": 10,
   "metadata": {},
   "outputs": [
    {
     "name": "stdout",
     "output_type": "stream",
     "text": [
      "0.199719662581\n",
      "0.211932018387\n"
     ]
    }
   ],
   "source": [
    "logit = LogisticRegression(C=1000)\n",
    "logit.fit(X_train_stack, y_train_stack['0'])\n",
    "logit_val = logit.predict_proba(X_val_stack)\n",
    "print(log_loss(y_train_stack['0'], pd.DataFrame(logit.predict_proba(X_train_stack))[1]))\n",
    "print(log_loss(y_validation_fold, pd.DataFrame(logit_val)[1]))\n",
    "\n",
    "#    1: 0.20114846208830159\n",
    "#   10: 0.20113978094252283\n",
    "#  100: 0.20113891529690833\n",
    "# 1000: 0.20113882875709824\n",
    "#10000: 0.20113882010336498"
   ]
  },
  {
   "cell_type": "code",
   "execution_count": 11,
   "metadata": {},
   "outputs": [],
   "source": [
    "xgb_x_test = pd.read_csv('./submission/xgb_jaccard_magic_seed12357_n315.csv')['is_duplicate']\n",
    "rf_x_test = pd.read_csv('./submission/submission_rf_layer_1_test.csv')['is_duplicate']\n",
    "# fm_x_test = pd.read_csv('./submission/fm_pred_jacad_magic.csv')['is_duplicate']\n",
    "X_test_stack = pd.concat((xgb_x_test, rf_x_test), axis=1)"
   ]
  },
  {
   "cell_type": "code",
   "execution_count": 12,
   "metadata": {
    "scrolled": true
   },
   "outputs": [
    {
     "data": {
      "text/plain": [
       "(2345796, 2)"
      ]
     },
     "execution_count": 12,
     "metadata": {},
     "output_type": "execute_result"
    }
   ],
   "source": [
    "logit_pred = logit.predict_proba(X_test_stack)\n",
    "(logit_pred.shape)"
   ]
  },
  {
   "cell_type": "code",
   "execution_count": 15,
   "metadata": {
    "collapsed": true
   },
   "outputs": [],
   "source": [
    "submission = pd.DataFrame()\n",
    "submission['test_id'] = X_test_stack.index.values\n",
    "submission['is_duplicate'] = pd.DataFrame(logit_pred)[1]\n",
    "submission.to_csv('stack_xgb_rf_prev_test.csv', index=False)"
   ]
  },
  {
   "cell_type": "code",
   "execution_count": 18,
   "metadata": {},
   "outputs": [
    {
     "data": {
      "text/html": [
       "<div>\n",
       "<style>\n",
       "    .dataframe thead tr:only-child th {\n",
       "        text-align: right;\n",
       "    }\n",
       "\n",
       "    .dataframe thead th {\n",
       "        text-align: left;\n",
       "    }\n",
       "\n",
       "    .dataframe tbody tr th {\n",
       "        vertical-align: top;\n",
       "    }\n",
       "</style>\n",
       "<table border=\"1\" class=\"dataframe\">\n",
       "  <thead>\n",
       "    <tr style=\"text-align: right;\">\n",
       "      <th></th>\n",
       "      <th>test_id</th>\n",
       "      <th>is_duplicate</th>\n",
       "    </tr>\n",
       "  </thead>\n",
       "  <tbody>\n",
       "    <tr>\n",
       "      <th>0</th>\n",
       "      <td>0</td>\n",
       "      <td>0.010460</td>\n",
       "    </tr>\n",
       "    <tr>\n",
       "      <th>1</th>\n",
       "      <td>1</td>\n",
       "      <td>0.984471</td>\n",
       "    </tr>\n",
       "    <tr>\n",
       "      <th>2</th>\n",
       "      <td>2</td>\n",
       "      <td>0.074735</td>\n",
       "    </tr>\n",
       "    <tr>\n",
       "      <th>3</th>\n",
       "      <td>3</td>\n",
       "      <td>0.006864</td>\n",
       "    </tr>\n",
       "    <tr>\n",
       "      <th>4</th>\n",
       "      <td>4</td>\n",
       "      <td>0.863128</td>\n",
       "    </tr>\n",
       "  </tbody>\n",
       "</table>\n",
       "</div>"
      ],
      "text/plain": [
       "   test_id  is_duplicate\n",
       "0        0      0.010460\n",
       "1        1      0.984471\n",
       "2        2      0.074735\n",
       "3        3      0.006864\n",
       "4        4      0.863128"
      ]
     },
     "execution_count": 18,
     "metadata": {},
     "output_type": "execute_result"
    }
   ],
   "source": [
    "submission = pd.read_csv('./stack_xgb_rf_prev_test.csv')\n",
    "submission.head()"
   ]
  },
  {
   "cell_type": "code",
   "execution_count": null,
   "metadata": {
    "collapsed": true
   },
   "outputs": [],
   "source": []
  }
 ],
 "metadata": {
  "kernelspec": {
   "display_name": "Python 3",
   "language": "python",
   "name": "python3"
  },
  "language_info": {
   "codemirror_mode": {
    "name": "ipython",
    "version": 3
   },
   "file_extension": ".py",
   "mimetype": "text/x-python",
   "name": "python",
   "nbconvert_exporter": "python",
   "pygments_lexer": "ipython3",
   "version": "3.6.1"
  }
 },
 "nbformat": 4,
 "nbformat_minor": 2
}
